{
 "cells": [
  {
   "cell_type": "code",
   "execution_count": 1,
   "metadata": {},
   "outputs": [],
   "source": [
    "import os\n",
    "os.environ[\"POLARS_MAX_THREADS\"] = str(os.cpu_count())  # Utilize all available cores\n"
   ]
  },
  {
   "cell_type": "code",
   "execution_count": 1,
   "metadata": {},
   "outputs": [],
   "source": [
    "path = \"G:\\JaneStreetReal\\jane-street-real-time-market-data-forecasting\""
   ]
  },
  {
   "cell_type": "markdown",
   "metadata": {},
   "source": [
    "**ANALAZING WHOLE DATA WITH POLARS -> First appraoch**"
   ]
  },
  {
   "cell_type": "code",
   "execution_count": 2,
   "metadata": {},
   "outputs": [],
   "source": [
    "import dask.dataframe as dd\n",
    "import plotly.express as px\n",
    "import matplotlib.pyplot as plt\n",
    "import seaborn as sns\n",
    "import gc\n",
    "import pandas as pd\n",
    "import polars as pl\n",
    "import numpy as np\n",
    "from statsmodels.graphics.tsaplots import plot_acf, plot_pacf"
   ]
  },
  {
   "cell_type": "code",
   "execution_count": 9,
   "metadata": {},
   "outputs": [],
   "source": [
    "df = pl.read_parquet(f\"{path}/train.parquet\", memory_map=True)"
   ]
  },
  {
   "cell_type": "code",
   "execution_count": 10,
   "metadata": {},
   "outputs": [
    {
     "data": {
      "text/html": [
       "<div><style>\n",
       ".dataframe > thead > tr,\n",
       ".dataframe > tbody > tr {\n",
       "  text-align: right;\n",
       "  white-space: pre-wrap;\n",
       "}\n",
       "</style>\n",
       "<small>shape: (47_127_338, 93)</small><table border=\"1\" class=\"dataframe\"><thead><tr><th>date_id</th><th>time_id</th><th>symbol_id</th><th>weight</th><th>feature_00</th><th>feature_01</th><th>feature_02</th><th>feature_03</th><th>feature_04</th><th>feature_05</th><th>feature_06</th><th>feature_07</th><th>feature_08</th><th>feature_09</th><th>feature_10</th><th>feature_11</th><th>feature_12</th><th>feature_13</th><th>feature_14</th><th>feature_15</th><th>feature_16</th><th>feature_17</th><th>feature_18</th><th>feature_19</th><th>feature_20</th><th>feature_21</th><th>feature_22</th><th>feature_23</th><th>feature_24</th><th>feature_25</th><th>feature_26</th><th>feature_27</th><th>feature_28</th><th>feature_29</th><th>feature_30</th><th>feature_31</th><th>feature_32</th><th>&hellip;</th><th>feature_52</th><th>feature_53</th><th>feature_54</th><th>feature_55</th><th>feature_56</th><th>feature_57</th><th>feature_58</th><th>feature_59</th><th>feature_60</th><th>feature_61</th><th>feature_62</th><th>feature_63</th><th>feature_64</th><th>feature_65</th><th>feature_66</th><th>feature_67</th><th>feature_68</th><th>feature_69</th><th>feature_70</th><th>feature_71</th><th>feature_72</th><th>feature_73</th><th>feature_74</th><th>feature_75</th><th>feature_76</th><th>feature_77</th><th>feature_78</th><th>responder_0</th><th>responder_1</th><th>responder_2</th><th>responder_3</th><th>responder_4</th><th>responder_5</th><th>responder_6</th><th>responder_7</th><th>responder_8</th><th>partition_id</th></tr><tr><td>i16</td><td>i16</td><td>i8</td><td>f32</td><td>f32</td><td>f32</td><td>f32</td><td>f32</td><td>f32</td><td>f32</td><td>f32</td><td>f32</td><td>f32</td><td>i8</td><td>i8</td><td>i16</td><td>f32</td><td>f32</td><td>f32</td><td>f32</td><td>f32</td><td>f32</td><td>f32</td><td>f32</td><td>f32</td><td>f32</td><td>f32</td><td>f32</td><td>f32</td><td>f32</td><td>f32</td><td>f32</td><td>f32</td><td>f32</td><td>f32</td><td>f32</td><td>f32</td><td>&hellip;</td><td>f32</td><td>f32</td><td>f32</td><td>f32</td><td>f32</td><td>f32</td><td>f32</td><td>f32</td><td>f32</td><td>f32</td><td>f32</td><td>f32</td><td>f32</td><td>f32</td><td>f32</td><td>f32</td><td>f32</td><td>f32</td><td>f32</td><td>f32</td><td>f32</td><td>f32</td><td>f32</td><td>f32</td><td>f32</td><td>f32</td><td>f32</td><td>f32</td><td>f32</td><td>f32</td><td>f32</td><td>f32</td><td>f32</td><td>f32</td><td>f32</td><td>f32</td><td>i64</td></tr></thead><tbody><tr><td>0</td><td>0</td><td>1</td><td>3.889038</td><td>null</td><td>null</td><td>null</td><td>null</td><td>null</td><td>0.851033</td><td>0.242971</td><td>0.2634</td><td>-0.891687</td><td>11</td><td>7</td><td>76</td><td>-0.883028</td><td>0.003067</td><td>-0.744703</td><td>null</td><td>-0.169586</td><td>null</td><td>-1.335938</td><td>-1.707803</td><td>0.91013</td><td>null</td><td>1.636431</td><td>1.522133</td><td>-1.551398</td><td>-0.229627</td><td>null</td><td>null</td><td>1.378301</td><td>-0.283712</td><td>0.123196</td><td>null</td><td>null</td><td>&hellip;</td><td>null</td><td>null</td><td>-0.808103</td><td>null</td><td>-2.037683</td><td>0.727661</td><td>null</td><td>-0.989118</td><td>-0.345213</td><td>-1.36224</td><td>null</td><td>null</td><td>null</td><td>null</td><td>null</td><td>-1.251104</td><td>-0.110252</td><td>-0.491157</td><td>-1.02269</td><td>0.152241</td><td>-0.659864</td><td>null</td><td>null</td><td>-0.261412</td><td>-0.211486</td><td>-0.335556</td><td>-0.281498</td><td>0.738489</td><td>-0.069556</td><td>1.380875</td><td>2.005353</td><td>0.186018</td><td>1.218368</td><td>0.775981</td><td>0.346999</td><td>0.095504</td><td>0</td></tr><tr><td>0</td><td>0</td><td>7</td><td>1.370613</td><td>null</td><td>null</td><td>null</td><td>null</td><td>null</td><td>0.676961</td><td>0.151984</td><td>0.192465</td><td>-0.521729</td><td>11</td><td>7</td><td>76</td><td>-0.865307</td><td>-0.225629</td><td>-0.582163</td><td>null</td><td>0.317467</td><td>null</td><td>-1.250016</td><td>-1.682929</td><td>1.412757</td><td>null</td><td>0.520378</td><td>0.744132</td><td>-0.788658</td><td>0.641776</td><td>null</td><td>null</td><td>0.2272</td><td>0.580907</td><td>1.128879</td><td>null</td><td>null</td><td>&hellip;</td><td>null</td><td>null</td><td>-1.625862</td><td>null</td><td>-1.410017</td><td>1.063013</td><td>null</td><td>0.888355</td><td>0.467994</td><td>-1.36224</td><td>null</td><td>null</td><td>null</td><td>null</td><td>null</td><td>-1.065759</td><td>0.013322</td><td>-0.592855</td><td>-1.052685</td><td>-0.393726</td><td>-0.741603</td><td>null</td><td>null</td><td>-0.281207</td><td>-0.182894</td><td>-0.245565</td><td>-0.302441</td><td>2.965889</td><td>1.190077</td><td>-0.523998</td><td>3.849921</td><td>2.626981</td><td>5.0</td><td>0.703665</td><td>0.216683</td><td>0.778639</td><td>0</td></tr><tr><td>0</td><td>0</td><td>9</td><td>2.285698</td><td>null</td><td>null</td><td>null</td><td>null</td><td>null</td><td>1.056285</td><td>0.187227</td><td>0.249901</td><td>-0.77305</td><td>11</td><td>7</td><td>76</td><td>-0.675719</td><td>-0.199404</td><td>-0.586798</td><td>null</td><td>-0.814909</td><td>null</td><td>-1.296782</td><td>-2.040234</td><td>0.639589</td><td>null</td><td>1.597359</td><td>0.657514</td><td>-1.350148</td><td>0.364215</td><td>null</td><td>null</td><td>-0.017751</td><td>-0.317361</td><td>-0.122379</td><td>null</td><td>null</td><td>&hellip;</td><td>null</td><td>null</td><td>-0.72542</td><td>null</td><td>-2.29417</td><td>1.764551</td><td>null</td><td>-0.120789</td><td>-0.063458</td><td>-1.36224</td><td>null</td><td>null</td><td>null</td><td>null</td><td>null</td><td>-0.882604</td><td>-0.072482</td><td>-0.617934</td><td>-0.86323</td><td>-0.241892</td><td>-0.709919</td><td>null</td><td>null</td><td>0.377131</td><td>0.300724</td><td>-0.106842</td><td>-0.096792</td><td>-0.864488</td><td>-0.280303</td><td>-0.326697</td><td>0.375781</td><td>1.271291</td><td>0.099793</td><td>2.109352</td><td>0.670881</td><td>0.772828</td><td>0</td></tr><tr><td>0</td><td>0</td><td>10</td><td>0.690606</td><td>null</td><td>null</td><td>null</td><td>null</td><td>null</td><td>1.139366</td><td>0.273328</td><td>0.306549</td><td>-1.262223</td><td>42</td><td>5</td><td>150</td><td>-0.694008</td><td>3.004091</td><td>0.114809</td><td>null</td><td>-0.251882</td><td>null</td><td>-1.902009</td><td>-0.979447</td><td>0.241165</td><td>null</td><td>-0.392359</td><td>-0.224699</td><td>-2.129397</td><td>-0.855287</td><td>null</td><td>null</td><td>0.404142</td><td>-0.578156</td><td>0.105702</td><td>null</td><td>null</td><td>&hellip;</td><td>null</td><td>null</td><td>1.313203</td><td>null</td><td>-0.810125</td><td>2.939022</td><td>null</td><td>3.988801</td><td>1.834661</td><td>-1.36224</td><td>null</td><td>null</td><td>null</td><td>null</td><td>null</td><td>-0.697595</td><td>1.074309</td><td>-0.206929</td><td>-0.530602</td><td>4.765215</td><td>0.571554</td><td>null</td><td>null</td><td>-0.226891</td><td>-0.251412</td><td>-0.215522</td><td>-0.296244</td><td>0.408499</td><td>0.223992</td><td>2.294888</td><td>1.097444</td><td>1.225872</td><td>1.225376</td><td>1.114137</td><td>0.775199</td><td>-1.379516</td><td>0</td></tr><tr><td>0</td><td>0</td><td>14</td><td>0.44057</td><td>null</td><td>null</td><td>null</td><td>null</td><td>null</td><td>0.9552</td><td>0.262404</td><td>0.344457</td><td>-0.613813</td><td>44</td><td>3</td><td>16</td><td>-0.947351</td><td>-0.030018</td><td>-0.502379</td><td>null</td><td>0.646086</td><td>null</td><td>-1.844685</td><td>-1.58656</td><td>-0.182024</td><td>null</td><td>-0.969949</td><td>-0.673813</td><td>-1.282132</td><td>-1.399894</td><td>null</td><td>null</td><td>0.043815</td><td>-0.320225</td><td>-0.031713</td><td>null</td><td>null</td><td>&hellip;</td><td>null</td><td>null</td><td>0.476195</td><td>null</td><td>-0.771732</td><td>2.843421</td><td>null</td><td>1.379815</td><td>0.411827</td><td>-1.36224</td><td>null</td><td>null</td><td>null</td><td>null</td><td>null</td><td>-0.948601</td><td>-0.136814</td><td>-0.447704</td><td>-1.141761</td><td>0.099631</td><td>-0.661928</td><td>null</td><td>null</td><td>3.678076</td><td>2.793581</td><td>2.61825</td><td>3.418133</td><td>-0.373387</td><td>-0.502764</td><td>-0.348021</td><td>-3.928148</td><td>-1.591366</td><td>-5.0</td><td>-3.57282</td><td>-1.089123</td><td>-5.0</td><td>0</td></tr><tr><td>&hellip;</td><td>&hellip;</td><td>&hellip;</td><td>&hellip;</td><td>&hellip;</td><td>&hellip;</td><td>&hellip;</td><td>&hellip;</td><td>&hellip;</td><td>&hellip;</td><td>&hellip;</td><td>&hellip;</td><td>&hellip;</td><td>&hellip;</td><td>&hellip;</td><td>&hellip;</td><td>&hellip;</td><td>&hellip;</td><td>&hellip;</td><td>&hellip;</td><td>&hellip;</td><td>&hellip;</td><td>&hellip;</td><td>&hellip;</td><td>&hellip;</td><td>&hellip;</td><td>&hellip;</td><td>&hellip;</td><td>&hellip;</td><td>&hellip;</td><td>&hellip;</td><td>&hellip;</td><td>&hellip;</td><td>&hellip;</td><td>&hellip;</td><td>&hellip;</td><td>&hellip;</td><td>&hellip;</td><td>&hellip;</td><td>&hellip;</td><td>&hellip;</td><td>&hellip;</td><td>&hellip;</td><td>&hellip;</td><td>&hellip;</td><td>&hellip;</td><td>&hellip;</td><td>&hellip;</td><td>&hellip;</td><td>&hellip;</td><td>&hellip;</td><td>&hellip;</td><td>&hellip;</td><td>&hellip;</td><td>&hellip;</td><td>&hellip;</td><td>&hellip;</td><td>&hellip;</td><td>&hellip;</td><td>&hellip;</td><td>&hellip;</td><td>&hellip;</td><td>&hellip;</td><td>&hellip;</td><td>&hellip;</td><td>&hellip;</td><td>&hellip;</td><td>&hellip;</td><td>&hellip;</td><td>&hellip;</td><td>&hellip;</td><td>&hellip;</td><td>&hellip;</td><td>&hellip;</td><td>&hellip;</td></tr><tr><td>1698</td><td>967</td><td>34</td><td>3.242493</td><td>2.52516</td><td>-0.721981</td><td>2.544025</td><td>2.477615</td><td>0.417557</td><td>0.785812</td><td>1.117796</td><td>2.199436</td><td>0.415427</td><td>42</td><td>5</td><td>150</td><td>0.804403</td><td>1.157257</td><td>1.031543</td><td>-0.671189</td><td>-0.3286</td><td>-0.486132</td><td>1.730176</td><td>-0.006173</td><td>-0.001144</td><td>-0.213062</td><td>0.932618</td><td>1.367338</td><td>-0.238197</td><td>-0.692615</td><td>-0.121163</td><td>1.090798</td><td>1.444294</td><td>-0.675626</td><td>-1.013264</td><td>-0.242888</td><td>3.427639</td><td>&hellip;</td><td>0.953005</td><td>1.377051</td><td>-0.396358</td><td>0.520262</td><td>1.179617</td><td>1.127657</td><td>2.231928</td><td>0.614652</td><td>2.412886</td><td>-1.101531</td><td>-0.384833</td><td>-0.275818</td><td>-0.40804</td><td>2.427115</td><td>-0.108427</td><td>0.739734</td><td>0.830205</td><td>0.366287</td><td>1.33325</td><td>1.075499</td><td>1.798264</td><td>-0.183443</td><td>-0.190222</td><td>0.234211</td><td>0.347142</td><td>-0.044463</td><td>0.016936</td><td>0.243475</td><td>0.166927</td><td>0.38494</td><td>-0.174297</td><td>-0.066046</td><td>-0.038767</td><td>-0.132337</td><td>-0.022426</td><td>-0.252461</td><td>9</td></tr><tr><td>1698</td><td>967</td><td>35</td><td>1.079139</td><td>1.857906</td><td>-0.790646</td><td>2.745439</td><td>2.339877</td><td>0.845065</td><td>0.65137</td><td>1.180301</td><td>1.966379</td><td>0.321543</td><td>25</td><td>7</td><td>195</td><td>-0.075294</td><td>-0.152726</td><td>-0.20417</td><td>-0.421137</td><td>0.21708</td><td>-0.258775</td><td>1.874978</td><td>0.19988</td><td>-0.199219</td><td>-0.125619</td><td>-1.004547</td><td>-0.051933</td><td>0.450905</td><td>0.009246</td><td>0.164127</td><td>-0.939974</td><td>-1.143421</td><td>-0.320071</td><td>-0.379835</td><td>-0.142429</td><td>3.862469</td><td>&hellip;</td><td>-0.315776</td><td>0.687755</td><td>-1.189577</td><td>0.180146</td><td>-0.175486</td><td>-1.60435</td><td>-0.209283</td><td>0.249847</td><td>0.288816</td><td>-1.101531</td><td>-0.343868</td><td>-0.253991</td><td>-0.278832</td><td>2.050639</td><td>-0.059506</td><td>-0.029396</td><td>-0.101381</td><td>-0.187759</td><td>-0.180839</td><td>-0.0861</td><td>-0.153405</td><td>-0.196077</td><td>-0.175292</td><td>1.04578</td><td>0.739733</td><td>0.03372</td><td>0.05086</td><td>0.850152</td><td>0.909382</td><td>1.015314</td><td>0.235962</td><td>0.122539</td><td>0.099559</td><td>-0.249584</td><td>-0.123571</td><td>-0.46063</td><td>9</td></tr><tr><td>1698</td><td>967</td><td>36</td><td>1.033172</td><td>2.515527</td><td>-0.672298</td><td>2.28925</td><td>2.521592</td><td>0.255077</td><td>0.919892</td><td>1.172018</td><td>2.180496</td><td>0.24846</td><td>49</td><td>7</td><td>297</td><td>1.026715</td><td>-0.096892</td><td>0.224309</td><td>-0.528109</td><td>-0.704952</td><td>-0.704818</td><td>2.312482</td><td>0.32804</td><td>-0.108193</td><td>null</td><td>-0.945684</td><td>-0.244173</td><td>0.205989</td><td>-0.357343</td><td>null</td><td>null</td><td>-1.11075</td><td>-0.580242</td><td>-0.400568</td><td>null</td><td>2.397877</td><td>&hellip;</td><td>1.338474</td><td>0.933568</td><td>0.032978</td><td>-0.519118</td><td>-0.290343</td><td>-0.806786</td><td>0.106295</td><td>0.183461</td><td>1.830421</td><td>-1.101531</td><td>-0.341991</td><td>-0.249132</td><td>-0.34365</td><td>2.251358</td><td>0.601888</td><td>1.035051</td><td>-0.283241</td><td>0.107244</td><td>0.86016</td><td>0.024223</td><td>0.374852</td><td>-0.220933</td><td>-0.161584</td><td>0.032771</td><td>0.036888</td><td>0.168908</td><td>0.152333</td><td>0.395684</td><td>-0.292574</td><td>-3.215846</td><td>-0.535129</td><td>-0.178484</td><td>-1.80815</td><td>-0.065355</td><td>-0.000367</td><td>-0.12517</td><td>9</td></tr><tr><td>1698</td><td>967</td><td>37</td><td>1.243116</td><td>2.663298</td><td>-0.889112</td><td>2.313155</td><td>3.101428</td><td>0.324454</td><td>0.618944</td><td>1.185663</td><td>1.599724</td><td>0.319719</td><td>34</td><td>4</td><td>214</td><td>0.759314</td><td>0.284057</td><td>0.41716</td><td>-0.611075</td><td>-0.513717</td><td>-0.891423</td><td>1.84994</td><td>0.406756</td><td>-1.608196</td><td>-0.252663</td><td>-0.271574</td><td>-0.051405</td><td>0.098146</td><td>-0.653961</td><td>0.173676</td><td>-0.016497</td><td>-0.404509</td><td>-0.577262</td><td>-0.731429</td><td>-0.21646</td><td>3.018564</td><td>&hellip;</td><td>0.471775</td><td>1.876459</td><td>-0.143377</td><td>0.845516</td><td>0.301135</td><td>-0.395703</td><td>0.738038</td><td>-0.04124</td><td>1.270645</td><td>-1.101531</td><td>-0.358106</td><td>-0.141883</td><td>-0.255192</td><td>2.489247</td><td>0.537652</td><td>0.982107</td><td>-0.158009</td><td>0.137389</td><td>0.478357</td><td>0.782692</td><td>0.581421</td><td>-0.106056</td><td>-0.111017</td><td>0.163867</td><td>0.169331</td><td>-0.037563</td><td>-0.029483</td><td>1.925987</td><td>0.479394</td><td>3.621867</td><td>-0.107114</td><td>-0.063599</td><td>1.204755</td><td>-0.148711</td><td>-0.026583</td><td>-0.256395</td><td>9</td></tr><tr><td>1698</td><td>967</td><td>38</td><td>3.193685</td><td>2.728506</td><td>-0.745238</td><td>2.788789</td><td>2.343393</td><td>0.454731</td><td>0.862839</td><td>0.964795</td><td>2.089673</td><td>0.344931</td><td>50</td><td>1</td><td>522</td><td>0.406531</td><td>0.618247</td><td>1.01327</td><td>-0.952069</td><td>-0.679168</td><td>-0.597603</td><td>0.375125</td><td>1.97537</td><td>-0.440974</td><td>-0.072018</td><td>1.741353</td><td>1.380735</td><td>-0.110494</td><td>-0.874806</td><td>0.553424</td><td>0.532243</td><td>0.263214</td><td>-0.757856</td><td>-0.869204</td><td>-0.062955</td><td>3.619233</td><td>&hellip;</td><td>0.915804</td><td>1.862022</td><td>0.503819</td><td>1.310126</td><td>0.662521</td><td>1.654948</td><td>1.090367</td><td>0.535922</td><td>0.653011</td><td>-1.101531</td><td>-0.622853</td><td>-0.363631</td><td>-0.395652</td><td>-0.016812</td><td>2.016734</td><td>0.241486</td><td>0.253229</td><td>0.228745</td><td>0.462717</td><td>0.799635</td><td>0.706102</td><td>-0.376377</td><td>-0.286764</td><td>-0.359046</td><td>-0.246135</td><td>-0.288941</td><td>-0.247774</td><td>1.228778</td><td>0.512562</td><td>-0.050865</td><td>0.160883</td><td>0.080756</td><td>-0.078237</td><td>-0.138548</td><td>-0.038771</td><td>-0.21194</td><td>9</td></tr></tbody></table></div>"
      ],
      "text/plain": [
       "shape: (47_127_338, 93)\n",
       "┌─────────┬─────────┬───────────┬──────────┬───┬────────────┬────────────┬────────────┬────────────┐\n",
       "│ date_id ┆ time_id ┆ symbol_id ┆ weight   ┆ … ┆ responder_ ┆ responder_ ┆ responder_ ┆ partition_ │\n",
       "│ ---     ┆ ---     ┆ ---       ┆ ---      ┆   ┆ 6          ┆ 7          ┆ 8          ┆ id         │\n",
       "│ i16     ┆ i16     ┆ i8        ┆ f32      ┆   ┆ ---        ┆ ---        ┆ ---        ┆ ---        │\n",
       "│         ┆         ┆           ┆          ┆   ┆ f32        ┆ f32        ┆ f32        ┆ i64        │\n",
       "╞═════════╪═════════╪═══════════╪══════════╪═══╪════════════╪════════════╪════════════╪════════════╡\n",
       "│ 0       ┆ 0       ┆ 1         ┆ 3.889038 ┆ … ┆ 0.775981   ┆ 0.346999   ┆ 0.095504   ┆ 0          │\n",
       "│ 0       ┆ 0       ┆ 7         ┆ 1.370613 ┆ … ┆ 0.703665   ┆ 0.216683   ┆ 0.778639   ┆ 0          │\n",
       "│ 0       ┆ 0       ┆ 9         ┆ 2.285698 ┆ … ┆ 2.109352   ┆ 0.670881   ┆ 0.772828   ┆ 0          │\n",
       "│ 0       ┆ 0       ┆ 10        ┆ 0.690606 ┆ … ┆ 1.114137   ┆ 0.775199   ┆ -1.379516  ┆ 0          │\n",
       "│ 0       ┆ 0       ┆ 14        ┆ 0.44057  ┆ … ┆ -3.57282   ┆ -1.089123  ┆ -5.0       ┆ 0          │\n",
       "│ …       ┆ …       ┆ …         ┆ …        ┆ … ┆ …          ┆ …          ┆ …          ┆ …          │\n",
       "│ 1698    ┆ 967     ┆ 34        ┆ 3.242493 ┆ … ┆ -0.132337  ┆ -0.022426  ┆ -0.252461  ┆ 9          │\n",
       "│ 1698    ┆ 967     ┆ 35        ┆ 1.079139 ┆ … ┆ -0.249584  ┆ -0.123571  ┆ -0.46063   ┆ 9          │\n",
       "│ 1698    ┆ 967     ┆ 36        ┆ 1.033172 ┆ … ┆ -0.065355  ┆ -0.000367  ┆ -0.12517   ┆ 9          │\n",
       "│ 1698    ┆ 967     ┆ 37        ┆ 1.243116 ┆ … ┆ -0.148711  ┆ -0.026583  ┆ -0.256395  ┆ 9          │\n",
       "│ 1698    ┆ 967     ┆ 38        ┆ 3.193685 ┆ … ┆ -0.138548  ┆ -0.038771  ┆ -0.21194   ┆ 9          │\n",
       "└─────────┴─────────┴───────────┴──────────┴───┴────────────┴────────────┴────────────┴────────────┘"
      ]
     },
     "execution_count": 10,
     "metadata": {},
     "output_type": "execute_result"
    }
   ],
   "source": [
    "df"
   ]
  },
  {
   "cell_type": "code",
   "execution_count": 12,
   "metadata": {},
   "outputs": [],
   "source": [
    "# schema = pl.read_parquet_schema(f'{path}/train.parquet')"
   ]
  },
  {
   "cell_type": "code",
   "execution_count": 16,
   "metadata": {},
   "outputs": [
    {
     "data": {
      "text/plain": [
       "Schema([('date_id', Int16),\n",
       "        ('time_id', Int16),\n",
       "        ('symbol_id', Int8),\n",
       "        ('weight', Float32),\n",
       "        ('feature_00', Float32),\n",
       "        ('feature_01', Float32),\n",
       "        ('feature_02', Float32),\n",
       "        ('feature_03', Float32),\n",
       "        ('feature_04', Float32),\n",
       "        ('feature_05', Float32),\n",
       "        ('feature_06', Float32),\n",
       "        ('feature_07', Float32),\n",
       "        ('feature_08', Float32),\n",
       "        ('feature_09', Int8),\n",
       "        ('feature_10', Int8),\n",
       "        ('feature_11', Int16),\n",
       "        ('feature_12', Float32),\n",
       "        ('feature_13', Float32),\n",
       "        ('feature_14', Float32),\n",
       "        ('feature_15', Float32),\n",
       "        ('feature_16', Float32),\n",
       "        ('feature_17', Float32),\n",
       "        ('feature_18', Float32),\n",
       "        ('feature_19', Float32),\n",
       "        ('feature_20', Float32),\n",
       "        ('feature_21', Float32),\n",
       "        ('feature_22', Float32),\n",
       "        ('feature_23', Float32),\n",
       "        ('feature_24', Float32),\n",
       "        ('feature_25', Float32),\n",
       "        ('feature_26', Float32),\n",
       "        ('feature_27', Float32),\n",
       "        ('feature_28', Float32),\n",
       "        ('feature_29', Float32),\n",
       "        ('feature_30', Float32),\n",
       "        ('feature_31', Float32),\n",
       "        ('feature_32', Float32),\n",
       "        ('feature_33', Float32),\n",
       "        ('feature_34', Float32),\n",
       "        ('feature_35', Float32),\n",
       "        ('feature_36', Float32),\n",
       "        ('feature_37', Float32),\n",
       "        ('feature_38', Float32),\n",
       "        ('feature_39', Float32),\n",
       "        ('feature_40', Float32),\n",
       "        ('feature_41', Float32),\n",
       "        ('feature_42', Float32),\n",
       "        ('feature_43', Float32),\n",
       "        ('feature_44', Float32),\n",
       "        ('feature_45', Float32),\n",
       "        ('feature_46', Float32),\n",
       "        ('feature_47', Float32),\n",
       "        ('feature_48', Float32),\n",
       "        ('feature_49', Float32),\n",
       "        ('feature_50', Float32),\n",
       "        ('feature_51', Float32),\n",
       "        ('feature_52', Float32),\n",
       "        ('feature_53', Float32),\n",
       "        ('feature_54', Float32),\n",
       "        ('feature_55', Float32),\n",
       "        ('feature_56', Float32),\n",
       "        ('feature_57', Float32),\n",
       "        ('feature_58', Float32),\n",
       "        ('feature_59', Float32),\n",
       "        ('feature_60', Float32),\n",
       "        ('feature_61', Float32),\n",
       "        ('feature_62', Float32),\n",
       "        ('feature_63', Float32),\n",
       "        ('feature_64', Float32),\n",
       "        ('feature_65', Float32),\n",
       "        ('feature_66', Float32),\n",
       "        ('feature_67', Float32),\n",
       "        ('feature_68', Float32),\n",
       "        ('feature_69', Float32),\n",
       "        ('feature_70', Float32),\n",
       "        ('feature_71', Float32),\n",
       "        ('feature_72', Float32),\n",
       "        ('feature_73', Float32),\n",
       "        ('feature_74', Float32),\n",
       "        ('feature_75', Float32),\n",
       "        ('feature_76', Float32),\n",
       "        ('feature_77', Float32),\n",
       "        ('feature_78', Float32),\n",
       "        ('responder_0', Float32),\n",
       "        ('responder_1', Float32),\n",
       "        ('responder_2', Float32),\n",
       "        ('responder_3', Float32),\n",
       "        ('responder_4', Float32),\n",
       "        ('responder_5', Float32),\n",
       "        ('responder_6', Float32),\n",
       "        ('responder_7', Float32),\n",
       "        ('responder_8', Float32),\n",
       "        ('partition_id', Int64)])"
      ]
     },
     "execution_count": 16,
     "metadata": {},
     "output_type": "execute_result"
    }
   ],
   "source": [
    "df.schema"
   ]
  },
  {
   "cell_type": "code",
   "execution_count": 17,
   "metadata": {},
   "outputs": [
    {
     "data": {
      "text/html": [
       "<div><style>\n",
       ".dataframe > thead > tr,\n",
       ".dataframe > tbody > tr {\n",
       "  text-align: right;\n",
       "  white-space: pre-wrap;\n",
       "}\n",
       "</style>\n",
       "<small>shape: (9, 94)</small><table border=\"1\" class=\"dataframe\"><thead><tr><th>statistic</th><th>date_id</th><th>time_id</th><th>symbol_id</th><th>weight</th><th>feature_00</th><th>feature_01</th><th>feature_02</th><th>feature_03</th><th>feature_04</th><th>feature_05</th><th>feature_06</th><th>feature_07</th><th>feature_08</th><th>feature_09</th><th>feature_10</th><th>feature_11</th><th>feature_12</th><th>feature_13</th><th>feature_14</th><th>feature_15</th><th>feature_16</th><th>feature_17</th><th>feature_18</th><th>feature_19</th><th>feature_20</th><th>feature_21</th><th>feature_22</th><th>feature_23</th><th>feature_24</th><th>feature_25</th><th>feature_26</th><th>feature_27</th><th>feature_28</th><th>feature_29</th><th>feature_30</th><th>feature_31</th><th>&hellip;</th><th>feature_52</th><th>feature_53</th><th>feature_54</th><th>feature_55</th><th>feature_56</th><th>feature_57</th><th>feature_58</th><th>feature_59</th><th>feature_60</th><th>feature_61</th><th>feature_62</th><th>feature_63</th><th>feature_64</th><th>feature_65</th><th>feature_66</th><th>feature_67</th><th>feature_68</th><th>feature_69</th><th>feature_70</th><th>feature_71</th><th>feature_72</th><th>feature_73</th><th>feature_74</th><th>feature_75</th><th>feature_76</th><th>feature_77</th><th>feature_78</th><th>responder_0</th><th>responder_1</th><th>responder_2</th><th>responder_3</th><th>responder_4</th><th>responder_5</th><th>responder_6</th><th>responder_7</th><th>responder_8</th><th>partition_id</th></tr><tr><td>str</td><td>f64</td><td>f64</td><td>f64</td><td>f64</td><td>f64</td><td>f64</td><td>f64</td><td>f64</td><td>f64</td><td>f64</td><td>f64</td><td>f64</td><td>f64</td><td>f64</td><td>f64</td><td>f64</td><td>f64</td><td>f64</td><td>f64</td><td>f64</td><td>f64</td><td>f64</td><td>f64</td><td>f64</td><td>f64</td><td>f64</td><td>f64</td><td>f64</td><td>f64</td><td>f64</td><td>f64</td><td>f64</td><td>f64</td><td>f64</td><td>f64</td><td>f64</td><td>&hellip;</td><td>f64</td><td>f64</td><td>f64</td><td>f64</td><td>f64</td><td>f64</td><td>f64</td><td>f64</td><td>f64</td><td>f64</td><td>f64</td><td>f64</td><td>f64</td><td>f64</td><td>f64</td><td>f64</td><td>f64</td><td>f64</td><td>f64</td><td>f64</td><td>f64</td><td>f64</td><td>f64</td><td>f64</td><td>f64</td><td>f64</td><td>f64</td><td>f64</td><td>f64</td><td>f64</td><td>f64</td><td>f64</td><td>f64</td><td>f64</td><td>f64</td><td>f64</td><td>f64</td></tr></thead><tbody><tr><td>&quot;count&quot;</td><td>4.7127338e7</td><td>4.7127338e7</td><td>4.7127338e7</td><td>4.7127338e7</td><td>4.3945286e7</td><td>4.3945286e7</td><td>4.3945286e7</td><td>4.3945286e7</td><td>4.3945286e7</td><td>4.7127338e7</td><td>4.7127338e7</td><td>4.7127338e7</td><td>4.6827091e7</td><td>4.7127338e7</td><td>4.7127338e7</td><td>4.7127338e7</td><td>4.7127338e7</td><td>4.7127338e7</td><td>4.7127338e7</td><td>4.5918039e7</td><td>4.7127077e7</td><td>4.69255e7</td><td>4.7127112e7</td><td>4.7127112e7</td><td>4.7127338e7</td><td>3.8691353e7</td><td>4.7127338e7</td><td>4.7127338e7</td><td>4.7127338e7</td><td>4.7127338e7</td><td>3.8691353e7</td><td>3.8691353e7</td><td>4.7127338e7</td><td>4.7127338e7</td><td>4.7127338e7</td><td>3.8691353e7</td><td>&hellip;</td><td>4.608244e7</td><td>4.287324e7</td><td>4.7113533e7</td><td>4.608244e7</td><td>4.7127112e7</td><td>4.7127112e7</td><td>4.6648886e7</td><td>4.7127338e7</td><td>4.7127338e7</td><td>4.7127338e7</td><td>4.6834511e7</td><td>4.6899772e7</td><td>4.6889675e7</td><td>4.6810175e7</td><td>4.6810175e7</td><td>4.7127338e7</td><td>4.7127338e7</td><td>4.7127338e7</td><td>4.7127338e7</td><td>4.7127338e7</td><td>4.7127338e7</td><td>4.6643579e7</td><td>4.6643579e7</td><td>4.7068908e7</td><td>4.7068908e7</td><td>4.7107295e7</td><td>4.7107295e7</td><td>4.7127338e7</td><td>4.7127338e7</td><td>4.7127338e7</td><td>4.7127338e7</td><td>4.7127338e7</td><td>4.7127338e7</td><td>4.7127338e7</td><td>4.7127338e7</td><td>4.7127338e7</td><td>4.7127338e7</td></tr><tr><td>&quot;null_count&quot;</td><td>0.0</td><td>0.0</td><td>0.0</td><td>0.0</td><td>3.182052e6</td><td>3.182052e6</td><td>3.182052e6</td><td>3.182052e6</td><td>3.182052e6</td><td>0.0</td><td>0.0</td><td>0.0</td><td>300247.0</td><td>0.0</td><td>0.0</td><td>0.0</td><td>0.0</td><td>0.0</td><td>0.0</td><td>1.209299e6</td><td>261.0</td><td>201838.0</td><td>226.0</td><td>226.0</td><td>0.0</td><td>8.435985e6</td><td>0.0</td><td>0.0</td><td>0.0</td><td>0.0</td><td>8.435985e6</td><td>8.435985e6</td><td>0.0</td><td>0.0</td><td>0.0</td><td>8.435985e6</td><td>&hellip;</td><td>1.044898e6</td><td>4.254098e6</td><td>13805.0</td><td>1.044898e6</td><td>226.0</td><td>226.0</td><td>478452.0</td><td>0.0</td><td>0.0</td><td>0.0</td><td>292827.0</td><td>227566.0</td><td>237663.0</td><td>317163.0</td><td>317163.0</td><td>0.0</td><td>0.0</td><td>0.0</td><td>0.0</td><td>0.0</td><td>0.0</td><td>483759.0</td><td>483759.0</td><td>58430.0</td><td>58430.0</td><td>20043.0</td><td>20043.0</td><td>0.0</td><td>0.0</td><td>0.0</td><td>0.0</td><td>0.0</td><td>0.0</td><td>0.0</td><td>0.0</td><td>0.0</td><td>0.0</td></tr><tr><td>&quot;mean&quot;</td><td>1005.479389</td><td>468.705722</td><td>18.102394</td><td>2.009445</td><td>0.573833</td><td>0.010192</td><td>0.573102</td><td>0.572745</td><td>-0.000852</td><td>-0.03838</td><td>-0.005058</td><td>-0.013839</td><td>0.082467</td><td>32.762992</td><td>4.875799</td><td>170.69312</td><td>-0.038973</td><td>-0.026642</td><td>-0.041218</td><td>-0.251219</td><td>-0.20489</td><td>-0.242808</td><td>-0.008927</td><td>-0.031894</td><td>-0.209704</td><td>0.037687</td><td>0.067906</td><td>0.072203</td><td>0.572287</td><td>0.092576</td><td>-0.049244</td><td>-0.234434</td><td>-0.155543</td><td>-0.215313</td><td>-0.2576</td><td>0.036165</td><td>&hellip;</td><td>-0.103892</td><td>0.074961</td><td>0.048527</td><td>0.086814</td><td>-0.028328</td><td>0.027874</td><td>-0.015198</td><td>-0.002545</td><td>-0.00665</td><td>0.012388</td><td>-0.179578</td><td>-0.145254</td><td>-0.166556</td><td>-0.043152</td><td>-0.050118</td><td>-0.042604</td><td>-0.023995</td><td>-0.040502</td><td>-0.032992</td><td>-0.021157</td><td>-0.036682</td><td>-0.016559</td><td>-0.023103</td><td>-0.002237</td><td>-0.008022</td><td>-0.00659</td><td>-0.012559</td><td>-0.001545</td><td>-0.000866</td><td>-0.000142</td><td>-0.01638</td><td>-0.012442</td><td>-0.016624</td><td>-0.002141</td><td>0.001476</td><td>-0.001114</td><td>5.409279</td></tr><tr><td>&quot;std&quot;</td><td>445.181943</td><td>272.518697</td><td>11.301645</td><td>1.129388</td><td>1.327413</td><td>1.084941</td><td>1.32287</td><td>1.322849</td><td>1.037188</td><td>1.02012</td><td>1.065836</td><td>1.058633</td><td>0.973704</td><td>23.897102</td><td>3.036514</td><td>164.523054</td><td>0.93135</td><td>0.903511</td><td>0.927618</td><td>0.916496</td><td>0.891434</td><td>0.911261</td><td>1.035968</td><td>1.060218</td><td>0.905527</td><td>0.88762</td><td>0.979838</td><td>0.940164</td><td>1.449629</td><td>1.020206</td><td>1.059212</td><td>1.05812</td><td>1.038651</td><td>0.878222</td><td>0.927363</td><td>0.737381</td><td>&hellip;</td><td>1.004431</td><td>1.036738</td><td>0.914435</td><td>0.999288</td><td>0.998483</td><td>1.03619</td><td>0.951424</td><td>0.94698</td><td>0.952109</td><td>1.112283</td><td>0.79263</td><td>0.718381</td><td>0.724299</td><td>1.04563</td><td>1.065957</td><td>0.915921</td><td>0.882024</td><td>0.907692</td><td>0.942279</td><td>0.886376</td><td>0.930929</td><td>0.966191</td><td>0.958618</td><td>0.956047</td><td>0.948959</td><td>0.949269</td><td>0.943592</td><td>0.591211</td><td>0.587551</td><td>0.599179</td><td>0.819231</td><td>0.87284</td><td>0.734546</td><td>0.889852</td><td>0.916042</td><td>0.864412</td><td>2.610668</td></tr><tr><td>&quot;min&quot;</td><td>0.0</td><td>0.0</td><td>0.0</td><td>0.149967</td><td>-5.794129</td><td>-5.741592</td><td>-5.72601</td><td>-5.60189</td><td>-5.79988</td><td>-25.350399</td><td>-58.604362</td><td>-39.085358</td><td>-15.566865</td><td>2.0</td><td>1.0</td><td>9.0</td><td>-1.913078</td><td>-0.921612</td><td>-1.399126</td><td>-1.688744</td><td>-1.760566</td><td>-1.731827</td><td>-6.000734</td><td>-5.772067</td><td>-4.620031</td><td>-0.558637</td><td>-2.602898</td><td>-2.585011</td><td>-3.234935</td><td>-2.178431</td><td>-3.451056</td><td>-3.475544</td><td>-4.063898</td><td>-1.59573</td><td>-1.670693</td><td>-0.503498</td><td>&hellip;</td><td>-5.356531</td><td>-5.353856</td><td>-5.606056</td><td>-5.698468</td><td>-5.528082</td><td>-5.369931</td><td>-36.406746</td><td>-169.922882</td><td>-62.636726</td><td>-5.740418</td><td>-0.932498</td><td>-0.834446</td><td>-0.952489</td><td>-5.220601</td><td>-5.906378</td><td>-1.698194</td><td>-0.740409</td><td>-1.321859</td><td>-1.894538</td><td>-0.825984</td><td>-1.401122</td><td>-7.017025</td><td>-6.107176</td><td>-6.279804</td><td>-5.730657</td><td>-5.920879</td><td>-6.159515</td><td>-5.0</td><td>-5.0</td><td>-5.0</td><td>-5.0</td><td>-5.0</td><td>-5.0</td><td>-5.0</td><td>-5.0</td><td>-5.0</td><td>0.0</td></tr><tr><td>&quot;25%&quot;</td><td>679.0</td><td>233.0</td><td>9.0</td><td>1.210248</td><td>-0.332597</td><td>-0.721098</td><td>-0.329828</td><td>-0.330473</td><td>-0.706751</td><td>-0.48758</td><td>-0.423991</td><td>-0.45811</td><td>-0.383698</td><td>11.0</td><td>3.0</td><td>59.0</td><td>-0.502319</td><td>-0.381587</td><td>-0.477013</td><td>-0.70299</td><td>-0.619538</td><td>-0.687114</td><td>-0.703462</td><td>-0.735385</td><td>-0.753683</td><td>-0.192191</td><td>-0.659105</td><td>-0.672382</td><td>-0.430413</td><td>-0.724598</td><td>-0.807654</td><td>-1.058077</td><td>-0.921974</td><td>-0.657959</td><td>-0.733317</td><td>-0.193346</td><td>&hellip;</td><td>-0.816762</td><td>-0.628716</td><td>-0.51377</td><td>-0.583466</td><td>-0.695265</td><td>-0.683238</td><td>-0.39056</td><td>-0.219139</td><td>-0.328788</td><td>-0.715441</td><td>-0.394248</td><td>-0.36148</td><td>-0.379126</td><td>-0.763339</td><td>-0.76966</td><td>-0.494946</td><td>-0.326631</td><td>-0.445909</td><td>-0.501901</td><td>-0.354698</td><td>-0.482947</td><td>-0.341742</td><td>-0.348328</td><td>-0.291265</td><td>-0.302702</td><td>-0.297005</td><td>-0.303903</td><td>-0.19025</td><td>-0.163768</td><td>-0.199878</td><td>-0.310065</td><td>-0.383654</td><td>-0.225414</td><td>-0.382761</td><td>-0.419719</td><td>-0.334288</td><td>3.0</td></tr><tr><td>&quot;50%&quot;</td><td>1060.0</td><td>467.0</td><td>17.0</td><td>1.749686</td><td>0.405783</td><td>0.007342</td><td>0.407041</td><td>0.406398</td><td>0.002276</td><td>-0.056492</td><td>-0.009067</td><td>-0.033127</td><td>0.066749</td><td>30.0</td><td>4.0</td><td>76.0</td><td>-0.241653</td><td>-0.250703</td><td>-0.263261</td><td>-0.494275</td><td>-0.439048</td><td>-0.485204</td><td>0.013223</td><td>-0.019893</td><td>-0.203267</td><td>-0.071634</td><td>-0.090226</td><td>-0.074281</td><td>0.359284</td><td>-0.092646</td><td>-0.038531</td><td>-0.305663</td><td>-0.203686</td><td>-0.491794</td><td>-0.521971</td><td>-0.070778</td><td>&hellip;</td><td>-0.125911</td><td>0.084552</td><td>0.102193</td><td>0.114908</td><td>-0.01574</td><td>0.020898</td><td>0.005477</td><td>-0.003226</td><td>0.0004</td><td>0.03493</td><td>-0.299991</td><td>-0.276134</td><td>-0.289316</td><td>-0.027499</td><td>-0.043403</td><td>-0.253352</td><td>-0.229626</td><td>-0.262043</td><td>-0.22897</td><td>-0.239457</td><td>-0.258222</td><td>-0.222002</td><td>-0.214756</td><td>-0.225563</td><td>-0.215698</td><td>-0.203016</td><td>-0.194892</td><td>-0.004543</td><td>-0.023831</td><td>-0.000862</td><td>-0.025754</td><td>-0.04469</td><td>-0.009662</td><td>-0.025566</td><td>-0.039172</td><td>-0.008617</td><td>6.0</td></tr><tr><td>&quot;75%&quot;</td><td>1376.0</td><td>701.0</td><td>28.0</td><td>2.525645</td><td>1.261608</td><td>0.729377</td><td>1.258622</td><td>1.258682</td><td>0.703709</td><td>0.390622</td><td>0.40295</td><td>0.399753</td><td>0.545776</td><td>50.0</td><td>7.0</td><td>230.0</td><td>0.151159</td><td>0.013216</td><td>0.096103</td><td>-0.158807</td><td>-0.133404</td><td>-0.155685</td><td>0.689326</td><td>0.697446</td><td>0.325079</td><td>0.136483</td><td>0.687804</td><td>0.777812</td><td>1.334911</td><td>0.792469</td><td>0.463732</td><td>0.580433</td><td>0.637064</td><td>-0.165001</td><td>-0.159384</td><td>0.136456</td><td>&hellip;</td><td>0.571886</td><td>0.791087</td><td>0.625111</td><td>0.796459</td><td>0.650474</td><td>0.735661</td><td>0.385927</td><td>0.223869</td><td>0.338723</td><td>0.747711</td><td>-0.154715</td><td>-0.139755</td><td>-0.149665</td><td>0.665365</td><td>0.688806</td><td>0.124938</td><td>-0.027538</td><td>0.058261</td><td>0.172525</td><td>0.005978</td><td>0.118007</td><td>0.061969</td><td>0.062082</td><td>-0.017734</td><td>-0.015261</td><td>0.048274</td><td>0.048617</td><td>0.181948</td><td>0.127383</td><td>0.199062</td><td>0.261112</td><td>0.313263</td><td>0.200578</td><td>0.334321</td><td>0.355323</td><td>0.311202</td><td>8.0</td></tr><tr><td>&quot;max&quot;</td><td>1698.0</td><td>967.0</td><td>38.0</td><td>10.240419</td><td>6.477002</td><td>6.292391</td><td>6.490265</td><td>6.695623</td><td>6.16416</td><td>35.726223</td><td>93.644058</td><td>54.941608</td><td>21.695173</td><td>82.0</td><td>12.0</td><td>539.0</td><td>139.418411</td><td>381.20224</td><td>169.11882</td><td>111.079552</td><td>220.132477</td><td>134.500641</td><td>5.82537</td><td>5.972393</td><td>5.421159</td><td>161.486771</td><td>4.128449</td><td>3.24372</td><td>10.744452</td><td>4.136297</td><td>4.862733</td><td>2.64355</td><td>2.88091</td><td>7.534706</td><td>9.410683</td><td>127.98037</td><td>&hellip;</td><td>5.672063</td><td>5.705534</td><td>5.173214</td><td>5.216465</td><td>5.696934</td><td>5.514725</td><td>58.441505</td><td>256.867371</td><td>120.785431</td><td>5.746197</td><td>392.206909</td><td>162.320709</td><td>159.498932</td><td>5.786398</td><td>5.668077</td><td>93.847923</td><td>336.036957</td><td>121.076111</td><td>167.668549</td><td>735.592896</td><td>216.262894</td><td>200.948776</td><td>228.661392</td><td>213.313828</td><td>260.911194</td><td>208.127609</td><td>257.45401</td><td>5.0</td><td>5.0</td><td>5.0</td><td>5.0</td><td>5.0</td><td>5.0</td><td>5.0</td><td>5.0</td><td>5.0</td><td>9.0</td></tr></tbody></table></div>"
      ],
      "text/plain": [
       "shape: (9, 94)\n",
       "┌───────────┬───────────┬───────────┬───────────┬───┬───────────┬───────────┬───────────┬──────────┐\n",
       "│ statistic ┆ date_id   ┆ time_id   ┆ symbol_id ┆ … ┆ responder ┆ responder ┆ responder ┆ partitio │\n",
       "│ ---       ┆ ---       ┆ ---       ┆ ---       ┆   ┆ _6        ┆ _7        ┆ _8        ┆ n_id     │\n",
       "│ str       ┆ f64       ┆ f64       ┆ f64       ┆   ┆ ---       ┆ ---       ┆ ---       ┆ ---      │\n",
       "│           ┆           ┆           ┆           ┆   ┆ f64       ┆ f64       ┆ f64       ┆ f64      │\n",
       "╞═══════════╪═══════════╪═══════════╪═══════════╪═══╪═══════════╪═══════════╪═══════════╪══════════╡\n",
       "│ count     ┆ 4.7127338 ┆ 4.7127338 ┆ 4.7127338 ┆ … ┆ 4.7127338 ┆ 4.7127338 ┆ 4.7127338 ┆ 4.712733 │\n",
       "│           ┆ e7        ┆ e7        ┆ e7        ┆   ┆ e7        ┆ e7        ┆ e7        ┆ 8e7      │\n",
       "│ null_coun ┆ 0.0       ┆ 0.0       ┆ 0.0       ┆ … ┆ 0.0       ┆ 0.0       ┆ 0.0       ┆ 0.0      │\n",
       "│ t         ┆           ┆           ┆           ┆   ┆           ┆           ┆           ┆          │\n",
       "│ mean      ┆ 1005.4793 ┆ 468.70572 ┆ 18.102394 ┆ … ┆ -0.002141 ┆ 0.001476  ┆ -0.001114 ┆ 5.409279 │\n",
       "│           ┆ 89        ┆ 2         ┆           ┆   ┆           ┆           ┆           ┆          │\n",
       "│ std       ┆ 445.18194 ┆ 272.51869 ┆ 11.301645 ┆ … ┆ 0.889852  ┆ 0.916042  ┆ 0.864412  ┆ 2.610668 │\n",
       "│           ┆ 3         ┆ 7         ┆           ┆   ┆           ┆           ┆           ┆          │\n",
       "│ min       ┆ 0.0       ┆ 0.0       ┆ 0.0       ┆ … ┆ -5.0      ┆ -5.0      ┆ -5.0      ┆ 0.0      │\n",
       "│ 25%       ┆ 679.0     ┆ 233.0     ┆ 9.0       ┆ … ┆ -0.382761 ┆ -0.419719 ┆ -0.334288 ┆ 3.0      │\n",
       "│ 50%       ┆ 1060.0    ┆ 467.0     ┆ 17.0      ┆ … ┆ -0.025566 ┆ -0.039172 ┆ -0.008617 ┆ 6.0      │\n",
       "│ 75%       ┆ 1376.0    ┆ 701.0     ┆ 28.0      ┆ … ┆ 0.334321  ┆ 0.355323  ┆ 0.311202  ┆ 8.0      │\n",
       "│ max       ┆ 1698.0    ┆ 967.0     ┆ 38.0      ┆ … ┆ 5.0       ┆ 5.0       ┆ 5.0       ┆ 9.0      │\n",
       "└───────────┴───────────┴───────────┴───────────┴───┴───────────┴───────────┴───────────┴──────────┘"
      ]
     },
     "execution_count": 17,
     "metadata": {},
     "output_type": "execute_result"
    }
   ],
   "source": [
    "df.describe()"
   ]
  },
  {
   "cell_type": "markdown",
   "metadata": {},
   "source": [
    "**SECOND APPRAOCH USING DASK -> DATA IS TOO BIG FOR ANALYZING WHOLE SET**"
   ]
  },
  {
   "cell_type": "code",
   "execution_count": 10,
   "metadata": {},
   "outputs": [],
   "source": [
    "import dask.dataframe as dd\n",
    "import plotly.express as px\n",
    "import matplotlib.pyplot as plt\n",
    "import seaborn as sns"
   ]
  },
  {
   "cell_type": "code",
   "execution_count": 4,
   "metadata": {},
   "outputs": [
    {
     "data": {
      "text/html": [
       "<div>\n",
       "<style scoped>\n",
       "    .dataframe tbody tr th:only-of-type {\n",
       "        vertical-align: middle;\n",
       "    }\n",
       "\n",
       "    .dataframe tbody tr th {\n",
       "        vertical-align: top;\n",
       "    }\n",
       "\n",
       "    .dataframe thead th {\n",
       "        text-align: right;\n",
       "    }\n",
       "</style>\n",
       "<table border=\"1\" class=\"dataframe\">\n",
       "  <thead>\n",
       "    <tr style=\"text-align: right;\">\n",
       "      <th></th>\n",
       "      <th>date_id</th>\n",
       "      <th>time_id</th>\n",
       "      <th>symbol_id</th>\n",
       "      <th>weight</th>\n",
       "      <th>feature_00</th>\n",
       "      <th>feature_01</th>\n",
       "      <th>feature_02</th>\n",
       "      <th>feature_03</th>\n",
       "      <th>feature_04</th>\n",
       "      <th>feature_05</th>\n",
       "      <th>...</th>\n",
       "      <th>responder_0</th>\n",
       "      <th>responder_1</th>\n",
       "      <th>responder_2</th>\n",
       "      <th>responder_3</th>\n",
       "      <th>responder_4</th>\n",
       "      <th>responder_5</th>\n",
       "      <th>responder_6</th>\n",
       "      <th>responder_7</th>\n",
       "      <th>responder_8</th>\n",
       "      <th>partition_id</th>\n",
       "    </tr>\n",
       "  </thead>\n",
       "  <tbody>\n",
       "    <tr>\n",
       "      <th>0</th>\n",
       "      <td>0</td>\n",
       "      <td>0</td>\n",
       "      <td>1</td>\n",
       "      <td>3.889038</td>\n",
       "      <td>NaN</td>\n",
       "      <td>NaN</td>\n",
       "      <td>NaN</td>\n",
       "      <td>NaN</td>\n",
       "      <td>NaN</td>\n",
       "      <td>0.851033</td>\n",
       "      <td>...</td>\n",
       "      <td>0.738489</td>\n",
       "      <td>-0.069556</td>\n",
       "      <td>1.380875</td>\n",
       "      <td>2.005353</td>\n",
       "      <td>0.186018</td>\n",
       "      <td>1.218368</td>\n",
       "      <td>0.775981</td>\n",
       "      <td>0.346999</td>\n",
       "      <td>0.095504</td>\n",
       "      <td>0</td>\n",
       "    </tr>\n",
       "    <tr>\n",
       "      <th>1</th>\n",
       "      <td>0</td>\n",
       "      <td>0</td>\n",
       "      <td>7</td>\n",
       "      <td>1.370613</td>\n",
       "      <td>NaN</td>\n",
       "      <td>NaN</td>\n",
       "      <td>NaN</td>\n",
       "      <td>NaN</td>\n",
       "      <td>NaN</td>\n",
       "      <td>0.676961</td>\n",
       "      <td>...</td>\n",
       "      <td>2.965889</td>\n",
       "      <td>1.190077</td>\n",
       "      <td>-0.523998</td>\n",
       "      <td>3.849921</td>\n",
       "      <td>2.626981</td>\n",
       "      <td>5.000000</td>\n",
       "      <td>0.703665</td>\n",
       "      <td>0.216683</td>\n",
       "      <td>0.778639</td>\n",
       "      <td>0</td>\n",
       "    </tr>\n",
       "    <tr>\n",
       "      <th>2</th>\n",
       "      <td>0</td>\n",
       "      <td>0</td>\n",
       "      <td>9</td>\n",
       "      <td>2.285698</td>\n",
       "      <td>NaN</td>\n",
       "      <td>NaN</td>\n",
       "      <td>NaN</td>\n",
       "      <td>NaN</td>\n",
       "      <td>NaN</td>\n",
       "      <td>1.056285</td>\n",
       "      <td>...</td>\n",
       "      <td>-0.864488</td>\n",
       "      <td>-0.280303</td>\n",
       "      <td>-0.326697</td>\n",
       "      <td>0.375781</td>\n",
       "      <td>1.271291</td>\n",
       "      <td>0.099793</td>\n",
       "      <td>2.109352</td>\n",
       "      <td>0.670881</td>\n",
       "      <td>0.772828</td>\n",
       "      <td>0</td>\n",
       "    </tr>\n",
       "    <tr>\n",
       "      <th>3</th>\n",
       "      <td>0</td>\n",
       "      <td>0</td>\n",
       "      <td>10</td>\n",
       "      <td>0.690606</td>\n",
       "      <td>NaN</td>\n",
       "      <td>NaN</td>\n",
       "      <td>NaN</td>\n",
       "      <td>NaN</td>\n",
       "      <td>NaN</td>\n",
       "      <td>1.139366</td>\n",
       "      <td>...</td>\n",
       "      <td>0.408499</td>\n",
       "      <td>0.223992</td>\n",
       "      <td>2.294888</td>\n",
       "      <td>1.097444</td>\n",
       "      <td>1.225872</td>\n",
       "      <td>1.225376</td>\n",
       "      <td>1.114137</td>\n",
       "      <td>0.775199</td>\n",
       "      <td>-1.379516</td>\n",
       "      <td>0</td>\n",
       "    </tr>\n",
       "    <tr>\n",
       "      <th>4</th>\n",
       "      <td>0</td>\n",
       "      <td>0</td>\n",
       "      <td>14</td>\n",
       "      <td>0.440570</td>\n",
       "      <td>NaN</td>\n",
       "      <td>NaN</td>\n",
       "      <td>NaN</td>\n",
       "      <td>NaN</td>\n",
       "      <td>NaN</td>\n",
       "      <td>0.955200</td>\n",
       "      <td>...</td>\n",
       "      <td>-0.373387</td>\n",
       "      <td>-0.502764</td>\n",
       "      <td>-0.348021</td>\n",
       "      <td>-3.928148</td>\n",
       "      <td>-1.591366</td>\n",
       "      <td>-5.000000</td>\n",
       "      <td>-3.572820</td>\n",
       "      <td>-1.089123</td>\n",
       "      <td>-5.000000</td>\n",
       "      <td>0</td>\n",
       "    </tr>\n",
       "  </tbody>\n",
       "</table>\n",
       "<p>5 rows × 93 columns</p>\n",
       "</div>"
      ],
      "text/plain": [
       "   date_id  time_id  symbol_id    weight  feature_00  feature_01  feature_02  \\\n",
       "0        0        0          1  3.889038         NaN         NaN         NaN   \n",
       "1        0        0          7  1.370613         NaN         NaN         NaN   \n",
       "2        0        0          9  2.285698         NaN         NaN         NaN   \n",
       "3        0        0         10  0.690606         NaN         NaN         NaN   \n",
       "4        0        0         14  0.440570         NaN         NaN         NaN   \n",
       "\n",
       "   feature_03  feature_04  feature_05  ...  responder_0  responder_1  \\\n",
       "0         NaN         NaN    0.851033  ...     0.738489    -0.069556   \n",
       "1         NaN         NaN    0.676961  ...     2.965889     1.190077   \n",
       "2         NaN         NaN    1.056285  ...    -0.864488    -0.280303   \n",
       "3         NaN         NaN    1.139366  ...     0.408499     0.223992   \n",
       "4         NaN         NaN    0.955200  ...    -0.373387    -0.502764   \n",
       "\n",
       "   responder_2  responder_3  responder_4  responder_5  responder_6  \\\n",
       "0     1.380875     2.005353     0.186018     1.218368     0.775981   \n",
       "1    -0.523998     3.849921     2.626981     5.000000     0.703665   \n",
       "2    -0.326697     0.375781     1.271291     0.099793     2.109352   \n",
       "3     2.294888     1.097444     1.225872     1.225376     1.114137   \n",
       "4    -0.348021    -3.928148    -1.591366    -5.000000    -3.572820   \n",
       "\n",
       "   responder_7  responder_8  partition_id  \n",
       "0     0.346999     0.095504             0  \n",
       "1     0.216683     0.778639             0  \n",
       "2     0.670881     0.772828             0  \n",
       "3     0.775199    -1.379516             0  \n",
       "4    -1.089123    -5.000000             0  \n",
       "\n",
       "[5 rows x 93 columns]"
      ]
     },
     "execution_count": 4,
     "metadata": {},
     "output_type": "execute_result"
    }
   ],
   "source": [
    "train_data = dd.read_parquet(f'{path}\\\\train.parquet')\n",
    "train_data.head()"
   ]
  },
  {
   "cell_type": "code",
   "execution_count": 5,
   "metadata": {},
   "outputs": [
    {
     "data": {
      "text/html": [
       "<div>\n",
       "<style scoped>\n",
       "    .dataframe tbody tr th:only-of-type {\n",
       "        vertical-align: middle;\n",
       "    }\n",
       "\n",
       "    .dataframe tbody tr th {\n",
       "        vertical-align: top;\n",
       "    }\n",
       "\n",
       "    .dataframe thead th {\n",
       "        text-align: right;\n",
       "    }\n",
       "</style>\n",
       "<table border=\"1\" class=\"dataframe\">\n",
       "  <thead>\n",
       "    <tr style=\"text-align: right;\">\n",
       "      <th></th>\n",
       "      <th>date_id</th>\n",
       "      <th>time_id</th>\n",
       "      <th>symbol_id</th>\n",
       "      <th>weight</th>\n",
       "      <th>feature_00</th>\n",
       "      <th>feature_01</th>\n",
       "      <th>feature_02</th>\n",
       "      <th>feature_03</th>\n",
       "      <th>feature_04</th>\n",
       "      <th>feature_05</th>\n",
       "      <th>...</th>\n",
       "      <th>responder_0</th>\n",
       "      <th>responder_1</th>\n",
       "      <th>responder_2</th>\n",
       "      <th>responder_3</th>\n",
       "      <th>responder_4</th>\n",
       "      <th>responder_5</th>\n",
       "      <th>responder_6</th>\n",
       "      <th>responder_7</th>\n",
       "      <th>responder_8</th>\n",
       "      <th>partition_id</th>\n",
       "    </tr>\n",
       "  </thead>\n",
       "  <tbody>\n",
       "    <tr>\n",
       "      <th>272817</th>\n",
       "      <td>1698</td>\n",
       "      <td>967</td>\n",
       "      <td>34</td>\n",
       "      <td>3.242493</td>\n",
       "      <td>2.525160</td>\n",
       "      <td>-0.721981</td>\n",
       "      <td>2.544025</td>\n",
       "      <td>2.477615</td>\n",
       "      <td>0.417557</td>\n",
       "      <td>0.785812</td>\n",
       "      <td>...</td>\n",
       "      <td>0.243475</td>\n",
       "      <td>0.166927</td>\n",
       "      <td>0.384940</td>\n",
       "      <td>-0.174297</td>\n",
       "      <td>-0.066046</td>\n",
       "      <td>-0.038767</td>\n",
       "      <td>-0.132337</td>\n",
       "      <td>-0.022426</td>\n",
       "      <td>-0.252461</td>\n",
       "      <td>9</td>\n",
       "    </tr>\n",
       "    <tr>\n",
       "      <th>272818</th>\n",
       "      <td>1698</td>\n",
       "      <td>967</td>\n",
       "      <td>35</td>\n",
       "      <td>1.079139</td>\n",
       "      <td>1.857906</td>\n",
       "      <td>-0.790646</td>\n",
       "      <td>2.745439</td>\n",
       "      <td>2.339877</td>\n",
       "      <td>0.845065</td>\n",
       "      <td>0.651370</td>\n",
       "      <td>...</td>\n",
       "      <td>0.850152</td>\n",
       "      <td>0.909382</td>\n",
       "      <td>1.015314</td>\n",
       "      <td>0.235962</td>\n",
       "      <td>0.122539</td>\n",
       "      <td>0.099559</td>\n",
       "      <td>-0.249584</td>\n",
       "      <td>-0.123571</td>\n",
       "      <td>-0.460630</td>\n",
       "      <td>9</td>\n",
       "    </tr>\n",
       "    <tr>\n",
       "      <th>272819</th>\n",
       "      <td>1698</td>\n",
       "      <td>967</td>\n",
       "      <td>36</td>\n",
       "      <td>1.033172</td>\n",
       "      <td>2.515527</td>\n",
       "      <td>-0.672298</td>\n",
       "      <td>2.289250</td>\n",
       "      <td>2.521592</td>\n",
       "      <td>0.255077</td>\n",
       "      <td>0.919892</td>\n",
       "      <td>...</td>\n",
       "      <td>0.395684</td>\n",
       "      <td>-0.292574</td>\n",
       "      <td>-3.215846</td>\n",
       "      <td>-0.535129</td>\n",
       "      <td>-0.178484</td>\n",
       "      <td>-1.808150</td>\n",
       "      <td>-0.065355</td>\n",
       "      <td>-0.000367</td>\n",
       "      <td>-0.125170</td>\n",
       "      <td>9</td>\n",
       "    </tr>\n",
       "    <tr>\n",
       "      <th>272820</th>\n",
       "      <td>1698</td>\n",
       "      <td>967</td>\n",
       "      <td>37</td>\n",
       "      <td>1.243116</td>\n",
       "      <td>2.663298</td>\n",
       "      <td>-0.889112</td>\n",
       "      <td>2.313155</td>\n",
       "      <td>3.101428</td>\n",
       "      <td>0.324454</td>\n",
       "      <td>0.618944</td>\n",
       "      <td>...</td>\n",
       "      <td>1.925987</td>\n",
       "      <td>0.479394</td>\n",
       "      <td>3.621867</td>\n",
       "      <td>-0.107114</td>\n",
       "      <td>-0.063599</td>\n",
       "      <td>1.204755</td>\n",
       "      <td>-0.148711</td>\n",
       "      <td>-0.026583</td>\n",
       "      <td>-0.256395</td>\n",
       "      <td>9</td>\n",
       "    </tr>\n",
       "    <tr>\n",
       "      <th>272821</th>\n",
       "      <td>1698</td>\n",
       "      <td>967</td>\n",
       "      <td>38</td>\n",
       "      <td>3.193685</td>\n",
       "      <td>2.728506</td>\n",
       "      <td>-0.745238</td>\n",
       "      <td>2.788789</td>\n",
       "      <td>2.343393</td>\n",
       "      <td>0.454731</td>\n",
       "      <td>0.862839</td>\n",
       "      <td>...</td>\n",
       "      <td>1.228778</td>\n",
       "      <td>0.512562</td>\n",
       "      <td>-0.050865</td>\n",
       "      <td>0.160883</td>\n",
       "      <td>0.080756</td>\n",
       "      <td>-0.078237</td>\n",
       "      <td>-0.138548</td>\n",
       "      <td>-0.038771</td>\n",
       "      <td>-0.211940</td>\n",
       "      <td>9</td>\n",
       "    </tr>\n",
       "  </tbody>\n",
       "</table>\n",
       "<p>5 rows × 93 columns</p>\n",
       "</div>"
      ],
      "text/plain": [
       "        date_id  time_id  symbol_id    weight  feature_00  feature_01  \\\n",
       "272817     1698      967         34  3.242493    2.525160   -0.721981   \n",
       "272818     1698      967         35  1.079139    1.857906   -0.790646   \n",
       "272819     1698      967         36  1.033172    2.515527   -0.672298   \n",
       "272820     1698      967         37  1.243116    2.663298   -0.889112   \n",
       "272821     1698      967         38  3.193685    2.728506   -0.745238   \n",
       "\n",
       "        feature_02  feature_03  feature_04  feature_05  ...  responder_0  \\\n",
       "272817    2.544025    2.477615    0.417557    0.785812  ...     0.243475   \n",
       "272818    2.745439    2.339877    0.845065    0.651370  ...     0.850152   \n",
       "272819    2.289250    2.521592    0.255077    0.919892  ...     0.395684   \n",
       "272820    2.313155    3.101428    0.324454    0.618944  ...     1.925987   \n",
       "272821    2.788789    2.343393    0.454731    0.862839  ...     1.228778   \n",
       "\n",
       "        responder_1  responder_2  responder_3  responder_4  responder_5  \\\n",
       "272817     0.166927     0.384940    -0.174297    -0.066046    -0.038767   \n",
       "272818     0.909382     1.015314     0.235962     0.122539     0.099559   \n",
       "272819    -0.292574    -3.215846    -0.535129    -0.178484    -1.808150   \n",
       "272820     0.479394     3.621867    -0.107114    -0.063599     1.204755   \n",
       "272821     0.512562    -0.050865     0.160883     0.080756    -0.078237   \n",
       "\n",
       "        responder_6  responder_7  responder_8  partition_id  \n",
       "272817    -0.132337    -0.022426    -0.252461             9  \n",
       "272818    -0.249584    -0.123571    -0.460630             9  \n",
       "272819    -0.065355    -0.000367    -0.125170             9  \n",
       "272820    -0.148711    -0.026583    -0.256395             9  \n",
       "272821    -0.138548    -0.038771    -0.211940             9  \n",
       "\n",
       "[5 rows x 93 columns]"
      ]
     },
     "execution_count": 5,
     "metadata": {},
     "output_type": "execute_result"
    }
   ],
   "source": [
    "train_data.tail()"
   ]
  },
  {
   "cell_type": "code",
   "execution_count": 24,
   "metadata": {},
   "outputs": [
    {
     "name": "stdout",
     "output_type": "stream",
     "text": [
      "Total number of rows: 47127338\n"
     ]
    }
   ],
   "source": [
    "print(f\"Total number of rows: {len(train_data)}\")"
   ]
  },
  {
   "cell_type": "code",
   "execution_count": 25,
   "metadata": {},
   "outputs": [
    {
     "name": "stdout",
     "output_type": "stream",
     "text": [
      "Number of unique days (date_id): 1699\n"
     ]
    }
   ],
   "source": [
    "# Count the unique 'date_id' values\n",
    "unique_dates = train_data['date_id'].nunique().compute()\n",
    "\n",
    "print(f\"Number of unique days (date_id): {unique_dates}\")"
   ]
  },
  {
   "cell_type": "markdown",
   "metadata": {},
   "source": [
    "**Preprocessing**"
   ]
  },
  {
   "cell_type": "markdown",
   "metadata": {},
   "source": [
    "*Configurations*"
   ]
  },
  {
   "cell_type": "code",
   "execution_count": 3,
   "metadata": {},
   "outputs": [],
   "source": [
    "path = \"G:\\JaneStreetReal\\jane-street-real-time-market-data-forecasting\""
   ]
  },
  {
   "cell_type": "code",
   "execution_count": 29,
   "metadata": {},
   "outputs": [],
   "source": [
    "sampled_ddf = dd.read_parquet(f'{path}\\\\sample_data\\\\sampled_output.parquet')"
   ]
  },
  {
   "cell_type": "code",
   "execution_count": null,
   "metadata": {},
   "outputs": [],
   "source": [
    "class CONFIG:\n",
    "    target_col = \"responder_6\"\n",
    "    lag_cols_original = [\"date_id\", \"symbol_id\"] + [f\"responder_{idx}\" for idx in range(9)]\n",
    "    lag_cols_rename = {f\"responder_{idx}\": f\"responder_{idx}_lag_1\" for idx in range(9)}\n",
    "    valid_ratio = 0.05\n",
    "    start_dt = 1100"
   ]
  },
  {
   "cell_type": "code",
   "execution_count": null,
   "metadata": {},
   "outputs": [],
   "source": [
    "# sampled_df = pl.scan_parquet(f'{path}\\\\sample_data\\\\sampled_output.parquet').select(\n",
    "#     pl.int_range(pl.len(), dtype=pl.UInt32).alias(\"id\"),\n",
    "#     pl.all(),\n",
    "# ).with_columns(\n",
    "#     (pl.col(CONFIG.target_col)*2).cast(pl.Int32).alias(\"label\"),\n",
    "# ).filter(\n",
    "#     pl.col(\"date_id\").gt(CONFIG.start_dt)\n",
    "# )"
   ]
  },
  {
   "cell_type": "code",
   "execution_count": null,
   "metadata": {},
   "outputs": [
    {
     "data": {
      "text/html": [
       "<i>naive plan: (run <b>LazyFrame.explain(optimized=True)</b> to see the optimized plan)</i>\n",
       "    <p></p>\n",
       "    <div>AGGREGATE<p></p>\t[col(\"responder_0_lag_1\").last(), col(\"responder_1_lag_1\").last(), col(\"responder_2_lag_1\").last(), col(\"responder_3_lag_1\").last(), col(\"responder_4_lag_1\").last(), col(\"responder_5_lag_1\").last(), col(\"responder_6_lag_1\").last(), col(\"responder_7_lag_1\").last(), col(\"responder_8_lag_1\").last()] BY [col(\"date_id\"), col(\"symbol_id\")] FROM<p></p>   WITH_COLUMNS:<p></p>   [[(col(\"date_id\")) + (1)].alias(\"date_id\")] <p></p>    RENAME<p></p>       SELECT [col(\"date_id\"), col(\"symbol_id\"), col(\"responder_0\"), col(\"responder_1\"), col(\"responder_2\"), col(\"responder_3\"), col(\"responder_4\"), col(\"responder_5\"), col(\"responder_6\"), col(\"responder_7\"), col(\"responder_8\")] FROM<p></p>        FILTER [(col(\"date_id\")) > (1100)] FROM<p></p>           WITH_COLUMNS:<p></p>           [[(col(\"responder_6\")) * (2.0)].strict_cast(Int32).alias(\"label\")] <p></p>             SELECT [dyn int: 0.int_range([len()]).alias(\"id\"), col(\"date_id\"), col(\"time_id\"), col(\"symbol_id\"), col(\"weight\"), col(\"feature_00\"), col(\"feature_01\"), col(\"feature_02\"), col(\"feature_03\"), col(\"feature_04\"), col(\"feature_05\"), col(\"feature_06\"), col(\"feature_07\"), col(\"feature_08\"), col(\"feature_09\"), col(\"feature_10\"), col(\"feature_11\"), col(\"feature_12\"), col(\"feature_13\"), col(\"feature_14\"), col(\"feature_15\"), col(\"feature_16\"), col(\"feature_17\"), col(\"feature_18\"), col(\"feature_19\"), col(\"feature_20\"), col(\"feature_21\"), col(\"feature_22\"), col(\"feature_23\"), col(\"feature_24\"), col(\"feature_25\"), col(\"feature_26\"), col(\"feature_27\"), col(\"feature_28\"), col(\"feature_29\"), col(\"feature_30\"), col(\"feature_31\"), col(\"feature_32\"), col(\"feature_33\"), col(\"feature_34\"), col(\"feature_35\"), col(\"feature_36\"), col(\"feature_37\"), col(\"feature_38\"), col(\"feature_39\"), col(\"feature_40\"), col(\"feature_41\"), col(\"feature_42\"), col(\"feature_43\"), col(\"feature_44\"), col(\"feature_45\"), col(\"feature_46\"), col(\"feature_47\"), col(\"feature_48\"), col(\"feature_49\"), col(\"feature_50\"), col(\"feature_51\"), col(\"feature_52\"), col(\"feature_53\"), col(\"feature_54\"), col(\"feature_55\"), col(\"feature_56\"), col(\"feature_57\"), col(\"feature_58\"), col(\"feature_59\"), col(\"feature_60\"), col(\"feature_61\"), col(\"feature_62\"), col(\"feature_63\"), col(\"feature_64\"), col(\"feature_65\"), col(\"feature_66\"), col(\"feature_67\"), col(\"feature_68\"), col(\"feature_69\"), col(\"feature_70\"), col(\"feature_71\"), col(\"feature_72\"), col(\"feature_73\"), col(\"feature_74\"), col(\"feature_75\"), col(\"feature_76\"), col(\"feature_77\"), col(\"feature_78\"), col(\"responder_0\"), col(\"responder_1\"), col(\"responder_2\"), col(\"responder_3\"), col(\"responder_4\"), col(\"responder_5\"), col(\"responder_6\"), col(\"responder_7\"), col(\"responder_8\"), col(\"partition_id\"), col(\"__null_dask_index__\")] FROM<p></p>              Parquet SCAN [G:\\JaneStreetReal\\jane-street-real-time-market-data-forecasting\\sample_data\\sampled_output.parquet\\part.0.parquet, ... 88 other sources]<p></p>              PROJECT */94 COLUMNS</div>"
      ],
      "text/plain": [
       "<LazyFrame at 0x1D86B0DEE90>"
      ]
     },
     "execution_count": 8,
     "metadata": {},
     "output_type": "execute_result"
    }
   ],
   "source": [
    "# lags = sampled_df.select(pl.col(CONFIG.lag_cols_original))\n",
    "# lags = lags.rename(CONFIG.lag_cols_rename)\n",
    "# lags = lags.with_columns(\n",
    "#     date_id = pl.col('date_id') + 1,  # lagged by 1 day\n",
    "#     )\n",
    "# lags = lags.group_by([\"date_id\", \"symbol_id\"], maintain_order=True).last()  # pick up last record of previous date\n",
    "# lags"
   ]
  },
  {
   "cell_type": "code",
   "execution_count": null,
   "metadata": {},
   "outputs": [],
   "source": [
    "# train_data = sampled_df.join(lags, on=[\"date_id\", \"symbol_id\"],  how=\"left\")"
   ]
  },
  {
   "cell_type": "code",
   "execution_count": null,
   "metadata": {},
   "outputs": [
    {
     "name": "stdout",
     "output_type": "stream",
     "text": [
      "naive plan: (run LazyFrame.explain(optimized=True) to see the optimized plan)\n",
      "\n",
      "LEFT JOIN:\n",
      "LEFT PLAN ON: [col(\"date_id\"), col(\"symbol_id\")]\n",
      "  FILTER [(col(\"date_id\")) > (1100)] FROM\n",
      "     WITH_COLUMNS:\n",
      "     [[(col(\"responder_6\")) * (2.0)].strict_cast(Int32).alias(\"label\")] \n",
      "       SELECT [dyn int: 0.int_range([len()]).alias(\"id\"), col(\"date_id\"), col(\"time_id\"), col(\"symbol_id\"), col(\"weight\"), col(\"feature_00\"), col(\"feature_01\"), col(\"feature_02\"), col(\"feature_03\"), col(\"feature_04\"), col(\"feature_05\"), col(\"feature_06\"), col(\"feature_07\"), col(\"feature_08\"), col(\"feature_09\"), col(\"feature_10\"), col(\"feature_11\"), col(\"feature_12\"), col(\"feature_13\"), col(\"feature_14\"), col(\"feature_15\"), col(\"feature_16\"), col(\"feature_17\"), col(\"feature_18\"), col(\"feature_19\"), col(\"feature_20\"), col(\"feature_21\"), col(\"feature_22\"), col(\"feature_23\"), col(\"feature_24\"), col(\"feature_25\"), col(\"feature_26\"), col(\"feature_27\"), col(\"feature_28\"), col(\"feature_29\"), col(\"feature_30\"), col(\"feature_31\"), col(\"feature_32\"), col(\"feature_33\"), col(\"feature_34\"), col(\"feature_35\"), col(\"feature_36\"), col(\"feature_37\"), col(\"feature_38\"), col(\"feature_39\"), col(\"feature_40\"), col(\"feature_41\"), col(\"feature_42\"), col(\"feature_43\"), col(\"feature_44\"), col(\"feature_45\"), col(\"feature_46\"), col(\"feature_47\"), col(\"feature_48\"), col(\"feature_49\"), col(\"feature_50\"), col(\"feature_51\"), col(\"feature_52\"), col(\"feature_53\"), col(\"feature_54\"), col(\"feature_55\"), col(\"feature_56\"), col(\"feature_57\"), col(\"feature_58\"), col(\"feature_59\"), col(\"feature_60\"), col(\"feature_61\"), col(\"feature_62\"), col(\"feature_63\"), col(\"feature_64\"), col(\"feature_65\"), col(\"feature_66\"), col(\"feature_67\"), col(\"feature_68\"), col(\"feature_69\"), col(\"feature_70\"), col(\"feature_71\"), col(\"feature_72\"), col(\"feature_73\"), col(\"feature_74\"), col(\"feature_75\"), col(\"feature_76\"), col(\"feature_77\"), col(\"feature_78\"), col(\"responder_0\"), col(\"responder_1\"), col(\"responder_2\"), col(\"responder_3\"), col(\"responder_4\"), col(\"responder_5\"), col(\"responder_6\"), col(\"responder_7\"), col(\"responder_8\"), col(\"partition_id\"), col(\"__null_dask_index__\")] FROM\n",
      "        Parquet SCAN [G:\\JaneStreetReal\\jane-street-real-time-market-data-forecasting\\sample_data\\sampled_output.parquet\\part.0.parquet, ... 88 other sources]\n",
      "        PROJECT */94 COLUMNS\n",
      "RIGHT PLAN ON: [col(\"date_id\"), col(\"symbol_id\")]\n",
      "  AGGREGATE\n",
      "  \t[col(\"responder_0_lag_1\").last(), col(\"responder_1_lag_1\").last(), col(\"responder_2_lag_1\").last(), col(\"responder_3_lag_1\").last(), col(\"responder_4_lag_1\").last(), col(\"responder_5_lag_1\").last(), col(\"responder_6_lag_1\").last(), col(\"responder_7_lag_1\").last(), col(\"responder_8_lag_1\").last()] BY [col(\"date_id\"), col(\"symbol_id\")] FROM\n",
      "     WITH_COLUMNS:\n",
      "     [[(col(\"date_id\")) + (1)].alias(\"date_id\")] \n",
      "      RENAME\n",
      "         SELECT [col(\"date_id\"), col(\"symbol_id\"), col(\"responder_0\"), col(\"responder_1\"), col(\"responder_2\"), col(\"responder_3\"), col(\"responder_4\"), col(\"responder_5\"), col(\"responder_6\"), col(\"responder_7\"), col(\"responder_8\")] FROM\n",
      "          FILTER [(col(\"date_id\")) > (1100)] FROM\n",
      "             WITH_COLUMNS:\n",
      "             [[(col(\"responder_6\")) * (2.0)].strict_cast(Int32).alias(\"label\")] \n",
      "               SELECT [dyn int: 0.int_range([len()]).alias(\"id\"), col(\"date_id\"), col(\"time_id\"), col(\"symbol_id\"), col(\"weight\"), col(\"feature_00\"), col(\"feature_01\"), col(\"feature_02\"), col(\"feature_03\"), col(\"feature_04\"), col(\"feature_05\"), col(\"feature_06\"), col(\"feature_07\"), col(\"feature_08\"), col(\"feature_09\"), col(\"feature_10\"), col(\"feature_11\"), col(\"feature_12\"), col(\"feature_13\"), col(\"feature_14\"), col(\"feature_15\"), col(\"feature_16\"), col(\"feature_17\"), col(\"feature_18\"), col(\"feature_19\"), col(\"feature_20\"), col(\"feature_21\"), col(\"feature_22\"), col(\"feature_23\"), col(\"feature_24\"), col(\"feature_25\"), col(\"feature_26\"), col(\"feature_27\"), col(\"feature_28\"), col(\"feature_29\"), col(\"feature_30\"), col(\"feature_31\"), col(\"feature_32\"), col(\"feature_33\"), col(\"feature_34\"), col(\"feature_35\"), col(\"feature_36\"), col(\"feature_37\"), col(\"feature_38\"), col(\"feature_39\"), col(\"feature_40\"), col(\"feature_41\"), col(\"feature_42\"), col(\"feature_43\"), col(\"feature_44\"), col(\"feature_45\"), col(\"feature_46\"), col(\"feature_47\"), col(\"feature_48\"), col(\"feature_49\"), col(\"feature_50\"), col(\"feature_51\"), col(\"feature_52\"), col(\"feature_53\"), col(\"feature_54\"), col(\"feature_55\"), col(\"feature_56\"), col(\"feature_57\"), col(\"feature_58\"), col(\"feature_59\"), col(\"feature_60\"), col(\"feature_61\"), col(\"feature_62\"), col(\"feature_63\"), col(\"feature_64\"), col(\"feature_65\"), col(\"feature_66\"), col(\"feature_67\"), col(\"feature_68\"), col(\"feature_69\"), col(\"feature_70\"), col(\"feature_71\"), col(\"feature_72\"), col(\"feature_73\"), col(\"feature_74\"), col(\"feature_75\"), col(\"feature_76\"), col(\"feature_77\"), col(\"feature_78\"), col(\"responder_0\"), col(\"responder_1\"), col(\"responder_2\"), col(\"responder_3\"), col(\"responder_4\"), col(\"responder_5\"), col(\"responder_6\"), col(\"responder_7\"), col(\"responder_8\"), col(\"partition_id\"), col(\"__null_dask_index__\")] FROM\n",
      "                Parquet SCAN [G:\\JaneStreetReal\\jane-street-real-time-market-data-forecasting\\sample_data\\sampled_output.parquet\\part.0.parquet, ... 88 other sources]\n",
      "                PROJECT */94 COLUMNS\n",
      "END LEFT JOIN\n"
     ]
    }
   ],
   "source": [
    "# print(train_data)"
   ]
  },
  {
   "cell_type": "code",
   "execution_count": null,
   "metadata": {},
   "outputs": [
    {
     "name": "stdout",
     "output_type": "stream",
     "text": [
      "<class 'polars.lazyframe.frame.LazyFrame'>\n"
     ]
    }
   ],
   "source": [
    "# print(type(train_data))"
   ]
  },
  {
   "cell_type": "code",
   "execution_count": 32,
   "metadata": {},
   "outputs": [
    {
     "name": "stdout",
     "output_type": "stream",
     "text": [
      "   date_id  time_id  symbol_id    weight  feature_00  feature_01  feature_02  \\\n",
      "0     1183        0         21  0.489553   -0.462636    0.908951   -0.809193   \n",
      "1     1183        1         21  0.489553   -0.954257    1.150577   -0.880220   \n",
      "2     1183        2         21  0.489553   -0.863654    1.060217   -0.797040   \n",
      "3     1183        3         21  0.489553   -0.525287    1.268752   -1.247166   \n",
      "4     1183        4         21  0.489553   -0.534958    0.422980   -1.292738   \n",
      "\n",
      "   feature_03  feature_04  feature_05  ...  label  responder_0_lag_1  \\\n",
      "0   -0.886797   -0.669697    0.576359  ...      1           1.272998   \n",
      "1   -1.252152   -1.017318    0.715017  ...      1           1.272998   \n",
      "2   -0.966461   -0.758744    1.467841  ...      0           1.272998   \n",
      "3   -0.765703   -1.579259    1.221491  ...      0           1.272998   \n",
      "4   -0.947323   -1.041586    1.041244  ...      0           1.272998   \n",
      "\n",
      "   responder_1_lag_1  responder_2_lag_1  responder_3_lag_1  responder_4_lag_1  \\\n",
      "0           0.955543           0.711454           -0.16762          -0.150451   \n",
      "1           0.955543           0.711454           -0.16762          -0.150451   \n",
      "2           0.955543           0.711454           -0.16762          -0.150451   \n",
      "3           0.955543           0.711454           -0.16762          -0.150451   \n",
      "4           0.955543           0.711454           -0.16762          -0.150451   \n",
      "\n",
      "   responder_5_lag_1  responder_6_lag_1  responder_7_lag_1  responder_8_lag_1  \n",
      "0          -0.149519           0.047738           0.029917           0.111977  \n",
      "1          -0.149519           0.047738           0.029917           0.111977  \n",
      "2          -0.149519           0.047738           0.029917           0.111977  \n",
      "3          -0.149519           0.047738           0.029917           0.111977  \n",
      "4          -0.149519           0.047738           0.029917           0.111977  \n",
      "\n",
      "[5 rows x 104 columns]\n"
     ]
    }
   ],
   "source": [
    "sampled_ddf = sampled_ddf.reset_index(drop=True)\n",
    "\n",
    "# Add an 'id' column\n",
    "sampled_ddf = sampled_ddf.assign(\n",
    "    id=sampled_ddf.index.astype('uint32')\n",
    ")\n",
    "\n",
    "# Add a 'label' column\n",
    "sampled_ddf = sampled_ddf.assign(\n",
    "    label=(sampled_ddf[CONFIG.target_col] * 2).astype('int32')\n",
    ")\n",
    "\n",
    "# Filter rows where 'date_id' is greater than 'start_dt'\n",
    "sampled_ddf = sampled_ddf[sampled_ddf['date_id'] > CONFIG.start_dt]\n",
    "\n",
    "# Create 'lags' DataFrame by selecting specific columns\n",
    "lags_ddf = sampled_ddf[CONFIG.lag_cols_original]\n",
    "\n",
    "# Rename columns in 'lags'\n",
    "lags_ddf = lags_ddf.rename(columns=CONFIG.lag_cols_rename)\n",
    "\n",
    "# Increment 'date_id' by 1 to create the lag effect\n",
    "lags_ddf['date_id'] = lags_ddf['date_id'] + 1\n",
    "\n",
    "# Group by 'date_id' and 'symbol_id' and take the last record\n",
    "lags_ddf = lags_ddf.groupby(['date_id', 'symbol_id']).last().reset_index()\n",
    "\n",
    "# Merge 'sampled_ddf' with 'lags_ddf' on 'date_id' and 'symbol_id'\n",
    "train_ddf = sampled_ddf.merge(lags_ddf, on=['date_id', 'symbol_id'], how='left')\n",
    "\n",
    "# Compute the final result\n",
    "train_df = train_ddf.compute()\n",
    "\n",
    "# Now 'train_df' contains the desired dataset\n",
    "print(train_df.head())"
   ]
  },
  {
   "cell_type": "code",
   "execution_count": null,
   "metadata": {},
   "outputs": [],
   "source": []
  }
 ],
 "metadata": {
  "kernelspec": {
   "display_name": "v_market",
   "language": "python",
   "name": "python3"
  },
  "language_info": {
   "codemirror_mode": {
    "name": "ipython",
    "version": 3
   },
   "file_extension": ".py",
   "mimetype": "text/x-python",
   "name": "python",
   "nbconvert_exporter": "python",
   "pygments_lexer": "ipython3",
   "version": "3.10.2"
  }
 },
 "nbformat": 4,
 "nbformat_minor": 2
}
