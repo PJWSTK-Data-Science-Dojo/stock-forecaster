{
 "cells": [
  {
   "cell_type": "code",
   "execution_count": 1,
   "metadata": {},
   "outputs": [
    {
     "name": "stdout",
     "output_type": "stream",
     "text": [
      "Loading file: /mnt/h/Studia/magisterskie/1 sem/ProjektSemestralny/train.parquet/partition_id=0/part-0.parquet\n",
      "Saved with splits: /mnt/h/Studia/magisterskie/1 sem/ProjektSemestralny/csv_partitions/dataset_partition_id=0.csv\n",
      "Loading file: /mnt/h/Studia/magisterskie/1 sem/ProjektSemestralny/train.parquet/partition_id=1/part-0.parquet\n",
      "Saved with splits: /mnt/h/Studia/magisterskie/1 sem/ProjektSemestralny/csv_partitions/dataset_partition_id=1.csv\n",
      "Loading file: /mnt/h/Studia/magisterskie/1 sem/ProjektSemestralny/train.parquet/partition_id=2/part-0.parquet\n",
      "Saved with splits: /mnt/h/Studia/magisterskie/1 sem/ProjektSemestralny/csv_partitions/dataset_partition_id=2.csv\n",
      "Loading file: /mnt/h/Studia/magisterskie/1 sem/ProjektSemestralny/train.parquet/partition_id=3/part-0.parquet\n",
      "Saved with splits: /mnt/h/Studia/magisterskie/1 sem/ProjektSemestralny/csv_partitions/dataset_partition_id=3.csv\n",
      "Loading file: /mnt/h/Studia/magisterskie/1 sem/ProjektSemestralny/train.parquet/partition_id=4/part-0.parquet\n",
      "Saved with splits: /mnt/h/Studia/magisterskie/1 sem/ProjektSemestralny/csv_partitions/dataset_partition_id=4.csv\n",
      "Loading file: /mnt/h/Studia/magisterskie/1 sem/ProjektSemestralny/train.parquet/partition_id=5/part-0.parquet\n",
      "Saved with splits: /mnt/h/Studia/magisterskie/1 sem/ProjektSemestralny/csv_partitions/dataset_partition_id=5.csv\n",
      "Loading file: /mnt/h/Studia/magisterskie/1 sem/ProjektSemestralny/train.parquet/partition_id=6/part-0.parquet\n",
      "Saved with splits: /mnt/h/Studia/magisterskie/1 sem/ProjektSemestralny/csv_partitions/dataset_partition_id=6.csv\n",
      "Loading file: /mnt/h/Studia/magisterskie/1 sem/ProjektSemestralny/train.parquet/partition_id=7/part-0.parquet\n",
      "Saved with splits: /mnt/h/Studia/magisterskie/1 sem/ProjektSemestralny/csv_partitions/dataset_partition_id=7.csv\n",
      "Loading file: /mnt/h/Studia/magisterskie/1 sem/ProjektSemestralny/train.parquet/partition_id=8/part-0.parquet\n",
      "Saved with splits: /mnt/h/Studia/magisterskie/1 sem/ProjektSemestralny/csv_partitions/dataset_partition_id=8.csv\n",
      "Loading file: /mnt/h/Studia/magisterskie/1 sem/ProjektSemestralny/train.parquet/partition_id=9/part-0.parquet\n",
      "Saved with splits: /mnt/h/Studia/magisterskie/1 sem/ProjektSemestralny/csv_partitions/dataset_partition_id=9.csv\n",
      "Conversion of partition_id with lags and manual split completed.\n"
     ]
    }
   ],
   "source": [
    "import polars as pl\n",
    "import os\n",
    "\n",
    "input_folder = '/mnt/h/Studia/magisterskie/1 sem/ProjektSemestralny/train.parquet'\n",
    "output_folder = '/mnt/h/Studia/magisterskie/1 sem/ProjektSemestralny/csv_partitions'\n",
    "\n",
    "os.makedirs(output_folder, exist_ok=True)\n",
    "\n",
    "lag_cols_original = [\"date_id\", \"symbol_id\"] + [f\"responder_{idx}\" for idx in range(9)]\n",
    "lag_cols_rename = {f\"responder_{idx}\": f\"responder_{idx}_lag_1\" for idx in range(9)}\n",
    "\n",
    "for partition in os.listdir(input_folder):\n",
    "    partition_path = os.path.join(input_folder, partition)\n",
    "    if os.path.isdir(partition_path) and partition.startswith('partition_id='):\n",
    "        parquet_file = os.path.join(partition_path, 'part-0.parquet')\n",
    "        if os.path.exists(parquet_file):\n",
    "            try:\n",
    "                print(f'Loading file: {parquet_file}')\n",
    "\n",
    "                df = pl.read_parquet(parquet_file)\n",
    "\n",
    "                df_lags = (\n",
    "                    df\n",
    "                    .select(lag_cols_original)\n",
    "                    .rename(lag_cols_rename)\n",
    "                    .with_columns(\n",
    "                        (pl.col(\"date_id\") + 1).alias(\"date_id\")\n",
    "                    )\n",
    "                    .group_by([\"date_id\", \"symbol_id\"], maintain_order=True)\n",
    "                    .agg([pl.col(name).last().alias(name) for name in lag_cols_rename.values()])\n",
    "                )\n",
    "\n",
    "                df_joined = df.join(df_lags, on=[\"date_id\", \"symbol_id\"], how=\"left\")\n",
    "\n",
    "                total_rows = df_joined.height\n",
    "                validation_split_index = int(total_rows * 0.8)\n",
    "                test_split_index = int(total_rows * 0.9)\n",
    "\n",
    "                split_column = [\"TRAIN\"] * validation_split_index + \\\n",
    "                               [\"VALIDATE\"] * (test_split_index - validation_split_index) + \\\n",
    "                               [\"TEST\"] * (total_rows - test_split_index)\n",
    "                \n",
    "                df_joined = df_joined.with_columns(pl.Series(\"split\", split_column))\n",
    "\n",
    "                csv_file = os.path.join(output_folder, f'dataset_{partition}.csv')\n",
    "                df_joined.write_csv(csv_file)\n",
    "                print(f'Saved with splits: {csv_file}')\n",
    "\n",
    "            except Exception as e:\n",
    "                print(f'Error processing {parquet_file}: {e}')\n",
    "        else:\n",
    "            print(f'File {parquet_file} does not exist.')\n",
    "    else:\n",
    "        print(f'Skipping unknown directory: {partition}')\n",
    "\n",
    "print('Conversion of partition_id with lags and manual split completed.')\n"
   ]
  }
 ],
 "metadata": {
  "kernelspec": {
   "display_name": "AutoGluonVenv",
   "language": "python",
   "name": "python3"
  },
  "language_info": {
   "codemirror_mode": {
    "name": "ipython",
    "version": 3
   },
   "file_extension": ".py",
   "mimetype": "text/x-python",
   "name": "python",
   "nbconvert_exporter": "python",
   "pygments_lexer": "ipython3",
   "version": "3.10.12"
  }
 },
 "nbformat": 4,
 "nbformat_minor": 2
}
