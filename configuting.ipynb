{
 "cells": [
  {
   "cell_type": "code",
   "execution_count": 1,
   "metadata": {},
   "outputs": [],
   "source": [
    "import os\n",
    "os.environ[\"POLARS_MAX_THREADS\"] = str(os.cpu_count())  # Utilize all available cores\n"
   ]
  },
  {
   "cell_type": "code",
   "execution_count": 2,
   "metadata": {},
   "outputs": [],
   "source": [
    "path = \"G:\\JaneStreetReal\\jane-street-real-time-market-data-forecasting\""
   ]
  },
  {
   "cell_type": "markdown",
   "metadata": {},
   "source": [
    "**ANALAZING WHOLE DATA WITH POLARS -> First appraoch**"
   ]
  },
  {
   "cell_type": "code",
   "execution_count": 14,
   "metadata": {},
   "outputs": [],
   "source": [
    "import polars as pl"
   ]
  },
  {
   "cell_type": "code",
   "execution_count": 9,
   "metadata": {},
   "outputs": [],
   "source": [
    "df = pl.read_parquet(f\"{path}/train.parquet\", memory_map=True)"
   ]
  },
  {
   "cell_type": "code",
   "execution_count": 10,
   "metadata": {},
   "outputs": [
    {
     "data": {
      "text/html": [
       "<div><style>\n",
       ".dataframe > thead > tr,\n",
       ".dataframe > tbody > tr {\n",
       "  text-align: right;\n",
       "  white-space: pre-wrap;\n",
       "}\n",
       "</style>\n",
       "<small>shape: (47_127_338, 93)</small><table border=\"1\" class=\"dataframe\"><thead><tr><th>date_id</th><th>time_id</th><th>symbol_id</th><th>weight</th><th>feature_00</th><th>feature_01</th><th>feature_02</th><th>feature_03</th><th>feature_04</th><th>feature_05</th><th>feature_06</th><th>feature_07</th><th>feature_08</th><th>feature_09</th><th>feature_10</th><th>feature_11</th><th>feature_12</th><th>feature_13</th><th>feature_14</th><th>feature_15</th><th>feature_16</th><th>feature_17</th><th>feature_18</th><th>feature_19</th><th>feature_20</th><th>feature_21</th><th>feature_22</th><th>feature_23</th><th>feature_24</th><th>feature_25</th><th>feature_26</th><th>feature_27</th><th>feature_28</th><th>feature_29</th><th>feature_30</th><th>feature_31</th><th>feature_32</th><th>&hellip;</th><th>feature_52</th><th>feature_53</th><th>feature_54</th><th>feature_55</th><th>feature_56</th><th>feature_57</th><th>feature_58</th><th>feature_59</th><th>feature_60</th><th>feature_61</th><th>feature_62</th><th>feature_63</th><th>feature_64</th><th>feature_65</th><th>feature_66</th><th>feature_67</th><th>feature_68</th><th>feature_69</th><th>feature_70</th><th>feature_71</th><th>feature_72</th><th>feature_73</th><th>feature_74</th><th>feature_75</th><th>feature_76</th><th>feature_77</th><th>feature_78</th><th>responder_0</th><th>responder_1</th><th>responder_2</th><th>responder_3</th><th>responder_4</th><th>responder_5</th><th>responder_6</th><th>responder_7</th><th>responder_8</th><th>partition_id</th></tr><tr><td>i16</td><td>i16</td><td>i8</td><td>f32</td><td>f32</td><td>f32</td><td>f32</td><td>f32</td><td>f32</td><td>f32</td><td>f32</td><td>f32</td><td>f32</td><td>i8</td><td>i8</td><td>i16</td><td>f32</td><td>f32</td><td>f32</td><td>f32</td><td>f32</td><td>f32</td><td>f32</td><td>f32</td><td>f32</td><td>f32</td><td>f32</td><td>f32</td><td>f32</td><td>f32</td><td>f32</td><td>f32</td><td>f32</td><td>f32</td><td>f32</td><td>f32</td><td>f32</td><td>&hellip;</td><td>f32</td><td>f32</td><td>f32</td><td>f32</td><td>f32</td><td>f32</td><td>f32</td><td>f32</td><td>f32</td><td>f32</td><td>f32</td><td>f32</td><td>f32</td><td>f32</td><td>f32</td><td>f32</td><td>f32</td><td>f32</td><td>f32</td><td>f32</td><td>f32</td><td>f32</td><td>f32</td><td>f32</td><td>f32</td><td>f32</td><td>f32</td><td>f32</td><td>f32</td><td>f32</td><td>f32</td><td>f32</td><td>f32</td><td>f32</td><td>f32</td><td>f32</td><td>i64</td></tr></thead><tbody><tr><td>0</td><td>0</td><td>1</td><td>3.889038</td><td>null</td><td>null</td><td>null</td><td>null</td><td>null</td><td>0.851033</td><td>0.242971</td><td>0.2634</td><td>-0.891687</td><td>11</td><td>7</td><td>76</td><td>-0.883028</td><td>0.003067</td><td>-0.744703</td><td>null</td><td>-0.169586</td><td>null</td><td>-1.335938</td><td>-1.707803</td><td>0.91013</td><td>null</td><td>1.636431</td><td>1.522133</td><td>-1.551398</td><td>-0.229627</td><td>null</td><td>null</td><td>1.378301</td><td>-0.283712</td><td>0.123196</td><td>null</td><td>null</td><td>&hellip;</td><td>null</td><td>null</td><td>-0.808103</td><td>null</td><td>-2.037683</td><td>0.727661</td><td>null</td><td>-0.989118</td><td>-0.345213</td><td>-1.36224</td><td>null</td><td>null</td><td>null</td><td>null</td><td>null</td><td>-1.251104</td><td>-0.110252</td><td>-0.491157</td><td>-1.02269</td><td>0.152241</td><td>-0.659864</td><td>null</td><td>null</td><td>-0.261412</td><td>-0.211486</td><td>-0.335556</td><td>-0.281498</td><td>0.738489</td><td>-0.069556</td><td>1.380875</td><td>2.005353</td><td>0.186018</td><td>1.218368</td><td>0.775981</td><td>0.346999</td><td>0.095504</td><td>0</td></tr><tr><td>0</td><td>0</td><td>7</td><td>1.370613</td><td>null</td><td>null</td><td>null</td><td>null</td><td>null</td><td>0.676961</td><td>0.151984</td><td>0.192465</td><td>-0.521729</td><td>11</td><td>7</td><td>76</td><td>-0.865307</td><td>-0.225629</td><td>-0.582163</td><td>null</td><td>0.317467</td><td>null</td><td>-1.250016</td><td>-1.682929</td><td>1.412757</td><td>null</td><td>0.520378</td><td>0.744132</td><td>-0.788658</td><td>0.641776</td><td>null</td><td>null</td><td>0.2272</td><td>0.580907</td><td>1.128879</td><td>null</td><td>null</td><td>&hellip;</td><td>null</td><td>null</td><td>-1.625862</td><td>null</td><td>-1.410017</td><td>1.063013</td><td>null</td><td>0.888355</td><td>0.467994</td><td>-1.36224</td><td>null</td><td>null</td><td>null</td><td>null</td><td>null</td><td>-1.065759</td><td>0.013322</td><td>-0.592855</td><td>-1.052685</td><td>-0.393726</td><td>-0.741603</td><td>null</td><td>null</td><td>-0.281207</td><td>-0.182894</td><td>-0.245565</td><td>-0.302441</td><td>2.965889</td><td>1.190077</td><td>-0.523998</td><td>3.849921</td><td>2.626981</td><td>5.0</td><td>0.703665</td><td>0.216683</td><td>0.778639</td><td>0</td></tr><tr><td>0</td><td>0</td><td>9</td><td>2.285698</td><td>null</td><td>null</td><td>null</td><td>null</td><td>null</td><td>1.056285</td><td>0.187227</td><td>0.249901</td><td>-0.77305</td><td>11</td><td>7</td><td>76</td><td>-0.675719</td><td>-0.199404</td><td>-0.586798</td><td>null</td><td>-0.814909</td><td>null</td><td>-1.296782</td><td>-2.040234</td><td>0.639589</td><td>null</td><td>1.597359</td><td>0.657514</td><td>-1.350148</td><td>0.364215</td><td>null</td><td>null</td><td>-0.017751</td><td>-0.317361</td><td>-0.122379</td><td>null</td><td>null</td><td>&hellip;</td><td>null</td><td>null</td><td>-0.72542</td><td>null</td><td>-2.29417</td><td>1.764551</td><td>null</td><td>-0.120789</td><td>-0.063458</td><td>-1.36224</td><td>null</td><td>null</td><td>null</td><td>null</td><td>null</td><td>-0.882604</td><td>-0.072482</td><td>-0.617934</td><td>-0.86323</td><td>-0.241892</td><td>-0.709919</td><td>null</td><td>null</td><td>0.377131</td><td>0.300724</td><td>-0.106842</td><td>-0.096792</td><td>-0.864488</td><td>-0.280303</td><td>-0.326697</td><td>0.375781</td><td>1.271291</td><td>0.099793</td><td>2.109352</td><td>0.670881</td><td>0.772828</td><td>0</td></tr><tr><td>0</td><td>0</td><td>10</td><td>0.690606</td><td>null</td><td>null</td><td>null</td><td>null</td><td>null</td><td>1.139366</td><td>0.273328</td><td>0.306549</td><td>-1.262223</td><td>42</td><td>5</td><td>150</td><td>-0.694008</td><td>3.004091</td><td>0.114809</td><td>null</td><td>-0.251882</td><td>null</td><td>-1.902009</td><td>-0.979447</td><td>0.241165</td><td>null</td><td>-0.392359</td><td>-0.224699</td><td>-2.129397</td><td>-0.855287</td><td>null</td><td>null</td><td>0.404142</td><td>-0.578156</td><td>0.105702</td><td>null</td><td>null</td><td>&hellip;</td><td>null</td><td>null</td><td>1.313203</td><td>null</td><td>-0.810125</td><td>2.939022</td><td>null</td><td>3.988801</td><td>1.834661</td><td>-1.36224</td><td>null</td><td>null</td><td>null</td><td>null</td><td>null</td><td>-0.697595</td><td>1.074309</td><td>-0.206929</td><td>-0.530602</td><td>4.765215</td><td>0.571554</td><td>null</td><td>null</td><td>-0.226891</td><td>-0.251412</td><td>-0.215522</td><td>-0.296244</td><td>0.408499</td><td>0.223992</td><td>2.294888</td><td>1.097444</td><td>1.225872</td><td>1.225376</td><td>1.114137</td><td>0.775199</td><td>-1.379516</td><td>0</td></tr><tr><td>0</td><td>0</td><td>14</td><td>0.44057</td><td>null</td><td>null</td><td>null</td><td>null</td><td>null</td><td>0.9552</td><td>0.262404</td><td>0.344457</td><td>-0.613813</td><td>44</td><td>3</td><td>16</td><td>-0.947351</td><td>-0.030018</td><td>-0.502379</td><td>null</td><td>0.646086</td><td>null</td><td>-1.844685</td><td>-1.58656</td><td>-0.182024</td><td>null</td><td>-0.969949</td><td>-0.673813</td><td>-1.282132</td><td>-1.399894</td><td>null</td><td>null</td><td>0.043815</td><td>-0.320225</td><td>-0.031713</td><td>null</td><td>null</td><td>&hellip;</td><td>null</td><td>null</td><td>0.476195</td><td>null</td><td>-0.771732</td><td>2.843421</td><td>null</td><td>1.379815</td><td>0.411827</td><td>-1.36224</td><td>null</td><td>null</td><td>null</td><td>null</td><td>null</td><td>-0.948601</td><td>-0.136814</td><td>-0.447704</td><td>-1.141761</td><td>0.099631</td><td>-0.661928</td><td>null</td><td>null</td><td>3.678076</td><td>2.793581</td><td>2.61825</td><td>3.418133</td><td>-0.373387</td><td>-0.502764</td><td>-0.348021</td><td>-3.928148</td><td>-1.591366</td><td>-5.0</td><td>-3.57282</td><td>-1.089123</td><td>-5.0</td><td>0</td></tr><tr><td>&hellip;</td><td>&hellip;</td><td>&hellip;</td><td>&hellip;</td><td>&hellip;</td><td>&hellip;</td><td>&hellip;</td><td>&hellip;</td><td>&hellip;</td><td>&hellip;</td><td>&hellip;</td><td>&hellip;</td><td>&hellip;</td><td>&hellip;</td><td>&hellip;</td><td>&hellip;</td><td>&hellip;</td><td>&hellip;</td><td>&hellip;</td><td>&hellip;</td><td>&hellip;</td><td>&hellip;</td><td>&hellip;</td><td>&hellip;</td><td>&hellip;</td><td>&hellip;</td><td>&hellip;</td><td>&hellip;</td><td>&hellip;</td><td>&hellip;</td><td>&hellip;</td><td>&hellip;</td><td>&hellip;</td><td>&hellip;</td><td>&hellip;</td><td>&hellip;</td><td>&hellip;</td><td>&hellip;</td><td>&hellip;</td><td>&hellip;</td><td>&hellip;</td><td>&hellip;</td><td>&hellip;</td><td>&hellip;</td><td>&hellip;</td><td>&hellip;</td><td>&hellip;</td><td>&hellip;</td><td>&hellip;</td><td>&hellip;</td><td>&hellip;</td><td>&hellip;</td><td>&hellip;</td><td>&hellip;</td><td>&hellip;</td><td>&hellip;</td><td>&hellip;</td><td>&hellip;</td><td>&hellip;</td><td>&hellip;</td><td>&hellip;</td><td>&hellip;</td><td>&hellip;</td><td>&hellip;</td><td>&hellip;</td><td>&hellip;</td><td>&hellip;</td><td>&hellip;</td><td>&hellip;</td><td>&hellip;</td><td>&hellip;</td><td>&hellip;</td><td>&hellip;</td><td>&hellip;</td><td>&hellip;</td></tr><tr><td>1698</td><td>967</td><td>34</td><td>3.242493</td><td>2.52516</td><td>-0.721981</td><td>2.544025</td><td>2.477615</td><td>0.417557</td><td>0.785812</td><td>1.117796</td><td>2.199436</td><td>0.415427</td><td>42</td><td>5</td><td>150</td><td>0.804403</td><td>1.157257</td><td>1.031543</td><td>-0.671189</td><td>-0.3286</td><td>-0.486132</td><td>1.730176</td><td>-0.006173</td><td>-0.001144</td><td>-0.213062</td><td>0.932618</td><td>1.367338</td><td>-0.238197</td><td>-0.692615</td><td>-0.121163</td><td>1.090798</td><td>1.444294</td><td>-0.675626</td><td>-1.013264</td><td>-0.242888</td><td>3.427639</td><td>&hellip;</td><td>0.953005</td><td>1.377051</td><td>-0.396358</td><td>0.520262</td><td>1.179617</td><td>1.127657</td><td>2.231928</td><td>0.614652</td><td>2.412886</td><td>-1.101531</td><td>-0.384833</td><td>-0.275818</td><td>-0.40804</td><td>2.427115</td><td>-0.108427</td><td>0.739734</td><td>0.830205</td><td>0.366287</td><td>1.33325</td><td>1.075499</td><td>1.798264</td><td>-0.183443</td><td>-0.190222</td><td>0.234211</td><td>0.347142</td><td>-0.044463</td><td>0.016936</td><td>0.243475</td><td>0.166927</td><td>0.38494</td><td>-0.174297</td><td>-0.066046</td><td>-0.038767</td><td>-0.132337</td><td>-0.022426</td><td>-0.252461</td><td>9</td></tr><tr><td>1698</td><td>967</td><td>35</td><td>1.079139</td><td>1.857906</td><td>-0.790646</td><td>2.745439</td><td>2.339877</td><td>0.845065</td><td>0.65137</td><td>1.180301</td><td>1.966379</td><td>0.321543</td><td>25</td><td>7</td><td>195</td><td>-0.075294</td><td>-0.152726</td><td>-0.20417</td><td>-0.421137</td><td>0.21708</td><td>-0.258775</td><td>1.874978</td><td>0.19988</td><td>-0.199219</td><td>-0.125619</td><td>-1.004547</td><td>-0.051933</td><td>0.450905</td><td>0.009246</td><td>0.164127</td><td>-0.939974</td><td>-1.143421</td><td>-0.320071</td><td>-0.379835</td><td>-0.142429</td><td>3.862469</td><td>&hellip;</td><td>-0.315776</td><td>0.687755</td><td>-1.189577</td><td>0.180146</td><td>-0.175486</td><td>-1.60435</td><td>-0.209283</td><td>0.249847</td><td>0.288816</td><td>-1.101531</td><td>-0.343868</td><td>-0.253991</td><td>-0.278832</td><td>2.050639</td><td>-0.059506</td><td>-0.029396</td><td>-0.101381</td><td>-0.187759</td><td>-0.180839</td><td>-0.0861</td><td>-0.153405</td><td>-0.196077</td><td>-0.175292</td><td>1.04578</td><td>0.739733</td><td>0.03372</td><td>0.05086</td><td>0.850152</td><td>0.909382</td><td>1.015314</td><td>0.235962</td><td>0.122539</td><td>0.099559</td><td>-0.249584</td><td>-0.123571</td><td>-0.46063</td><td>9</td></tr><tr><td>1698</td><td>967</td><td>36</td><td>1.033172</td><td>2.515527</td><td>-0.672298</td><td>2.28925</td><td>2.521592</td><td>0.255077</td><td>0.919892</td><td>1.172018</td><td>2.180496</td><td>0.24846</td><td>49</td><td>7</td><td>297</td><td>1.026715</td><td>-0.096892</td><td>0.224309</td><td>-0.528109</td><td>-0.704952</td><td>-0.704818</td><td>2.312482</td><td>0.32804</td><td>-0.108193</td><td>null</td><td>-0.945684</td><td>-0.244173</td><td>0.205989</td><td>-0.357343</td><td>null</td><td>null</td><td>-1.11075</td><td>-0.580242</td><td>-0.400568</td><td>null</td><td>2.397877</td><td>&hellip;</td><td>1.338474</td><td>0.933568</td><td>0.032978</td><td>-0.519118</td><td>-0.290343</td><td>-0.806786</td><td>0.106295</td><td>0.183461</td><td>1.830421</td><td>-1.101531</td><td>-0.341991</td><td>-0.249132</td><td>-0.34365</td><td>2.251358</td><td>0.601888</td><td>1.035051</td><td>-0.283241</td><td>0.107244</td><td>0.86016</td><td>0.024223</td><td>0.374852</td><td>-0.220933</td><td>-0.161584</td><td>0.032771</td><td>0.036888</td><td>0.168908</td><td>0.152333</td><td>0.395684</td><td>-0.292574</td><td>-3.215846</td><td>-0.535129</td><td>-0.178484</td><td>-1.80815</td><td>-0.065355</td><td>-0.000367</td><td>-0.12517</td><td>9</td></tr><tr><td>1698</td><td>967</td><td>37</td><td>1.243116</td><td>2.663298</td><td>-0.889112</td><td>2.313155</td><td>3.101428</td><td>0.324454</td><td>0.618944</td><td>1.185663</td><td>1.599724</td><td>0.319719</td><td>34</td><td>4</td><td>214</td><td>0.759314</td><td>0.284057</td><td>0.41716</td><td>-0.611075</td><td>-0.513717</td><td>-0.891423</td><td>1.84994</td><td>0.406756</td><td>-1.608196</td><td>-0.252663</td><td>-0.271574</td><td>-0.051405</td><td>0.098146</td><td>-0.653961</td><td>0.173676</td><td>-0.016497</td><td>-0.404509</td><td>-0.577262</td><td>-0.731429</td><td>-0.21646</td><td>3.018564</td><td>&hellip;</td><td>0.471775</td><td>1.876459</td><td>-0.143377</td><td>0.845516</td><td>0.301135</td><td>-0.395703</td><td>0.738038</td><td>-0.04124</td><td>1.270645</td><td>-1.101531</td><td>-0.358106</td><td>-0.141883</td><td>-0.255192</td><td>2.489247</td><td>0.537652</td><td>0.982107</td><td>-0.158009</td><td>0.137389</td><td>0.478357</td><td>0.782692</td><td>0.581421</td><td>-0.106056</td><td>-0.111017</td><td>0.163867</td><td>0.169331</td><td>-0.037563</td><td>-0.029483</td><td>1.925987</td><td>0.479394</td><td>3.621867</td><td>-0.107114</td><td>-0.063599</td><td>1.204755</td><td>-0.148711</td><td>-0.026583</td><td>-0.256395</td><td>9</td></tr><tr><td>1698</td><td>967</td><td>38</td><td>3.193685</td><td>2.728506</td><td>-0.745238</td><td>2.788789</td><td>2.343393</td><td>0.454731</td><td>0.862839</td><td>0.964795</td><td>2.089673</td><td>0.344931</td><td>50</td><td>1</td><td>522</td><td>0.406531</td><td>0.618247</td><td>1.01327</td><td>-0.952069</td><td>-0.679168</td><td>-0.597603</td><td>0.375125</td><td>1.97537</td><td>-0.440974</td><td>-0.072018</td><td>1.741353</td><td>1.380735</td><td>-0.110494</td><td>-0.874806</td><td>0.553424</td><td>0.532243</td><td>0.263214</td><td>-0.757856</td><td>-0.869204</td><td>-0.062955</td><td>3.619233</td><td>&hellip;</td><td>0.915804</td><td>1.862022</td><td>0.503819</td><td>1.310126</td><td>0.662521</td><td>1.654948</td><td>1.090367</td><td>0.535922</td><td>0.653011</td><td>-1.101531</td><td>-0.622853</td><td>-0.363631</td><td>-0.395652</td><td>-0.016812</td><td>2.016734</td><td>0.241486</td><td>0.253229</td><td>0.228745</td><td>0.462717</td><td>0.799635</td><td>0.706102</td><td>-0.376377</td><td>-0.286764</td><td>-0.359046</td><td>-0.246135</td><td>-0.288941</td><td>-0.247774</td><td>1.228778</td><td>0.512562</td><td>-0.050865</td><td>0.160883</td><td>0.080756</td><td>-0.078237</td><td>-0.138548</td><td>-0.038771</td><td>-0.21194</td><td>9</td></tr></tbody></table></div>"
      ],
      "text/plain": [
       "shape: (47_127_338, 93)\n",
       "┌─────────┬─────────┬───────────┬──────────┬───┬────────────┬────────────┬────────────┬────────────┐\n",
       "│ date_id ┆ time_id ┆ symbol_id ┆ weight   ┆ … ┆ responder_ ┆ responder_ ┆ responder_ ┆ partition_ │\n",
       "│ ---     ┆ ---     ┆ ---       ┆ ---      ┆   ┆ 6          ┆ 7          ┆ 8          ┆ id         │\n",
       "│ i16     ┆ i16     ┆ i8        ┆ f32      ┆   ┆ ---        ┆ ---        ┆ ---        ┆ ---        │\n",
       "│         ┆         ┆           ┆          ┆   ┆ f32        ┆ f32        ┆ f32        ┆ i64        │\n",
       "╞═════════╪═════════╪═══════════╪══════════╪═══╪════════════╪════════════╪════════════╪════════════╡\n",
       "│ 0       ┆ 0       ┆ 1         ┆ 3.889038 ┆ … ┆ 0.775981   ┆ 0.346999   ┆ 0.095504   ┆ 0          │\n",
       "│ 0       ┆ 0       ┆ 7         ┆ 1.370613 ┆ … ┆ 0.703665   ┆ 0.216683   ┆ 0.778639   ┆ 0          │\n",
       "│ 0       ┆ 0       ┆ 9         ┆ 2.285698 ┆ … ┆ 2.109352   ┆ 0.670881   ┆ 0.772828   ┆ 0          │\n",
       "│ 0       ┆ 0       ┆ 10        ┆ 0.690606 ┆ … ┆ 1.114137   ┆ 0.775199   ┆ -1.379516  ┆ 0          │\n",
       "│ 0       ┆ 0       ┆ 14        ┆ 0.44057  ┆ … ┆ -3.57282   ┆ -1.089123  ┆ -5.0       ┆ 0          │\n",
       "│ …       ┆ …       ┆ …         ┆ …        ┆ … ┆ …          ┆ …          ┆ …          ┆ …          │\n",
       "│ 1698    ┆ 967     ┆ 34        ┆ 3.242493 ┆ … ┆ -0.132337  ┆ -0.022426  ┆ -0.252461  ┆ 9          │\n",
       "│ 1698    ┆ 967     ┆ 35        ┆ 1.079139 ┆ … ┆ -0.249584  ┆ -0.123571  ┆ -0.46063   ┆ 9          │\n",
       "│ 1698    ┆ 967     ┆ 36        ┆ 1.033172 ┆ … ┆ -0.065355  ┆ -0.000367  ┆ -0.12517   ┆ 9          │\n",
       "│ 1698    ┆ 967     ┆ 37        ┆ 1.243116 ┆ … ┆ -0.148711  ┆ -0.026583  ┆ -0.256395  ┆ 9          │\n",
       "│ 1698    ┆ 967     ┆ 38        ┆ 3.193685 ┆ … ┆ -0.138548  ┆ -0.038771  ┆ -0.21194   ┆ 9          │\n",
       "└─────────┴─────────┴───────────┴──────────┴───┴────────────┴────────────┴────────────┴────────────┘"
      ]
     },
     "execution_count": 10,
     "metadata": {},
     "output_type": "execute_result"
    }
   ],
   "source": [
    "df"
   ]
  },
  {
   "cell_type": "code",
   "execution_count": 12,
   "metadata": {},
   "outputs": [],
   "source": [
    "# schema = pl.read_parquet_schema(f'{path}/train.parquet')"
   ]
  },
  {
   "cell_type": "code",
   "execution_count": 16,
   "metadata": {},
   "outputs": [
    {
     "data": {
      "text/plain": [
       "Schema([('date_id', Int16),\n",
       "        ('time_id', Int16),\n",
       "        ('symbol_id', Int8),\n",
       "        ('weight', Float32),\n",
       "        ('feature_00', Float32),\n",
       "        ('feature_01', Float32),\n",
       "        ('feature_02', Float32),\n",
       "        ('feature_03', Float32),\n",
       "        ('feature_04', Float32),\n",
       "        ('feature_05', Float32),\n",
       "        ('feature_06', Float32),\n",
       "        ('feature_07', Float32),\n",
       "        ('feature_08', Float32),\n",
       "        ('feature_09', Int8),\n",
       "        ('feature_10', Int8),\n",
       "        ('feature_11', Int16),\n",
       "        ('feature_12', Float32),\n",
       "        ('feature_13', Float32),\n",
       "        ('feature_14', Float32),\n",
       "        ('feature_15', Float32),\n",
       "        ('feature_16', Float32),\n",
       "        ('feature_17', Float32),\n",
       "        ('feature_18', Float32),\n",
       "        ('feature_19', Float32),\n",
       "        ('feature_20', Float32),\n",
       "        ('feature_21', Float32),\n",
       "        ('feature_22', Float32),\n",
       "        ('feature_23', Float32),\n",
       "        ('feature_24', Float32),\n",
       "        ('feature_25', Float32),\n",
       "        ('feature_26', Float32),\n",
       "        ('feature_27', Float32),\n",
       "        ('feature_28', Float32),\n",
       "        ('feature_29', Float32),\n",
       "        ('feature_30', Float32),\n",
       "        ('feature_31', Float32),\n",
       "        ('feature_32', Float32),\n",
       "        ('feature_33', Float32),\n",
       "        ('feature_34', Float32),\n",
       "        ('feature_35', Float32),\n",
       "        ('feature_36', Float32),\n",
       "        ('feature_37', Float32),\n",
       "        ('feature_38', Float32),\n",
       "        ('feature_39', Float32),\n",
       "        ('feature_40', Float32),\n",
       "        ('feature_41', Float32),\n",
       "        ('feature_42', Float32),\n",
       "        ('feature_43', Float32),\n",
       "        ('feature_44', Float32),\n",
       "        ('feature_45', Float32),\n",
       "        ('feature_46', Float32),\n",
       "        ('feature_47', Float32),\n",
       "        ('feature_48', Float32),\n",
       "        ('feature_49', Float32),\n",
       "        ('feature_50', Float32),\n",
       "        ('feature_51', Float32),\n",
       "        ('feature_52', Float32),\n",
       "        ('feature_53', Float32),\n",
       "        ('feature_54', Float32),\n",
       "        ('feature_55', Float32),\n",
       "        ('feature_56', Float32),\n",
       "        ('feature_57', Float32),\n",
       "        ('feature_58', Float32),\n",
       "        ('feature_59', Float32),\n",
       "        ('feature_60', Float32),\n",
       "        ('feature_61', Float32),\n",
       "        ('feature_62', Float32),\n",
       "        ('feature_63', Float32),\n",
       "        ('feature_64', Float32),\n",
       "        ('feature_65', Float32),\n",
       "        ('feature_66', Float32),\n",
       "        ('feature_67', Float32),\n",
       "        ('feature_68', Float32),\n",
       "        ('feature_69', Float32),\n",
       "        ('feature_70', Float32),\n",
       "        ('feature_71', Float32),\n",
       "        ('feature_72', Float32),\n",
       "        ('feature_73', Float32),\n",
       "        ('feature_74', Float32),\n",
       "        ('feature_75', Float32),\n",
       "        ('feature_76', Float32),\n",
       "        ('feature_77', Float32),\n",
       "        ('feature_78', Float32),\n",
       "        ('responder_0', Float32),\n",
       "        ('responder_1', Float32),\n",
       "        ('responder_2', Float32),\n",
       "        ('responder_3', Float32),\n",
       "        ('responder_4', Float32),\n",
       "        ('responder_5', Float32),\n",
       "        ('responder_6', Float32),\n",
       "        ('responder_7', Float32),\n",
       "        ('responder_8', Float32),\n",
       "        ('partition_id', Int64)])"
      ]
     },
     "execution_count": 16,
     "metadata": {},
     "output_type": "execute_result"
    }
   ],
   "source": [
    "df.schema"
   ]
  },
  {
   "cell_type": "code",
   "execution_count": 17,
   "metadata": {},
   "outputs": [
    {
     "data": {
      "text/html": [
       "<div><style>\n",
       ".dataframe > thead > tr,\n",
       ".dataframe > tbody > tr {\n",
       "  text-align: right;\n",
       "  white-space: pre-wrap;\n",
       "}\n",
       "</style>\n",
       "<small>shape: (9, 94)</small><table border=\"1\" class=\"dataframe\"><thead><tr><th>statistic</th><th>date_id</th><th>time_id</th><th>symbol_id</th><th>weight</th><th>feature_00</th><th>feature_01</th><th>feature_02</th><th>feature_03</th><th>feature_04</th><th>feature_05</th><th>feature_06</th><th>feature_07</th><th>feature_08</th><th>feature_09</th><th>feature_10</th><th>feature_11</th><th>feature_12</th><th>feature_13</th><th>feature_14</th><th>feature_15</th><th>feature_16</th><th>feature_17</th><th>feature_18</th><th>feature_19</th><th>feature_20</th><th>feature_21</th><th>feature_22</th><th>feature_23</th><th>feature_24</th><th>feature_25</th><th>feature_26</th><th>feature_27</th><th>feature_28</th><th>feature_29</th><th>feature_30</th><th>feature_31</th><th>&hellip;</th><th>feature_52</th><th>feature_53</th><th>feature_54</th><th>feature_55</th><th>feature_56</th><th>feature_57</th><th>feature_58</th><th>feature_59</th><th>feature_60</th><th>feature_61</th><th>feature_62</th><th>feature_63</th><th>feature_64</th><th>feature_65</th><th>feature_66</th><th>feature_67</th><th>feature_68</th><th>feature_69</th><th>feature_70</th><th>feature_71</th><th>feature_72</th><th>feature_73</th><th>feature_74</th><th>feature_75</th><th>feature_76</th><th>feature_77</th><th>feature_78</th><th>responder_0</th><th>responder_1</th><th>responder_2</th><th>responder_3</th><th>responder_4</th><th>responder_5</th><th>responder_6</th><th>responder_7</th><th>responder_8</th><th>partition_id</th></tr><tr><td>str</td><td>f64</td><td>f64</td><td>f64</td><td>f64</td><td>f64</td><td>f64</td><td>f64</td><td>f64</td><td>f64</td><td>f64</td><td>f64</td><td>f64</td><td>f64</td><td>f64</td><td>f64</td><td>f64</td><td>f64</td><td>f64</td><td>f64</td><td>f64</td><td>f64</td><td>f64</td><td>f64</td><td>f64</td><td>f64</td><td>f64</td><td>f64</td><td>f64</td><td>f64</td><td>f64</td><td>f64</td><td>f64</td><td>f64</td><td>f64</td><td>f64</td><td>f64</td><td>&hellip;</td><td>f64</td><td>f64</td><td>f64</td><td>f64</td><td>f64</td><td>f64</td><td>f64</td><td>f64</td><td>f64</td><td>f64</td><td>f64</td><td>f64</td><td>f64</td><td>f64</td><td>f64</td><td>f64</td><td>f64</td><td>f64</td><td>f64</td><td>f64</td><td>f64</td><td>f64</td><td>f64</td><td>f64</td><td>f64</td><td>f64</td><td>f64</td><td>f64</td><td>f64</td><td>f64</td><td>f64</td><td>f64</td><td>f64</td><td>f64</td><td>f64</td><td>f64</td><td>f64</td></tr></thead><tbody><tr><td>&quot;count&quot;</td><td>4.7127338e7</td><td>4.7127338e7</td><td>4.7127338e7</td><td>4.7127338e7</td><td>4.3945286e7</td><td>4.3945286e7</td><td>4.3945286e7</td><td>4.3945286e7</td><td>4.3945286e7</td><td>4.7127338e7</td><td>4.7127338e7</td><td>4.7127338e7</td><td>4.6827091e7</td><td>4.7127338e7</td><td>4.7127338e7</td><td>4.7127338e7</td><td>4.7127338e7</td><td>4.7127338e7</td><td>4.7127338e7</td><td>4.5918039e7</td><td>4.7127077e7</td><td>4.69255e7</td><td>4.7127112e7</td><td>4.7127112e7</td><td>4.7127338e7</td><td>3.8691353e7</td><td>4.7127338e7</td><td>4.7127338e7</td><td>4.7127338e7</td><td>4.7127338e7</td><td>3.8691353e7</td><td>3.8691353e7</td><td>4.7127338e7</td><td>4.7127338e7</td><td>4.7127338e7</td><td>3.8691353e7</td><td>&hellip;</td><td>4.608244e7</td><td>4.287324e7</td><td>4.7113533e7</td><td>4.608244e7</td><td>4.7127112e7</td><td>4.7127112e7</td><td>4.6648886e7</td><td>4.7127338e7</td><td>4.7127338e7</td><td>4.7127338e7</td><td>4.6834511e7</td><td>4.6899772e7</td><td>4.6889675e7</td><td>4.6810175e7</td><td>4.6810175e7</td><td>4.7127338e7</td><td>4.7127338e7</td><td>4.7127338e7</td><td>4.7127338e7</td><td>4.7127338e7</td><td>4.7127338e7</td><td>4.6643579e7</td><td>4.6643579e7</td><td>4.7068908e7</td><td>4.7068908e7</td><td>4.7107295e7</td><td>4.7107295e7</td><td>4.7127338e7</td><td>4.7127338e7</td><td>4.7127338e7</td><td>4.7127338e7</td><td>4.7127338e7</td><td>4.7127338e7</td><td>4.7127338e7</td><td>4.7127338e7</td><td>4.7127338e7</td><td>4.7127338e7</td></tr><tr><td>&quot;null_count&quot;</td><td>0.0</td><td>0.0</td><td>0.0</td><td>0.0</td><td>3.182052e6</td><td>3.182052e6</td><td>3.182052e6</td><td>3.182052e6</td><td>3.182052e6</td><td>0.0</td><td>0.0</td><td>0.0</td><td>300247.0</td><td>0.0</td><td>0.0</td><td>0.0</td><td>0.0</td><td>0.0</td><td>0.0</td><td>1.209299e6</td><td>261.0</td><td>201838.0</td><td>226.0</td><td>226.0</td><td>0.0</td><td>8.435985e6</td><td>0.0</td><td>0.0</td><td>0.0</td><td>0.0</td><td>8.435985e6</td><td>8.435985e6</td><td>0.0</td><td>0.0</td><td>0.0</td><td>8.435985e6</td><td>&hellip;</td><td>1.044898e6</td><td>4.254098e6</td><td>13805.0</td><td>1.044898e6</td><td>226.0</td><td>226.0</td><td>478452.0</td><td>0.0</td><td>0.0</td><td>0.0</td><td>292827.0</td><td>227566.0</td><td>237663.0</td><td>317163.0</td><td>317163.0</td><td>0.0</td><td>0.0</td><td>0.0</td><td>0.0</td><td>0.0</td><td>0.0</td><td>483759.0</td><td>483759.0</td><td>58430.0</td><td>58430.0</td><td>20043.0</td><td>20043.0</td><td>0.0</td><td>0.0</td><td>0.0</td><td>0.0</td><td>0.0</td><td>0.0</td><td>0.0</td><td>0.0</td><td>0.0</td><td>0.0</td></tr><tr><td>&quot;mean&quot;</td><td>1005.479389</td><td>468.705722</td><td>18.102394</td><td>2.009445</td><td>0.573833</td><td>0.010192</td><td>0.573102</td><td>0.572745</td><td>-0.000852</td><td>-0.03838</td><td>-0.005058</td><td>-0.013839</td><td>0.082467</td><td>32.762992</td><td>4.875799</td><td>170.69312</td><td>-0.038973</td><td>-0.026642</td><td>-0.041218</td><td>-0.251219</td><td>-0.20489</td><td>-0.242808</td><td>-0.008927</td><td>-0.031894</td><td>-0.209704</td><td>0.037687</td><td>0.067906</td><td>0.072203</td><td>0.572287</td><td>0.092576</td><td>-0.049244</td><td>-0.234434</td><td>-0.155543</td><td>-0.215313</td><td>-0.2576</td><td>0.036165</td><td>&hellip;</td><td>-0.103892</td><td>0.074961</td><td>0.048527</td><td>0.086814</td><td>-0.028328</td><td>0.027874</td><td>-0.015198</td><td>-0.002545</td><td>-0.00665</td><td>0.012388</td><td>-0.179578</td><td>-0.145254</td><td>-0.166556</td><td>-0.043152</td><td>-0.050118</td><td>-0.042604</td><td>-0.023995</td><td>-0.040502</td><td>-0.032992</td><td>-0.021157</td><td>-0.036682</td><td>-0.016559</td><td>-0.023103</td><td>-0.002237</td><td>-0.008022</td><td>-0.00659</td><td>-0.012559</td><td>-0.001545</td><td>-0.000866</td><td>-0.000142</td><td>-0.01638</td><td>-0.012442</td><td>-0.016624</td><td>-0.002141</td><td>0.001476</td><td>-0.001114</td><td>5.409279</td></tr><tr><td>&quot;std&quot;</td><td>445.181943</td><td>272.518697</td><td>11.301645</td><td>1.129388</td><td>1.327413</td><td>1.084941</td><td>1.32287</td><td>1.322849</td><td>1.037188</td><td>1.02012</td><td>1.065836</td><td>1.058633</td><td>0.973704</td><td>23.897102</td><td>3.036514</td><td>164.523054</td><td>0.93135</td><td>0.903511</td><td>0.927618</td><td>0.916496</td><td>0.891434</td><td>0.911261</td><td>1.035968</td><td>1.060218</td><td>0.905527</td><td>0.88762</td><td>0.979838</td><td>0.940164</td><td>1.449629</td><td>1.020206</td><td>1.059212</td><td>1.05812</td><td>1.038651</td><td>0.878222</td><td>0.927363</td><td>0.737381</td><td>&hellip;</td><td>1.004431</td><td>1.036738</td><td>0.914435</td><td>0.999288</td><td>0.998483</td><td>1.03619</td><td>0.951424</td><td>0.94698</td><td>0.952109</td><td>1.112283</td><td>0.79263</td><td>0.718381</td><td>0.724299</td><td>1.04563</td><td>1.065957</td><td>0.915921</td><td>0.882024</td><td>0.907692</td><td>0.942279</td><td>0.886376</td><td>0.930929</td><td>0.966191</td><td>0.958618</td><td>0.956047</td><td>0.948959</td><td>0.949269</td><td>0.943592</td><td>0.591211</td><td>0.587551</td><td>0.599179</td><td>0.819231</td><td>0.87284</td><td>0.734546</td><td>0.889852</td><td>0.916042</td><td>0.864412</td><td>2.610668</td></tr><tr><td>&quot;min&quot;</td><td>0.0</td><td>0.0</td><td>0.0</td><td>0.149967</td><td>-5.794129</td><td>-5.741592</td><td>-5.72601</td><td>-5.60189</td><td>-5.79988</td><td>-25.350399</td><td>-58.604362</td><td>-39.085358</td><td>-15.566865</td><td>2.0</td><td>1.0</td><td>9.0</td><td>-1.913078</td><td>-0.921612</td><td>-1.399126</td><td>-1.688744</td><td>-1.760566</td><td>-1.731827</td><td>-6.000734</td><td>-5.772067</td><td>-4.620031</td><td>-0.558637</td><td>-2.602898</td><td>-2.585011</td><td>-3.234935</td><td>-2.178431</td><td>-3.451056</td><td>-3.475544</td><td>-4.063898</td><td>-1.59573</td><td>-1.670693</td><td>-0.503498</td><td>&hellip;</td><td>-5.356531</td><td>-5.353856</td><td>-5.606056</td><td>-5.698468</td><td>-5.528082</td><td>-5.369931</td><td>-36.406746</td><td>-169.922882</td><td>-62.636726</td><td>-5.740418</td><td>-0.932498</td><td>-0.834446</td><td>-0.952489</td><td>-5.220601</td><td>-5.906378</td><td>-1.698194</td><td>-0.740409</td><td>-1.321859</td><td>-1.894538</td><td>-0.825984</td><td>-1.401122</td><td>-7.017025</td><td>-6.107176</td><td>-6.279804</td><td>-5.730657</td><td>-5.920879</td><td>-6.159515</td><td>-5.0</td><td>-5.0</td><td>-5.0</td><td>-5.0</td><td>-5.0</td><td>-5.0</td><td>-5.0</td><td>-5.0</td><td>-5.0</td><td>0.0</td></tr><tr><td>&quot;25%&quot;</td><td>679.0</td><td>233.0</td><td>9.0</td><td>1.210248</td><td>-0.332597</td><td>-0.721098</td><td>-0.329828</td><td>-0.330473</td><td>-0.706751</td><td>-0.48758</td><td>-0.423991</td><td>-0.45811</td><td>-0.383698</td><td>11.0</td><td>3.0</td><td>59.0</td><td>-0.502319</td><td>-0.381587</td><td>-0.477013</td><td>-0.70299</td><td>-0.619538</td><td>-0.687114</td><td>-0.703462</td><td>-0.735385</td><td>-0.753683</td><td>-0.192191</td><td>-0.659105</td><td>-0.672382</td><td>-0.430413</td><td>-0.724598</td><td>-0.807654</td><td>-1.058077</td><td>-0.921974</td><td>-0.657959</td><td>-0.733317</td><td>-0.193346</td><td>&hellip;</td><td>-0.816762</td><td>-0.628716</td><td>-0.51377</td><td>-0.583466</td><td>-0.695265</td><td>-0.683238</td><td>-0.39056</td><td>-0.219139</td><td>-0.328788</td><td>-0.715441</td><td>-0.394248</td><td>-0.36148</td><td>-0.379126</td><td>-0.763339</td><td>-0.76966</td><td>-0.494946</td><td>-0.326631</td><td>-0.445909</td><td>-0.501901</td><td>-0.354698</td><td>-0.482947</td><td>-0.341742</td><td>-0.348328</td><td>-0.291265</td><td>-0.302702</td><td>-0.297005</td><td>-0.303903</td><td>-0.19025</td><td>-0.163768</td><td>-0.199878</td><td>-0.310065</td><td>-0.383654</td><td>-0.225414</td><td>-0.382761</td><td>-0.419719</td><td>-0.334288</td><td>3.0</td></tr><tr><td>&quot;50%&quot;</td><td>1060.0</td><td>467.0</td><td>17.0</td><td>1.749686</td><td>0.405783</td><td>0.007342</td><td>0.407041</td><td>0.406398</td><td>0.002276</td><td>-0.056492</td><td>-0.009067</td><td>-0.033127</td><td>0.066749</td><td>30.0</td><td>4.0</td><td>76.0</td><td>-0.241653</td><td>-0.250703</td><td>-0.263261</td><td>-0.494275</td><td>-0.439048</td><td>-0.485204</td><td>0.013223</td><td>-0.019893</td><td>-0.203267</td><td>-0.071634</td><td>-0.090226</td><td>-0.074281</td><td>0.359284</td><td>-0.092646</td><td>-0.038531</td><td>-0.305663</td><td>-0.203686</td><td>-0.491794</td><td>-0.521971</td><td>-0.070778</td><td>&hellip;</td><td>-0.125911</td><td>0.084552</td><td>0.102193</td><td>0.114908</td><td>-0.01574</td><td>0.020898</td><td>0.005477</td><td>-0.003226</td><td>0.0004</td><td>0.03493</td><td>-0.299991</td><td>-0.276134</td><td>-0.289316</td><td>-0.027499</td><td>-0.043403</td><td>-0.253352</td><td>-0.229626</td><td>-0.262043</td><td>-0.22897</td><td>-0.239457</td><td>-0.258222</td><td>-0.222002</td><td>-0.214756</td><td>-0.225563</td><td>-0.215698</td><td>-0.203016</td><td>-0.194892</td><td>-0.004543</td><td>-0.023831</td><td>-0.000862</td><td>-0.025754</td><td>-0.04469</td><td>-0.009662</td><td>-0.025566</td><td>-0.039172</td><td>-0.008617</td><td>6.0</td></tr><tr><td>&quot;75%&quot;</td><td>1376.0</td><td>701.0</td><td>28.0</td><td>2.525645</td><td>1.261608</td><td>0.729377</td><td>1.258622</td><td>1.258682</td><td>0.703709</td><td>0.390622</td><td>0.40295</td><td>0.399753</td><td>0.545776</td><td>50.0</td><td>7.0</td><td>230.0</td><td>0.151159</td><td>0.013216</td><td>0.096103</td><td>-0.158807</td><td>-0.133404</td><td>-0.155685</td><td>0.689326</td><td>0.697446</td><td>0.325079</td><td>0.136483</td><td>0.687804</td><td>0.777812</td><td>1.334911</td><td>0.792469</td><td>0.463732</td><td>0.580433</td><td>0.637064</td><td>-0.165001</td><td>-0.159384</td><td>0.136456</td><td>&hellip;</td><td>0.571886</td><td>0.791087</td><td>0.625111</td><td>0.796459</td><td>0.650474</td><td>0.735661</td><td>0.385927</td><td>0.223869</td><td>0.338723</td><td>0.747711</td><td>-0.154715</td><td>-0.139755</td><td>-0.149665</td><td>0.665365</td><td>0.688806</td><td>0.124938</td><td>-0.027538</td><td>0.058261</td><td>0.172525</td><td>0.005978</td><td>0.118007</td><td>0.061969</td><td>0.062082</td><td>-0.017734</td><td>-0.015261</td><td>0.048274</td><td>0.048617</td><td>0.181948</td><td>0.127383</td><td>0.199062</td><td>0.261112</td><td>0.313263</td><td>0.200578</td><td>0.334321</td><td>0.355323</td><td>0.311202</td><td>8.0</td></tr><tr><td>&quot;max&quot;</td><td>1698.0</td><td>967.0</td><td>38.0</td><td>10.240419</td><td>6.477002</td><td>6.292391</td><td>6.490265</td><td>6.695623</td><td>6.16416</td><td>35.726223</td><td>93.644058</td><td>54.941608</td><td>21.695173</td><td>82.0</td><td>12.0</td><td>539.0</td><td>139.418411</td><td>381.20224</td><td>169.11882</td><td>111.079552</td><td>220.132477</td><td>134.500641</td><td>5.82537</td><td>5.972393</td><td>5.421159</td><td>161.486771</td><td>4.128449</td><td>3.24372</td><td>10.744452</td><td>4.136297</td><td>4.862733</td><td>2.64355</td><td>2.88091</td><td>7.534706</td><td>9.410683</td><td>127.98037</td><td>&hellip;</td><td>5.672063</td><td>5.705534</td><td>5.173214</td><td>5.216465</td><td>5.696934</td><td>5.514725</td><td>58.441505</td><td>256.867371</td><td>120.785431</td><td>5.746197</td><td>392.206909</td><td>162.320709</td><td>159.498932</td><td>5.786398</td><td>5.668077</td><td>93.847923</td><td>336.036957</td><td>121.076111</td><td>167.668549</td><td>735.592896</td><td>216.262894</td><td>200.948776</td><td>228.661392</td><td>213.313828</td><td>260.911194</td><td>208.127609</td><td>257.45401</td><td>5.0</td><td>5.0</td><td>5.0</td><td>5.0</td><td>5.0</td><td>5.0</td><td>5.0</td><td>5.0</td><td>5.0</td><td>9.0</td></tr></tbody></table></div>"
      ],
      "text/plain": [
       "shape: (9, 94)\n",
       "┌───────────┬───────────┬───────────┬───────────┬───┬───────────┬───────────┬───────────┬──────────┐\n",
       "│ statistic ┆ date_id   ┆ time_id   ┆ symbol_id ┆ … ┆ responder ┆ responder ┆ responder ┆ partitio │\n",
       "│ ---       ┆ ---       ┆ ---       ┆ ---       ┆   ┆ _6        ┆ _7        ┆ _8        ┆ n_id     │\n",
       "│ str       ┆ f64       ┆ f64       ┆ f64       ┆   ┆ ---       ┆ ---       ┆ ---       ┆ ---      │\n",
       "│           ┆           ┆           ┆           ┆   ┆ f64       ┆ f64       ┆ f64       ┆ f64      │\n",
       "╞═══════════╪═══════════╪═══════════╪═══════════╪═══╪═══════════╪═══════════╪═══════════╪══════════╡\n",
       "│ count     ┆ 4.7127338 ┆ 4.7127338 ┆ 4.7127338 ┆ … ┆ 4.7127338 ┆ 4.7127338 ┆ 4.7127338 ┆ 4.712733 │\n",
       "│           ┆ e7        ┆ e7        ┆ e7        ┆   ┆ e7        ┆ e7        ┆ e7        ┆ 8e7      │\n",
       "│ null_coun ┆ 0.0       ┆ 0.0       ┆ 0.0       ┆ … ┆ 0.0       ┆ 0.0       ┆ 0.0       ┆ 0.0      │\n",
       "│ t         ┆           ┆           ┆           ┆   ┆           ┆           ┆           ┆          │\n",
       "│ mean      ┆ 1005.4793 ┆ 468.70572 ┆ 18.102394 ┆ … ┆ -0.002141 ┆ 0.001476  ┆ -0.001114 ┆ 5.409279 │\n",
       "│           ┆ 89        ┆ 2         ┆           ┆   ┆           ┆           ┆           ┆          │\n",
       "│ std       ┆ 445.18194 ┆ 272.51869 ┆ 11.301645 ┆ … ┆ 0.889852  ┆ 0.916042  ┆ 0.864412  ┆ 2.610668 │\n",
       "│           ┆ 3         ┆ 7         ┆           ┆   ┆           ┆           ┆           ┆          │\n",
       "│ min       ┆ 0.0       ┆ 0.0       ┆ 0.0       ┆ … ┆ -5.0      ┆ -5.0      ┆ -5.0      ┆ 0.0      │\n",
       "│ 25%       ┆ 679.0     ┆ 233.0     ┆ 9.0       ┆ … ┆ -0.382761 ┆ -0.419719 ┆ -0.334288 ┆ 3.0      │\n",
       "│ 50%       ┆ 1060.0    ┆ 467.0     ┆ 17.0      ┆ … ┆ -0.025566 ┆ -0.039172 ┆ -0.008617 ┆ 6.0      │\n",
       "│ 75%       ┆ 1376.0    ┆ 701.0     ┆ 28.0      ┆ … ┆ 0.334321  ┆ 0.355323  ┆ 0.311202  ┆ 8.0      │\n",
       "│ max       ┆ 1698.0    ┆ 967.0     ┆ 38.0      ┆ … ┆ 5.0       ┆ 5.0       ┆ 5.0       ┆ 9.0      │\n",
       "└───────────┴───────────┴───────────┴───────────┴───┴───────────┴───────────┴───────────┴──────────┘"
      ]
     },
     "execution_count": 17,
     "metadata": {},
     "output_type": "execute_result"
    }
   ],
   "source": [
    "df.describe()"
   ]
  },
  {
   "cell_type": "markdown",
   "metadata": {},
   "source": [
    "**SECOND APPRAOCH USING DASK -> DATA IS TOO BIG FOR ANALYZING WHOLE SET**"
   ]
  },
  {
   "cell_type": "code",
   "execution_count": 10,
   "metadata": {},
   "outputs": [],
   "source": [
    "import dask.dataframe as dd\n",
    "import plotly.express as px\n",
    "import matplotlib.pyplot as plt\n",
    "import seaborn as sns"
   ]
  },
  {
   "cell_type": "code",
   "execution_count": 4,
   "metadata": {},
   "outputs": [
    {
     "data": {
      "text/html": [
       "<div>\n",
       "<style scoped>\n",
       "    .dataframe tbody tr th:only-of-type {\n",
       "        vertical-align: middle;\n",
       "    }\n",
       "\n",
       "    .dataframe tbody tr th {\n",
       "        vertical-align: top;\n",
       "    }\n",
       "\n",
       "    .dataframe thead th {\n",
       "        text-align: right;\n",
       "    }\n",
       "</style>\n",
       "<table border=\"1\" class=\"dataframe\">\n",
       "  <thead>\n",
       "    <tr style=\"text-align: right;\">\n",
       "      <th></th>\n",
       "      <th>date_id</th>\n",
       "      <th>time_id</th>\n",
       "      <th>symbol_id</th>\n",
       "      <th>weight</th>\n",
       "      <th>feature_00</th>\n",
       "      <th>feature_01</th>\n",
       "      <th>feature_02</th>\n",
       "      <th>feature_03</th>\n",
       "      <th>feature_04</th>\n",
       "      <th>feature_05</th>\n",
       "      <th>...</th>\n",
       "      <th>responder_0</th>\n",
       "      <th>responder_1</th>\n",
       "      <th>responder_2</th>\n",
       "      <th>responder_3</th>\n",
       "      <th>responder_4</th>\n",
       "      <th>responder_5</th>\n",
       "      <th>responder_6</th>\n",
       "      <th>responder_7</th>\n",
       "      <th>responder_8</th>\n",
       "      <th>partition_id</th>\n",
       "    </tr>\n",
       "  </thead>\n",
       "  <tbody>\n",
       "    <tr>\n",
       "      <th>0</th>\n",
       "      <td>0</td>\n",
       "      <td>0</td>\n",
       "      <td>1</td>\n",
       "      <td>3.889038</td>\n",
       "      <td>NaN</td>\n",
       "      <td>NaN</td>\n",
       "      <td>NaN</td>\n",
       "      <td>NaN</td>\n",
       "      <td>NaN</td>\n",
       "      <td>0.851033</td>\n",
       "      <td>...</td>\n",
       "      <td>0.738489</td>\n",
       "      <td>-0.069556</td>\n",
       "      <td>1.380875</td>\n",
       "      <td>2.005353</td>\n",
       "      <td>0.186018</td>\n",
       "      <td>1.218368</td>\n",
       "      <td>0.775981</td>\n",
       "      <td>0.346999</td>\n",
       "      <td>0.095504</td>\n",
       "      <td>0</td>\n",
       "    </tr>\n",
       "    <tr>\n",
       "      <th>1</th>\n",
       "      <td>0</td>\n",
       "      <td>0</td>\n",
       "      <td>7</td>\n",
       "      <td>1.370613</td>\n",
       "      <td>NaN</td>\n",
       "      <td>NaN</td>\n",
       "      <td>NaN</td>\n",
       "      <td>NaN</td>\n",
       "      <td>NaN</td>\n",
       "      <td>0.676961</td>\n",
       "      <td>...</td>\n",
       "      <td>2.965889</td>\n",
       "      <td>1.190077</td>\n",
       "      <td>-0.523998</td>\n",
       "      <td>3.849921</td>\n",
       "      <td>2.626981</td>\n",
       "      <td>5.000000</td>\n",
       "      <td>0.703665</td>\n",
       "      <td>0.216683</td>\n",
       "      <td>0.778639</td>\n",
       "      <td>0</td>\n",
       "    </tr>\n",
       "    <tr>\n",
       "      <th>2</th>\n",
       "      <td>0</td>\n",
       "      <td>0</td>\n",
       "      <td>9</td>\n",
       "      <td>2.285698</td>\n",
       "      <td>NaN</td>\n",
       "      <td>NaN</td>\n",
       "      <td>NaN</td>\n",
       "      <td>NaN</td>\n",
       "      <td>NaN</td>\n",
       "      <td>1.056285</td>\n",
       "      <td>...</td>\n",
       "      <td>-0.864488</td>\n",
       "      <td>-0.280303</td>\n",
       "      <td>-0.326697</td>\n",
       "      <td>0.375781</td>\n",
       "      <td>1.271291</td>\n",
       "      <td>0.099793</td>\n",
       "      <td>2.109352</td>\n",
       "      <td>0.670881</td>\n",
       "      <td>0.772828</td>\n",
       "      <td>0</td>\n",
       "    </tr>\n",
       "    <tr>\n",
       "      <th>3</th>\n",
       "      <td>0</td>\n",
       "      <td>0</td>\n",
       "      <td>10</td>\n",
       "      <td>0.690606</td>\n",
       "      <td>NaN</td>\n",
       "      <td>NaN</td>\n",
       "      <td>NaN</td>\n",
       "      <td>NaN</td>\n",
       "      <td>NaN</td>\n",
       "      <td>1.139366</td>\n",
       "      <td>...</td>\n",
       "      <td>0.408499</td>\n",
       "      <td>0.223992</td>\n",
       "      <td>2.294888</td>\n",
       "      <td>1.097444</td>\n",
       "      <td>1.225872</td>\n",
       "      <td>1.225376</td>\n",
       "      <td>1.114137</td>\n",
       "      <td>0.775199</td>\n",
       "      <td>-1.379516</td>\n",
       "      <td>0</td>\n",
       "    </tr>\n",
       "    <tr>\n",
       "      <th>4</th>\n",
       "      <td>0</td>\n",
       "      <td>0</td>\n",
       "      <td>14</td>\n",
       "      <td>0.440570</td>\n",
       "      <td>NaN</td>\n",
       "      <td>NaN</td>\n",
       "      <td>NaN</td>\n",
       "      <td>NaN</td>\n",
       "      <td>NaN</td>\n",
       "      <td>0.955200</td>\n",
       "      <td>...</td>\n",
       "      <td>-0.373387</td>\n",
       "      <td>-0.502764</td>\n",
       "      <td>-0.348021</td>\n",
       "      <td>-3.928148</td>\n",
       "      <td>-1.591366</td>\n",
       "      <td>-5.000000</td>\n",
       "      <td>-3.572820</td>\n",
       "      <td>-1.089123</td>\n",
       "      <td>-5.000000</td>\n",
       "      <td>0</td>\n",
       "    </tr>\n",
       "  </tbody>\n",
       "</table>\n",
       "<p>5 rows × 93 columns</p>\n",
       "</div>"
      ],
      "text/plain": [
       "   date_id  time_id  symbol_id    weight  feature_00  feature_01  feature_02  \\\n",
       "0        0        0          1  3.889038         NaN         NaN         NaN   \n",
       "1        0        0          7  1.370613         NaN         NaN         NaN   \n",
       "2        0        0          9  2.285698         NaN         NaN         NaN   \n",
       "3        0        0         10  0.690606         NaN         NaN         NaN   \n",
       "4        0        0         14  0.440570         NaN         NaN         NaN   \n",
       "\n",
       "   feature_03  feature_04  feature_05  ...  responder_0  responder_1  \\\n",
       "0         NaN         NaN    0.851033  ...     0.738489    -0.069556   \n",
       "1         NaN         NaN    0.676961  ...     2.965889     1.190077   \n",
       "2         NaN         NaN    1.056285  ...    -0.864488    -0.280303   \n",
       "3         NaN         NaN    1.139366  ...     0.408499     0.223992   \n",
       "4         NaN         NaN    0.955200  ...    -0.373387    -0.502764   \n",
       "\n",
       "   responder_2  responder_3  responder_4  responder_5  responder_6  \\\n",
       "0     1.380875     2.005353     0.186018     1.218368     0.775981   \n",
       "1    -0.523998     3.849921     2.626981     5.000000     0.703665   \n",
       "2    -0.326697     0.375781     1.271291     0.099793     2.109352   \n",
       "3     2.294888     1.097444     1.225872     1.225376     1.114137   \n",
       "4    -0.348021    -3.928148    -1.591366    -5.000000    -3.572820   \n",
       "\n",
       "   responder_7  responder_8  partition_id  \n",
       "0     0.346999     0.095504             0  \n",
       "1     0.216683     0.778639             0  \n",
       "2     0.670881     0.772828             0  \n",
       "3     0.775199    -1.379516             0  \n",
       "4    -1.089123    -5.000000             0  \n",
       "\n",
       "[5 rows x 93 columns]"
      ]
     },
     "execution_count": 4,
     "metadata": {},
     "output_type": "execute_result"
    }
   ],
   "source": [
    "train_data = dd.read_parquet(f'{path}\\\\train.parquet')\n",
    "train_data.head()"
   ]
  },
  {
   "cell_type": "code",
   "execution_count": 5,
   "metadata": {},
   "outputs": [
    {
     "data": {
      "text/html": [
       "<div>\n",
       "<style scoped>\n",
       "    .dataframe tbody tr th:only-of-type {\n",
       "        vertical-align: middle;\n",
       "    }\n",
       "\n",
       "    .dataframe tbody tr th {\n",
       "        vertical-align: top;\n",
       "    }\n",
       "\n",
       "    .dataframe thead th {\n",
       "        text-align: right;\n",
       "    }\n",
       "</style>\n",
       "<table border=\"1\" class=\"dataframe\">\n",
       "  <thead>\n",
       "    <tr style=\"text-align: right;\">\n",
       "      <th></th>\n",
       "      <th>date_id</th>\n",
       "      <th>time_id</th>\n",
       "      <th>symbol_id</th>\n",
       "      <th>weight</th>\n",
       "      <th>feature_00</th>\n",
       "      <th>feature_01</th>\n",
       "      <th>feature_02</th>\n",
       "      <th>feature_03</th>\n",
       "      <th>feature_04</th>\n",
       "      <th>feature_05</th>\n",
       "      <th>...</th>\n",
       "      <th>responder_0</th>\n",
       "      <th>responder_1</th>\n",
       "      <th>responder_2</th>\n",
       "      <th>responder_3</th>\n",
       "      <th>responder_4</th>\n",
       "      <th>responder_5</th>\n",
       "      <th>responder_6</th>\n",
       "      <th>responder_7</th>\n",
       "      <th>responder_8</th>\n",
       "      <th>partition_id</th>\n",
       "    </tr>\n",
       "  </thead>\n",
       "  <tbody>\n",
       "    <tr>\n",
       "      <th>272817</th>\n",
       "      <td>1698</td>\n",
       "      <td>967</td>\n",
       "      <td>34</td>\n",
       "      <td>3.242493</td>\n",
       "      <td>2.525160</td>\n",
       "      <td>-0.721981</td>\n",
       "      <td>2.544025</td>\n",
       "      <td>2.477615</td>\n",
       "      <td>0.417557</td>\n",
       "      <td>0.785812</td>\n",
       "      <td>...</td>\n",
       "      <td>0.243475</td>\n",
       "      <td>0.166927</td>\n",
       "      <td>0.384940</td>\n",
       "      <td>-0.174297</td>\n",
       "      <td>-0.066046</td>\n",
       "      <td>-0.038767</td>\n",
       "      <td>-0.132337</td>\n",
       "      <td>-0.022426</td>\n",
       "      <td>-0.252461</td>\n",
       "      <td>9</td>\n",
       "    </tr>\n",
       "    <tr>\n",
       "      <th>272818</th>\n",
       "      <td>1698</td>\n",
       "      <td>967</td>\n",
       "      <td>35</td>\n",
       "      <td>1.079139</td>\n",
       "      <td>1.857906</td>\n",
       "      <td>-0.790646</td>\n",
       "      <td>2.745439</td>\n",
       "      <td>2.339877</td>\n",
       "      <td>0.845065</td>\n",
       "      <td>0.651370</td>\n",
       "      <td>...</td>\n",
       "      <td>0.850152</td>\n",
       "      <td>0.909382</td>\n",
       "      <td>1.015314</td>\n",
       "      <td>0.235962</td>\n",
       "      <td>0.122539</td>\n",
       "      <td>0.099559</td>\n",
       "      <td>-0.249584</td>\n",
       "      <td>-0.123571</td>\n",
       "      <td>-0.460630</td>\n",
       "      <td>9</td>\n",
       "    </tr>\n",
       "    <tr>\n",
       "      <th>272819</th>\n",
       "      <td>1698</td>\n",
       "      <td>967</td>\n",
       "      <td>36</td>\n",
       "      <td>1.033172</td>\n",
       "      <td>2.515527</td>\n",
       "      <td>-0.672298</td>\n",
       "      <td>2.289250</td>\n",
       "      <td>2.521592</td>\n",
       "      <td>0.255077</td>\n",
       "      <td>0.919892</td>\n",
       "      <td>...</td>\n",
       "      <td>0.395684</td>\n",
       "      <td>-0.292574</td>\n",
       "      <td>-3.215846</td>\n",
       "      <td>-0.535129</td>\n",
       "      <td>-0.178484</td>\n",
       "      <td>-1.808150</td>\n",
       "      <td>-0.065355</td>\n",
       "      <td>-0.000367</td>\n",
       "      <td>-0.125170</td>\n",
       "      <td>9</td>\n",
       "    </tr>\n",
       "    <tr>\n",
       "      <th>272820</th>\n",
       "      <td>1698</td>\n",
       "      <td>967</td>\n",
       "      <td>37</td>\n",
       "      <td>1.243116</td>\n",
       "      <td>2.663298</td>\n",
       "      <td>-0.889112</td>\n",
       "      <td>2.313155</td>\n",
       "      <td>3.101428</td>\n",
       "      <td>0.324454</td>\n",
       "      <td>0.618944</td>\n",
       "      <td>...</td>\n",
       "      <td>1.925987</td>\n",
       "      <td>0.479394</td>\n",
       "      <td>3.621867</td>\n",
       "      <td>-0.107114</td>\n",
       "      <td>-0.063599</td>\n",
       "      <td>1.204755</td>\n",
       "      <td>-0.148711</td>\n",
       "      <td>-0.026583</td>\n",
       "      <td>-0.256395</td>\n",
       "      <td>9</td>\n",
       "    </tr>\n",
       "    <tr>\n",
       "      <th>272821</th>\n",
       "      <td>1698</td>\n",
       "      <td>967</td>\n",
       "      <td>38</td>\n",
       "      <td>3.193685</td>\n",
       "      <td>2.728506</td>\n",
       "      <td>-0.745238</td>\n",
       "      <td>2.788789</td>\n",
       "      <td>2.343393</td>\n",
       "      <td>0.454731</td>\n",
       "      <td>0.862839</td>\n",
       "      <td>...</td>\n",
       "      <td>1.228778</td>\n",
       "      <td>0.512562</td>\n",
       "      <td>-0.050865</td>\n",
       "      <td>0.160883</td>\n",
       "      <td>0.080756</td>\n",
       "      <td>-0.078237</td>\n",
       "      <td>-0.138548</td>\n",
       "      <td>-0.038771</td>\n",
       "      <td>-0.211940</td>\n",
       "      <td>9</td>\n",
       "    </tr>\n",
       "  </tbody>\n",
       "</table>\n",
       "<p>5 rows × 93 columns</p>\n",
       "</div>"
      ],
      "text/plain": [
       "        date_id  time_id  symbol_id    weight  feature_00  feature_01  \\\n",
       "272817     1698      967         34  3.242493    2.525160   -0.721981   \n",
       "272818     1698      967         35  1.079139    1.857906   -0.790646   \n",
       "272819     1698      967         36  1.033172    2.515527   -0.672298   \n",
       "272820     1698      967         37  1.243116    2.663298   -0.889112   \n",
       "272821     1698      967         38  3.193685    2.728506   -0.745238   \n",
       "\n",
       "        feature_02  feature_03  feature_04  feature_05  ...  responder_0  \\\n",
       "272817    2.544025    2.477615    0.417557    0.785812  ...     0.243475   \n",
       "272818    2.745439    2.339877    0.845065    0.651370  ...     0.850152   \n",
       "272819    2.289250    2.521592    0.255077    0.919892  ...     0.395684   \n",
       "272820    2.313155    3.101428    0.324454    0.618944  ...     1.925987   \n",
       "272821    2.788789    2.343393    0.454731    0.862839  ...     1.228778   \n",
       "\n",
       "        responder_1  responder_2  responder_3  responder_4  responder_5  \\\n",
       "272817     0.166927     0.384940    -0.174297    -0.066046    -0.038767   \n",
       "272818     0.909382     1.015314     0.235962     0.122539     0.099559   \n",
       "272819    -0.292574    -3.215846    -0.535129    -0.178484    -1.808150   \n",
       "272820     0.479394     3.621867    -0.107114    -0.063599     1.204755   \n",
       "272821     0.512562    -0.050865     0.160883     0.080756    -0.078237   \n",
       "\n",
       "        responder_6  responder_7  responder_8  partition_id  \n",
       "272817    -0.132337    -0.022426    -0.252461             9  \n",
       "272818    -0.249584    -0.123571    -0.460630             9  \n",
       "272819    -0.065355    -0.000367    -0.125170             9  \n",
       "272820    -0.148711    -0.026583    -0.256395             9  \n",
       "272821    -0.138548    -0.038771    -0.211940             9  \n",
       "\n",
       "[5 rows x 93 columns]"
      ]
     },
     "execution_count": 5,
     "metadata": {},
     "output_type": "execute_result"
    }
   ],
   "source": [
    "train_data.tail()"
   ]
  },
  {
   "cell_type": "code",
   "execution_count": 24,
   "metadata": {},
   "outputs": [
    {
     "name": "stdout",
     "output_type": "stream",
     "text": [
      "Total number of rows: 47127338\n"
     ]
    }
   ],
   "source": [
    "print(f\"Total number of rows: {len(train_data)}\")"
   ]
  },
  {
   "cell_type": "code",
   "execution_count": 25,
   "metadata": {},
   "outputs": [
    {
     "name": "stdout",
     "output_type": "stream",
     "text": [
      "Number of unique days (date_id): 1699\n"
     ]
    }
   ],
   "source": [
    "# Count the unique 'date_id' values\n",
    "unique_dates = train_data['date_id'].nunique().compute()\n",
    "\n",
    "print(f\"Number of unique days (date_id): {unique_dates}\")"
   ]
  },
  {
   "cell_type": "code",
   "execution_count": 6,
   "metadata": {},
   "outputs": [
    {
     "data": {
      "application/vnd.plotly.v1+json": {
       "config": {
        "plotlyServerURL": "https://plot.ly"
       },
       "data": [
        {
         "alignmentgroup": "True",
         "hovertemplate": "index=%{x}<br>value=%{y}<br>color=%{marker.color}<extra></extra>",
         "legendgroup": "",
         "marker": {
          "color": [
           0,
           0,
           0,
           0,
           3182052,
           3182052,
           3182052,
           3182052,
           3182052,
           0,
           0,
           0,
           300247,
           0,
           0,
           0,
           0,
           0,
           0,
           1209299,
           261,
           201838,
           226,
           226,
           0,
           8435985,
           0,
           0,
           0,
           0,
           8435985,
           8435985,
           0,
           0,
           0,
           8435985,
           478457,
           478457,
           0,
           0,
           0,
           849,
           0,
           4300649,
           67856,
           1093012,
           4300649,
           67856,
           1093012,
           317163,
           317163,
           87,
           0,
           0,
           4254098,
           13805,
           1044898,
           4254098,
           13805,
           1044898,
           226,
           226,
           478452,
           0,
           0,
           0,
           292827,
           227566,
           237663,
           317163,
           317163,
           0,
           0,
           0,
           0,
           0,
           0,
           483759,
           483759,
           58430,
           58430,
           20043,
           20043,
           0,
           0,
           0,
           0,
           0,
           0,
           0,
           0,
           0,
           0
          ],
          "coloraxis": "coloraxis",
          "pattern": {
           "shape": ""
          }
         },
         "name": "",
         "offsetgroup": "",
         "orientation": "v",
         "showlegend": false,
         "textposition": "auto",
         "type": "bar",
         "x": [
          "date_id",
          "time_id",
          "symbol_id",
          "weight",
          "feature_00",
          "feature_01",
          "feature_02",
          "feature_03",
          "feature_04",
          "feature_05",
          "feature_06",
          "feature_07",
          "feature_08",
          "feature_09",
          "feature_10",
          "feature_11",
          "feature_12",
          "feature_13",
          "feature_14",
          "feature_15",
          "feature_16",
          "feature_17",
          "feature_18",
          "feature_19",
          "feature_20",
          "feature_21",
          "feature_22",
          "feature_23",
          "feature_24",
          "feature_25",
          "feature_26",
          "feature_27",
          "feature_28",
          "feature_29",
          "feature_30",
          "feature_31",
          "feature_32",
          "feature_33",
          "feature_34",
          "feature_35",
          "feature_36",
          "feature_37",
          "feature_38",
          "feature_39",
          "feature_40",
          "feature_41",
          "feature_42",
          "feature_43",
          "feature_44",
          "feature_45",
          "feature_46",
          "feature_47",
          "feature_48",
          "feature_49",
          "feature_50",
          "feature_51",
          "feature_52",
          "feature_53",
          "feature_54",
          "feature_55",
          "feature_56",
          "feature_57",
          "feature_58",
          "feature_59",
          "feature_60",
          "feature_61",
          "feature_62",
          "feature_63",
          "feature_64",
          "feature_65",
          "feature_66",
          "feature_67",
          "feature_68",
          "feature_69",
          "feature_70",
          "feature_71",
          "feature_72",
          "feature_73",
          "feature_74",
          "feature_75",
          "feature_76",
          "feature_77",
          "feature_78",
          "responder_0",
          "responder_1",
          "responder_2",
          "responder_3",
          "responder_4",
          "responder_5",
          "responder_6",
          "responder_7",
          "responder_8",
          "partition_id"
         ],
         "xaxis": "x",
         "y": [
          0,
          0,
          0,
          0,
          3182052,
          3182052,
          3182052,
          3182052,
          3182052,
          0,
          0,
          0,
          300247,
          0,
          0,
          0,
          0,
          0,
          0,
          1209299,
          261,
          201838,
          226,
          226,
          0,
          8435985,
          0,
          0,
          0,
          0,
          8435985,
          8435985,
          0,
          0,
          0,
          8435985,
          478457,
          478457,
          0,
          0,
          0,
          849,
          0,
          4300649,
          67856,
          1093012,
          4300649,
          67856,
          1093012,
          317163,
          317163,
          87,
          0,
          0,
          4254098,
          13805,
          1044898,
          4254098,
          13805,
          1044898,
          226,
          226,
          478452,
          0,
          0,
          0,
          292827,
          227566,
          237663,
          317163,
          317163,
          0,
          0,
          0,
          0,
          0,
          0,
          483759,
          483759,
          58430,
          58430,
          20043,
          20043,
          0,
          0,
          0,
          0,
          0,
          0,
          0,
          0,
          0,
          0
         ],
         "yaxis": "y"
        }
       ],
       "layout": {
        "barmode": "relative",
        "coloraxis": {
         "colorbar": {
          "title": {
           "text": "color"
          }
         },
         "colorscale": [
          [
           0,
           "#0d0887"
          ],
          [
           0.1111111111111111,
           "#46039f"
          ],
          [
           0.2222222222222222,
           "#7201a8"
          ],
          [
           0.3333333333333333,
           "#9c179e"
          ],
          [
           0.4444444444444444,
           "#bd3786"
          ],
          [
           0.5555555555555556,
           "#d8576b"
          ],
          [
           0.6666666666666666,
           "#ed7953"
          ],
          [
           0.7777777777777778,
           "#fb9f3a"
          ],
          [
           0.8888888888888888,
           "#fdca26"
          ],
          [
           1,
           "#f0f921"
          ]
         ]
        },
        "legend": {
         "tracegroupgap": 0
        },
        "template": {
         "data": {
          "bar": [
           {
            "error_x": {
             "color": "#2a3f5f"
            },
            "error_y": {
             "color": "#2a3f5f"
            },
            "marker": {
             "line": {
              "color": "#E5ECF6",
              "width": 0.5
             },
             "pattern": {
              "fillmode": "overlay",
              "size": 10,
              "solidity": 0.2
             }
            },
            "type": "bar"
           }
          ],
          "barpolar": [
           {
            "marker": {
             "line": {
              "color": "#E5ECF6",
              "width": 0.5
             },
             "pattern": {
              "fillmode": "overlay",
              "size": 10,
              "solidity": 0.2
             }
            },
            "type": "barpolar"
           }
          ],
          "carpet": [
           {
            "aaxis": {
             "endlinecolor": "#2a3f5f",
             "gridcolor": "white",
             "linecolor": "white",
             "minorgridcolor": "white",
             "startlinecolor": "#2a3f5f"
            },
            "baxis": {
             "endlinecolor": "#2a3f5f",
             "gridcolor": "white",
             "linecolor": "white",
             "minorgridcolor": "white",
             "startlinecolor": "#2a3f5f"
            },
            "type": "carpet"
           }
          ],
          "choropleth": [
           {
            "colorbar": {
             "outlinewidth": 0,
             "ticks": ""
            },
            "type": "choropleth"
           }
          ],
          "contour": [
           {
            "colorbar": {
             "outlinewidth": 0,
             "ticks": ""
            },
            "colorscale": [
             [
              0,
              "#0d0887"
             ],
             [
              0.1111111111111111,
              "#46039f"
             ],
             [
              0.2222222222222222,
              "#7201a8"
             ],
             [
              0.3333333333333333,
              "#9c179e"
             ],
             [
              0.4444444444444444,
              "#bd3786"
             ],
             [
              0.5555555555555556,
              "#d8576b"
             ],
             [
              0.6666666666666666,
              "#ed7953"
             ],
             [
              0.7777777777777778,
              "#fb9f3a"
             ],
             [
              0.8888888888888888,
              "#fdca26"
             ],
             [
              1,
              "#f0f921"
             ]
            ],
            "type": "contour"
           }
          ],
          "contourcarpet": [
           {
            "colorbar": {
             "outlinewidth": 0,
             "ticks": ""
            },
            "type": "contourcarpet"
           }
          ],
          "heatmap": [
           {
            "colorbar": {
             "outlinewidth": 0,
             "ticks": ""
            },
            "colorscale": [
             [
              0,
              "#0d0887"
             ],
             [
              0.1111111111111111,
              "#46039f"
             ],
             [
              0.2222222222222222,
              "#7201a8"
             ],
             [
              0.3333333333333333,
              "#9c179e"
             ],
             [
              0.4444444444444444,
              "#bd3786"
             ],
             [
              0.5555555555555556,
              "#d8576b"
             ],
             [
              0.6666666666666666,
              "#ed7953"
             ],
             [
              0.7777777777777778,
              "#fb9f3a"
             ],
             [
              0.8888888888888888,
              "#fdca26"
             ],
             [
              1,
              "#f0f921"
             ]
            ],
            "type": "heatmap"
           }
          ],
          "heatmapgl": [
           {
            "colorbar": {
             "outlinewidth": 0,
             "ticks": ""
            },
            "colorscale": [
             [
              0,
              "#0d0887"
             ],
             [
              0.1111111111111111,
              "#46039f"
             ],
             [
              0.2222222222222222,
              "#7201a8"
             ],
             [
              0.3333333333333333,
              "#9c179e"
             ],
             [
              0.4444444444444444,
              "#bd3786"
             ],
             [
              0.5555555555555556,
              "#d8576b"
             ],
             [
              0.6666666666666666,
              "#ed7953"
             ],
             [
              0.7777777777777778,
              "#fb9f3a"
             ],
             [
              0.8888888888888888,
              "#fdca26"
             ],
             [
              1,
              "#f0f921"
             ]
            ],
            "type": "heatmapgl"
           }
          ],
          "histogram": [
           {
            "marker": {
             "pattern": {
              "fillmode": "overlay",
              "size": 10,
              "solidity": 0.2
             }
            },
            "type": "histogram"
           }
          ],
          "histogram2d": [
           {
            "colorbar": {
             "outlinewidth": 0,
             "ticks": ""
            },
            "colorscale": [
             [
              0,
              "#0d0887"
             ],
             [
              0.1111111111111111,
              "#46039f"
             ],
             [
              0.2222222222222222,
              "#7201a8"
             ],
             [
              0.3333333333333333,
              "#9c179e"
             ],
             [
              0.4444444444444444,
              "#bd3786"
             ],
             [
              0.5555555555555556,
              "#d8576b"
             ],
             [
              0.6666666666666666,
              "#ed7953"
             ],
             [
              0.7777777777777778,
              "#fb9f3a"
             ],
             [
              0.8888888888888888,
              "#fdca26"
             ],
             [
              1,
              "#f0f921"
             ]
            ],
            "type": "histogram2d"
           }
          ],
          "histogram2dcontour": [
           {
            "colorbar": {
             "outlinewidth": 0,
             "ticks": ""
            },
            "colorscale": [
             [
              0,
              "#0d0887"
             ],
             [
              0.1111111111111111,
              "#46039f"
             ],
             [
              0.2222222222222222,
              "#7201a8"
             ],
             [
              0.3333333333333333,
              "#9c179e"
             ],
             [
              0.4444444444444444,
              "#bd3786"
             ],
             [
              0.5555555555555556,
              "#d8576b"
             ],
             [
              0.6666666666666666,
              "#ed7953"
             ],
             [
              0.7777777777777778,
              "#fb9f3a"
             ],
             [
              0.8888888888888888,
              "#fdca26"
             ],
             [
              1,
              "#f0f921"
             ]
            ],
            "type": "histogram2dcontour"
           }
          ],
          "mesh3d": [
           {
            "colorbar": {
             "outlinewidth": 0,
             "ticks": ""
            },
            "type": "mesh3d"
           }
          ],
          "parcoords": [
           {
            "line": {
             "colorbar": {
              "outlinewidth": 0,
              "ticks": ""
             }
            },
            "type": "parcoords"
           }
          ],
          "pie": [
           {
            "automargin": true,
            "type": "pie"
           }
          ],
          "scatter": [
           {
            "fillpattern": {
             "fillmode": "overlay",
             "size": 10,
             "solidity": 0.2
            },
            "type": "scatter"
           }
          ],
          "scatter3d": [
           {
            "line": {
             "colorbar": {
              "outlinewidth": 0,
              "ticks": ""
             }
            },
            "marker": {
             "colorbar": {
              "outlinewidth": 0,
              "ticks": ""
             }
            },
            "type": "scatter3d"
           }
          ],
          "scattercarpet": [
           {
            "marker": {
             "colorbar": {
              "outlinewidth": 0,
              "ticks": ""
             }
            },
            "type": "scattercarpet"
           }
          ],
          "scattergeo": [
           {
            "marker": {
             "colorbar": {
              "outlinewidth": 0,
              "ticks": ""
             }
            },
            "type": "scattergeo"
           }
          ],
          "scattergl": [
           {
            "marker": {
             "colorbar": {
              "outlinewidth": 0,
              "ticks": ""
             }
            },
            "type": "scattergl"
           }
          ],
          "scattermapbox": [
           {
            "marker": {
             "colorbar": {
              "outlinewidth": 0,
              "ticks": ""
             }
            },
            "type": "scattermapbox"
           }
          ],
          "scatterpolar": [
           {
            "marker": {
             "colorbar": {
              "outlinewidth": 0,
              "ticks": ""
             }
            },
            "type": "scatterpolar"
           }
          ],
          "scatterpolargl": [
           {
            "marker": {
             "colorbar": {
              "outlinewidth": 0,
              "ticks": ""
             }
            },
            "type": "scatterpolargl"
           }
          ],
          "scatterternary": [
           {
            "marker": {
             "colorbar": {
              "outlinewidth": 0,
              "ticks": ""
             }
            },
            "type": "scatterternary"
           }
          ],
          "surface": [
           {
            "colorbar": {
             "outlinewidth": 0,
             "ticks": ""
            },
            "colorscale": [
             [
              0,
              "#0d0887"
             ],
             [
              0.1111111111111111,
              "#46039f"
             ],
             [
              0.2222222222222222,
              "#7201a8"
             ],
             [
              0.3333333333333333,
              "#9c179e"
             ],
             [
              0.4444444444444444,
              "#bd3786"
             ],
             [
              0.5555555555555556,
              "#d8576b"
             ],
             [
              0.6666666666666666,
              "#ed7953"
             ],
             [
              0.7777777777777778,
              "#fb9f3a"
             ],
             [
              0.8888888888888888,
              "#fdca26"
             ],
             [
              1,
              "#f0f921"
             ]
            ],
            "type": "surface"
           }
          ],
          "table": [
           {
            "cells": {
             "fill": {
              "color": "#EBF0F8"
             },
             "line": {
              "color": "white"
             }
            },
            "header": {
             "fill": {
              "color": "#C8D4E3"
             },
             "line": {
              "color": "white"
             }
            },
            "type": "table"
           }
          ]
         },
         "layout": {
          "annotationdefaults": {
           "arrowcolor": "#2a3f5f",
           "arrowhead": 0,
           "arrowwidth": 1
          },
          "autotypenumbers": "strict",
          "coloraxis": {
           "colorbar": {
            "outlinewidth": 0,
            "ticks": ""
           }
          },
          "colorscale": {
           "diverging": [
            [
             0,
             "#8e0152"
            ],
            [
             0.1,
             "#c51b7d"
            ],
            [
             0.2,
             "#de77ae"
            ],
            [
             0.3,
             "#f1b6da"
            ],
            [
             0.4,
             "#fde0ef"
            ],
            [
             0.5,
             "#f7f7f7"
            ],
            [
             0.6,
             "#e6f5d0"
            ],
            [
             0.7,
             "#b8e186"
            ],
            [
             0.8,
             "#7fbc41"
            ],
            [
             0.9,
             "#4d9221"
            ],
            [
             1,
             "#276419"
            ]
           ],
           "sequential": [
            [
             0,
             "#0d0887"
            ],
            [
             0.1111111111111111,
             "#46039f"
            ],
            [
             0.2222222222222222,
             "#7201a8"
            ],
            [
             0.3333333333333333,
             "#9c179e"
            ],
            [
             0.4444444444444444,
             "#bd3786"
            ],
            [
             0.5555555555555556,
             "#d8576b"
            ],
            [
             0.6666666666666666,
             "#ed7953"
            ],
            [
             0.7777777777777778,
             "#fb9f3a"
            ],
            [
             0.8888888888888888,
             "#fdca26"
            ],
            [
             1,
             "#f0f921"
            ]
           ],
           "sequentialminus": [
            [
             0,
             "#0d0887"
            ],
            [
             0.1111111111111111,
             "#46039f"
            ],
            [
             0.2222222222222222,
             "#7201a8"
            ],
            [
             0.3333333333333333,
             "#9c179e"
            ],
            [
             0.4444444444444444,
             "#bd3786"
            ],
            [
             0.5555555555555556,
             "#d8576b"
            ],
            [
             0.6666666666666666,
             "#ed7953"
            ],
            [
             0.7777777777777778,
             "#fb9f3a"
            ],
            [
             0.8888888888888888,
             "#fdca26"
            ],
            [
             1,
             "#f0f921"
            ]
           ]
          },
          "colorway": [
           "#636efa",
           "#EF553B",
           "#00cc96",
           "#ab63fa",
           "#FFA15A",
           "#19d3f3",
           "#FF6692",
           "#B6E880",
           "#FF97FF",
           "#FECB52"
          ],
          "font": {
           "color": "#2a3f5f"
          },
          "geo": {
           "bgcolor": "white",
           "lakecolor": "white",
           "landcolor": "#E5ECF6",
           "showlakes": true,
           "showland": true,
           "subunitcolor": "white"
          },
          "hoverlabel": {
           "align": "left"
          },
          "hovermode": "closest",
          "mapbox": {
           "style": "light"
          },
          "paper_bgcolor": "white",
          "plot_bgcolor": "#E5ECF6",
          "polar": {
           "angularaxis": {
            "gridcolor": "white",
            "linecolor": "white",
            "ticks": ""
           },
           "bgcolor": "#E5ECF6",
           "radialaxis": {
            "gridcolor": "white",
            "linecolor": "white",
            "ticks": ""
           }
          },
          "scene": {
           "xaxis": {
            "backgroundcolor": "#E5ECF6",
            "gridcolor": "white",
            "gridwidth": 2,
            "linecolor": "white",
            "showbackground": true,
            "ticks": "",
            "zerolinecolor": "white"
           },
           "yaxis": {
            "backgroundcolor": "#E5ECF6",
            "gridcolor": "white",
            "gridwidth": 2,
            "linecolor": "white",
            "showbackground": true,
            "ticks": "",
            "zerolinecolor": "white"
           },
           "zaxis": {
            "backgroundcolor": "#E5ECF6",
            "gridcolor": "white",
            "gridwidth": 2,
            "linecolor": "white",
            "showbackground": true,
            "ticks": "",
            "zerolinecolor": "white"
           }
          },
          "shapedefaults": {
           "line": {
            "color": "#2a3f5f"
           }
          },
          "ternary": {
           "aaxis": {
            "gridcolor": "white",
            "linecolor": "white",
            "ticks": ""
           },
           "baxis": {
            "gridcolor": "white",
            "linecolor": "white",
            "ticks": ""
           },
           "bgcolor": "#E5ECF6",
           "caxis": {
            "gridcolor": "white",
            "linecolor": "white",
            "ticks": ""
           }
          },
          "title": {
           "x": 0.05
          },
          "xaxis": {
           "automargin": true,
           "gridcolor": "white",
           "linecolor": "white",
           "ticks": "",
           "title": {
            "standoff": 15
           },
           "zerolinecolor": "white",
           "zerolinewidth": 2
          },
          "yaxis": {
           "automargin": true,
           "gridcolor": "white",
           "linecolor": "white",
           "ticks": "",
           "title": {
            "standoff": 15
           },
           "zerolinecolor": "white",
           "zerolinewidth": 2
          }
         }
        },
        "title": {
         "text": "Total number of missing values for each column"
        },
        "xaxis": {
         "anchor": "y",
         "domain": [
          0,
          1
         ],
         "title": {
          "text": "index"
         }
        },
        "yaxis": {
         "anchor": "x",
         "domain": [
          0,
          1
         ],
         "title": {
          "text": "value"
         }
        }
       }
      }
     },
     "metadata": {},
     "output_type": "display_data"
    }
   ],
   "source": [
    "gone = train_data.isnull().sum().compute()\n",
    "px.bar(gone, color=gone.values, title=\"Total number of missing values for each column\").show()"
   ]
  },
  {
   "cell_type": "code",
   "execution_count": 11,
   "metadata": {},
   "outputs": [
    {
     "data": {
      "image/png": "[encoded data removed]",
      "text/plain": [
       "<Figure size 1500x500 with 1 Axes>"
      ]
     },
     "metadata": {},
     "output_type": "display_data"
    }
   ],
   "source": [
    "missing_features = train_data.iloc[:, 7:137].isnull().sum(axis=1).groupby(train_data['date_id']).sum().compute().to_frame()\n",
    "\n",
    "# Now plot\n",
    "fig, ax = plt.subplots(figsize=(15, 5))\n",
    "plt.plot(missing_features)\n",
    "ax.set_xlabel(\"Day\", fontsize=18)\n",
    "ax.set_title(\"Total number of missing values in all features for each day\", fontsize=18)\n",
    "ax.axvline(x=85, linestyle='--', alpha=0.3, c='red', lw=2)\n",
    "ax.axvspan(0, 85, color=sns.xkcd_rgb['grey'], alpha=0.1)\n",
    "ax.set_xlim(xmin=0)\n",
    "ax.set_xlim(xmax=1699)\n",
    "plt.show()"
   ]
  },
  {
   "cell_type": "code",
   "execution_count": 19,
   "metadata": {},
   "outputs": [
    {
     "ename": "MemoryError",
     "evalue": "Unable to allocate 15.1 GiB for an array with shape (86, 47127338) and data type float32",
     "output_type": "error",
     "traceback": [
      "\u001b[1;31m---------------------------------------------------------------------------\u001b[0m",
      "\u001b[1;31mMemoryError\u001b[0m                               Traceback (most recent call last)",
      "Cell \u001b[1;32mIn[19], line 1\u001b[0m\n\u001b[1;32m----> 1\u001b[0m train_data_pd \u001b[38;5;241m=\u001b[39m \u001b[43mtrain_data\u001b[49m\u001b[38;5;241;43m.\u001b[39;49m\u001b[43mcompute\u001b[49m\u001b[43m(\u001b[49m\u001b[43m)\u001b[49m\n\u001b[0;32m      2\u001b[0m train_data_pl \u001b[38;5;241m=\u001b[39m pl\u001b[38;5;241m.\u001b[39mfrom_pandas(train_data_pd)\n",
      "File \u001b[1;32mg:\\JaneStreetReal\\v_market\\lib\\site-packages\\dask\\base.py:372\u001b[0m, in \u001b[0;36mDaskMethodsMixin.compute\u001b[1;34m(self, **kwargs)\u001b[0m\n\u001b[0;32m    348\u001b[0m \u001b[38;5;28;01mdef\u001b[39;00m \u001b[38;5;21mcompute\u001b[39m(\u001b[38;5;28mself\u001b[39m, \u001b[38;5;241m*\u001b[39m\u001b[38;5;241m*\u001b[39mkwargs):\n\u001b[0;32m    349\u001b[0m \u001b[38;5;250m    \u001b[39m\u001b[38;5;124;03m\"\"\"Compute this dask collection\u001b[39;00m\n\u001b[0;32m    350\u001b[0m \n\u001b[0;32m    351\u001b[0m \u001b[38;5;124;03m    This turns a lazy Dask collection into its in-memory equivalent.\u001b[39;00m\n\u001b[1;32m   (...)\u001b[0m\n\u001b[0;32m    370\u001b[0m \u001b[38;5;124;03m    dask.compute\u001b[39;00m\n\u001b[0;32m    371\u001b[0m \u001b[38;5;124;03m    \"\"\"\u001b[39;00m\n\u001b[1;32m--> 372\u001b[0m     (result,) \u001b[38;5;241m=\u001b[39m compute(\u001b[38;5;28mself\u001b[39m, traverse\u001b[38;5;241m=\u001b[39m\u001b[38;5;28;01mFalse\u001b[39;00m, \u001b[38;5;241m*\u001b[39m\u001b[38;5;241m*\u001b[39mkwargs)\n\u001b[0;32m    373\u001b[0m     \u001b[38;5;28;01mreturn\u001b[39;00m result\n",
      "File \u001b[1;32mg:\\JaneStreetReal\\v_market\\lib\\site-packages\\dask\\base.py:662\u001b[0m, in \u001b[0;36mcompute\u001b[1;34m(traverse, optimize_graph, scheduler, get, *args, **kwargs)\u001b[0m\n\u001b[0;32m    659\u001b[0m \u001b[38;5;28;01mwith\u001b[39;00m shorten_traceback():\n\u001b[0;32m    660\u001b[0m     results \u001b[38;5;241m=\u001b[39m schedule(dsk, keys, \u001b[38;5;241m*\u001b[39m\u001b[38;5;241m*\u001b[39mkwargs)\n\u001b[1;32m--> 662\u001b[0m \u001b[38;5;28;01mreturn\u001b[39;00m repack([f(r, \u001b[38;5;241m*\u001b[39ma) \u001b[38;5;28;01mfor\u001b[39;00m r, (f, a) \u001b[38;5;129;01min\u001b[39;00m \u001b[38;5;28mzip\u001b[39m(results, postcomputes)])\n",
      "File \u001b[1;32mg:\\JaneStreetReal\\v_market\\lib\\site-packages\\dask\\base.py:662\u001b[0m, in \u001b[0;36m<listcomp>\u001b[1;34m(.0)\u001b[0m\n\u001b[0;32m    659\u001b[0m \u001b[38;5;28;01mwith\u001b[39;00m shorten_traceback():\n\u001b[0;32m    660\u001b[0m     results \u001b[38;5;241m=\u001b[39m schedule(dsk, keys, \u001b[38;5;241m*\u001b[39m\u001b[38;5;241m*\u001b[39mkwargs)\n\u001b[1;32m--> 662\u001b[0m \u001b[38;5;28;01mreturn\u001b[39;00m repack([\u001b[43mf\u001b[49m\u001b[43m(\u001b[49m\u001b[43mr\u001b[49m\u001b[43m,\u001b[49m\u001b[43m \u001b[49m\u001b[38;5;241;43m*\u001b[39;49m\u001b[43ma\u001b[49m\u001b[43m)\u001b[49m \u001b[38;5;28;01mfor\u001b[39;00m r, (f, a) \u001b[38;5;129;01min\u001b[39;00m \u001b[38;5;28mzip\u001b[39m(results, postcomputes)])\n",
      "File \u001b[1;32mg:\\JaneStreetReal\\v_market\\lib\\site-packages\\dask\\dataframe\\core.py:248\u001b[0m, in \u001b[0;36mfinalize\u001b[1;34m(results)\u001b[0m\n\u001b[0;32m    247\u001b[0m \u001b[38;5;28;01mdef\u001b[39;00m \u001b[38;5;21mfinalize\u001b[39m(results):\n\u001b[1;32m--> 248\u001b[0m     \u001b[38;5;28;01mreturn\u001b[39;00m \u001b[43m_concat\u001b[49m\u001b[43m(\u001b[49m\u001b[43mresults\u001b[49m\u001b[43m)\u001b[49m\n",
      "File \u001b[1;32mg:\\JaneStreetReal\\v_market\\lib\\site-packages\\dask\\dataframe\\core.py:181\u001b[0m, in \u001b[0;36m_concat\u001b[1;34m(args, ignore_index)\u001b[0m\n\u001b[0;32m    173\u001b[0m \u001b[38;5;66;03m# We filter out empty partitions here because pandas frequently has\u001b[39;00m\n\u001b[0;32m    174\u001b[0m \u001b[38;5;66;03m# inconsistent dtypes in results between empty and non-empty frames.\u001b[39;00m\n\u001b[0;32m    175\u001b[0m \u001b[38;5;66;03m# Ideally this would be handled locally for each operation, but in practice\u001b[39;00m\n\u001b[0;32m    176\u001b[0m \u001b[38;5;66;03m# this seems easier. TODO: don't do this.\u001b[39;00m\n\u001b[0;32m    177\u001b[0m args2 \u001b[38;5;241m=\u001b[39m [i \u001b[38;5;28;01mfor\u001b[39;00m i \u001b[38;5;129;01min\u001b[39;00m args \u001b[38;5;28;01mif\u001b[39;00m \u001b[38;5;28mlen\u001b[39m(i)]\n\u001b[0;32m    178\u001b[0m \u001b[38;5;28;01mreturn\u001b[39;00m (\n\u001b[0;32m    179\u001b[0m     args[\u001b[38;5;241m0\u001b[39m]\n\u001b[0;32m    180\u001b[0m     \u001b[38;5;28;01mif\u001b[39;00m \u001b[38;5;129;01mnot\u001b[39;00m args2\n\u001b[1;32m--> 181\u001b[0m     \u001b[38;5;28;01melse\u001b[39;00m \u001b[43mmethods\u001b[49m\u001b[38;5;241;43m.\u001b[39;49m\u001b[43mconcat\u001b[49m\u001b[43m(\u001b[49m\u001b[43margs2\u001b[49m\u001b[43m,\u001b[49m\u001b[43m \u001b[49m\u001b[43muniform\u001b[49m\u001b[38;5;241;43m=\u001b[39;49m\u001b[38;5;28;43;01mTrue\u001b[39;49;00m\u001b[43m,\u001b[49m\u001b[43m \u001b[49m\u001b[43mignore_index\u001b[49m\u001b[38;5;241;43m=\u001b[39;49m\u001b[43mignore_index\u001b[49m\u001b[43m)\u001b[49m\n\u001b[0;32m    182\u001b[0m )\n",
      "File \u001b[1;32mg:\\JaneStreetReal\\v_market\\lib\\site-packages\\dask\\dataframe\\dispatch.py:68\u001b[0m, in \u001b[0;36mconcat\u001b[1;34m(dfs, axis, join, uniform, filter_warning, ignore_index, **kwargs)\u001b[0m\n\u001b[0;32m     66\u001b[0m \u001b[38;5;28;01melse\u001b[39;00m:\n\u001b[0;32m     67\u001b[0m     func \u001b[38;5;241m=\u001b[39m concat_dispatch\u001b[38;5;241m.\u001b[39mdispatch(\u001b[38;5;28mtype\u001b[39m(dfs[\u001b[38;5;241m0\u001b[39m]))\n\u001b[1;32m---> 68\u001b[0m     \u001b[38;5;28;01mreturn\u001b[39;00m func(\n\u001b[0;32m     69\u001b[0m         dfs,\n\u001b[0;32m     70\u001b[0m         axis\u001b[38;5;241m=\u001b[39maxis,\n\u001b[0;32m     71\u001b[0m         join\u001b[38;5;241m=\u001b[39mjoin,\n\u001b[0;32m     72\u001b[0m         uniform\u001b[38;5;241m=\u001b[39muniform,\n\u001b[0;32m     73\u001b[0m         filter_warning\u001b[38;5;241m=\u001b[39mfilter_warning,\n\u001b[0;32m     74\u001b[0m         ignore_index\u001b[38;5;241m=\u001b[39mignore_index,\n\u001b[0;32m     75\u001b[0m         \u001b[38;5;241m*\u001b[39m\u001b[38;5;241m*\u001b[39mkwargs,\n\u001b[0;32m     76\u001b[0m     )\n",
      "File \u001b[1;32mg:\\JaneStreetReal\\v_market\\lib\\site-packages\\dask\\dataframe\\backends.py:688\u001b[0m, in \u001b[0;36mconcat_pandas\u001b[1;34m(dfs, axis, join, uniform, filter_warning, ignore_index, **kwargs)\u001b[0m\n\u001b[0;32m    686\u001b[0m         \u001b[38;5;28;01mif\u001b[39;00m \u001b[38;5;129;01mnot\u001b[39;00m \u001b[38;5;28mlen\u001b[39m(temp_ind):\n\u001b[0;32m    687\u001b[0m             out\u001b[38;5;241m.\u001b[39mindex \u001b[38;5;241m=\u001b[39m temp_ind\n\u001b[1;32m--> 688\u001b[0m     out \u001b[38;5;241m=\u001b[39m \u001b[43mout\u001b[49m\u001b[38;5;241;43m.\u001b[39;49m\u001b[43mreindex\u001b[49m\u001b[43m(\u001b[49m\u001b[43mcolumns\u001b[49m\u001b[38;5;241;43m=\u001b[39;49m\u001b[43mcat_mask\u001b[49m\u001b[38;5;241;43m.\u001b[39;49m\u001b[43mindex\u001b[49m\u001b[43m)\u001b[49m\n\u001b[0;32m    689\u001b[0m \u001b[38;5;28;01melse\u001b[39;00m:\n\u001b[0;32m    690\u001b[0m     \u001b[38;5;66;03m# pandas may raise a RuntimeWarning for comparing ints and strs\u001b[39;00m\n\u001b[0;32m    691\u001b[0m     \u001b[38;5;28;01mwith\u001b[39;00m warnings\u001b[38;5;241m.\u001b[39mcatch_warnings():\n",
      "File \u001b[1;32mg:\\JaneStreetReal\\v_market\\lib\\site-packages\\pandas\\core\\frame.py:5378\u001b[0m, in \u001b[0;36mDataFrame.reindex\u001b[1;34m(self, labels, index, columns, axis, method, copy, level, fill_value, limit, tolerance)\u001b[0m\n\u001b[0;32m   5359\u001b[0m \u001b[38;5;129m@doc\u001b[39m(\n\u001b[0;32m   5360\u001b[0m     NDFrame\u001b[38;5;241m.\u001b[39mreindex,\n\u001b[0;32m   5361\u001b[0m     klass\u001b[38;5;241m=\u001b[39m_shared_doc_kwargs[\u001b[38;5;124m\"\u001b[39m\u001b[38;5;124mklass\u001b[39m\u001b[38;5;124m\"\u001b[39m],\n\u001b[1;32m   (...)\u001b[0m\n\u001b[0;32m   5376\u001b[0m     tolerance\u001b[38;5;241m=\u001b[39m\u001b[38;5;28;01mNone\u001b[39;00m,\n\u001b[0;32m   5377\u001b[0m ) \u001b[38;5;241m-\u001b[39m\u001b[38;5;241m>\u001b[39m DataFrame:\n\u001b[1;32m-> 5378\u001b[0m     \u001b[38;5;28;01mreturn\u001b[39;00m \u001b[38;5;28;43msuper\u001b[39;49m\u001b[43m(\u001b[49m\u001b[43m)\u001b[49m\u001b[38;5;241;43m.\u001b[39;49m\u001b[43mreindex\u001b[49m\u001b[43m(\u001b[49m\n\u001b[0;32m   5379\u001b[0m \u001b[43m        \u001b[49m\u001b[43mlabels\u001b[49m\u001b[38;5;241;43m=\u001b[39;49m\u001b[43mlabels\u001b[49m\u001b[43m,\u001b[49m\n\u001b[0;32m   5380\u001b[0m \u001b[43m        \u001b[49m\u001b[43mindex\u001b[49m\u001b[38;5;241;43m=\u001b[39;49m\u001b[43mindex\u001b[49m\u001b[43m,\u001b[49m\n\u001b[0;32m   5381\u001b[0m \u001b[43m        \u001b[49m\u001b[43mcolumns\u001b[49m\u001b[38;5;241;43m=\u001b[39;49m\u001b[43mcolumns\u001b[49m\u001b[43m,\u001b[49m\n\u001b[0;32m   5382\u001b[0m \u001b[43m        \u001b[49m\u001b[43maxis\u001b[49m\u001b[38;5;241;43m=\u001b[39;49m\u001b[43maxis\u001b[49m\u001b[43m,\u001b[49m\n\u001b[0;32m   5383\u001b[0m \u001b[43m        \u001b[49m\u001b[43mmethod\u001b[49m\u001b[38;5;241;43m=\u001b[39;49m\u001b[43mmethod\u001b[49m\u001b[43m,\u001b[49m\n\u001b[0;32m   5384\u001b[0m \u001b[43m        \u001b[49m\u001b[43mcopy\u001b[49m\u001b[38;5;241;43m=\u001b[39;49m\u001b[43mcopy\u001b[49m\u001b[43m,\u001b[49m\n\u001b[0;32m   5385\u001b[0m \u001b[43m        \u001b[49m\u001b[43mlevel\u001b[49m\u001b[38;5;241;43m=\u001b[39;49m\u001b[43mlevel\u001b[49m\u001b[43m,\u001b[49m\n\u001b[0;32m   5386\u001b[0m \u001b[43m        \u001b[49m\u001b[43mfill_value\u001b[49m\u001b[38;5;241;43m=\u001b[39;49m\u001b[43mfill_value\u001b[49m\u001b[43m,\u001b[49m\n\u001b[0;32m   5387\u001b[0m \u001b[43m        \u001b[49m\u001b[43mlimit\u001b[49m\u001b[38;5;241;43m=\u001b[39;49m\u001b[43mlimit\u001b[49m\u001b[43m,\u001b[49m\n\u001b[0;32m   5388\u001b[0m \u001b[43m        \u001b[49m\u001b[43mtolerance\u001b[49m\u001b[38;5;241;43m=\u001b[39;49m\u001b[43mtolerance\u001b[49m\u001b[43m,\u001b[49m\n\u001b[0;32m   5389\u001b[0m \u001b[43m    \u001b[49m\u001b[43m)\u001b[49m\n",
      "File \u001b[1;32mg:\\JaneStreetReal\\v_market\\lib\\site-packages\\pandas\\core\\generic.py:5603\u001b[0m, in \u001b[0;36mNDFrame.reindex\u001b[1;34m(self, labels, index, columns, axis, method, copy, level, fill_value, limit, tolerance)\u001b[0m\n\u001b[0;32m   5597\u001b[0m     copy \u001b[38;5;241m=\u001b[39m \u001b[38;5;28;01mFalse\u001b[39;00m\n\u001b[0;32m   5598\u001b[0m \u001b[38;5;28;01mif\u001b[39;00m \u001b[38;5;28mall\u001b[39m(\n\u001b[0;32m   5599\u001b[0m     \u001b[38;5;28mself\u001b[39m\u001b[38;5;241m.\u001b[39m_get_axis(axis_name)\u001b[38;5;241m.\u001b[39midentical(ax)\n\u001b[0;32m   5600\u001b[0m     \u001b[38;5;28;01mfor\u001b[39;00m axis_name, ax \u001b[38;5;129;01min\u001b[39;00m axes\u001b[38;5;241m.\u001b[39mitems()\n\u001b[0;32m   5601\u001b[0m     \u001b[38;5;28;01mif\u001b[39;00m ax \u001b[38;5;129;01mis\u001b[39;00m \u001b[38;5;129;01mnot\u001b[39;00m \u001b[38;5;28;01mNone\u001b[39;00m\n\u001b[0;32m   5602\u001b[0m ):\n\u001b[1;32m-> 5603\u001b[0m     \u001b[38;5;28;01mreturn\u001b[39;00m \u001b[38;5;28;43mself\u001b[39;49m\u001b[38;5;241;43m.\u001b[39;49m\u001b[43mcopy\u001b[49m\u001b[43m(\u001b[49m\u001b[43mdeep\u001b[49m\u001b[38;5;241;43m=\u001b[39;49m\u001b[43mcopy\u001b[49m\u001b[43m)\u001b[49m\n\u001b[0;32m   5605\u001b[0m \u001b[38;5;66;03m# check if we are a multi reindex\u001b[39;00m\n\u001b[0;32m   5606\u001b[0m \u001b[38;5;28;01mif\u001b[39;00m \u001b[38;5;28mself\u001b[39m\u001b[38;5;241m.\u001b[39m_needs_reindex_multi(axes, method, level):\n",
      "File \u001b[1;32mg:\\JaneStreetReal\\v_market\\lib\\site-packages\\pandas\\core\\generic.py:6811\u001b[0m, in \u001b[0;36mNDFrame.copy\u001b[1;34m(self, deep)\u001b[0m\n\u001b[0;32m   6662\u001b[0m \u001b[38;5;129m@final\u001b[39m\n\u001b[0;32m   6663\u001b[0m \u001b[38;5;28;01mdef\u001b[39;00m \u001b[38;5;21mcopy\u001b[39m(\u001b[38;5;28mself\u001b[39m, deep: bool_t \u001b[38;5;241m|\u001b[39m \u001b[38;5;28;01mNone\u001b[39;00m \u001b[38;5;241m=\u001b[39m \u001b[38;5;28;01mTrue\u001b[39;00m) \u001b[38;5;241m-\u001b[39m\u001b[38;5;241m>\u001b[39m Self:\n\u001b[0;32m   6664\u001b[0m \u001b[38;5;250m    \u001b[39m\u001b[38;5;124;03m\"\"\"\u001b[39;00m\n\u001b[0;32m   6665\u001b[0m \u001b[38;5;124;03m    Make a copy of this object's indices and data.\u001b[39;00m\n\u001b[0;32m   6666\u001b[0m \n\u001b[1;32m   (...)\u001b[0m\n\u001b[0;32m   6809\u001b[0m \u001b[38;5;124;03m    dtype: int64\u001b[39;00m\n\u001b[0;32m   6810\u001b[0m \u001b[38;5;124;03m    \"\"\"\u001b[39;00m\n\u001b[1;32m-> 6811\u001b[0m     data \u001b[38;5;241m=\u001b[39m \u001b[38;5;28;43mself\u001b[39;49m\u001b[38;5;241;43m.\u001b[39;49m\u001b[43m_mgr\u001b[49m\u001b[38;5;241;43m.\u001b[39;49m\u001b[43mcopy\u001b[49m\u001b[43m(\u001b[49m\u001b[43mdeep\u001b[49m\u001b[38;5;241;43m=\u001b[39;49m\u001b[43mdeep\u001b[49m\u001b[43m)\u001b[49m\n\u001b[0;32m   6812\u001b[0m     \u001b[38;5;28mself\u001b[39m\u001b[38;5;241m.\u001b[39m_clear_item_cache()\n\u001b[0;32m   6813\u001b[0m     \u001b[38;5;28;01mreturn\u001b[39;00m \u001b[38;5;28mself\u001b[39m\u001b[38;5;241m.\u001b[39m_constructor_from_mgr(data, axes\u001b[38;5;241m=\u001b[39mdata\u001b[38;5;241m.\u001b[39maxes)\u001b[38;5;241m.\u001b[39m__finalize__(\n\u001b[0;32m   6814\u001b[0m         \u001b[38;5;28mself\u001b[39m, method\u001b[38;5;241m=\u001b[39m\u001b[38;5;124m\"\u001b[39m\u001b[38;5;124mcopy\u001b[39m\u001b[38;5;124m\"\u001b[39m\n\u001b[0;32m   6815\u001b[0m     )\n",
      "File \u001b[1;32mg:\\JaneStreetReal\\v_market\\lib\\site-packages\\pandas\\core\\internals\\managers.py:604\u001b[0m, in \u001b[0;36mBaseBlockManager.copy\u001b[1;34m(self, deep)\u001b[0m\n\u001b[0;32m    601\u001b[0m         res\u001b[38;5;241m.\u001b[39m_blklocs \u001b[38;5;241m=\u001b[39m \u001b[38;5;28mself\u001b[39m\u001b[38;5;241m.\u001b[39m_blklocs\u001b[38;5;241m.\u001b[39mcopy()\n\u001b[0;32m    603\u001b[0m \u001b[38;5;28;01mif\u001b[39;00m deep:\n\u001b[1;32m--> 604\u001b[0m     \u001b[43mres\u001b[49m\u001b[38;5;241;43m.\u001b[39;49m\u001b[43m_consolidate_inplace\u001b[49m\u001b[43m(\u001b[49m\u001b[43m)\u001b[49m\n\u001b[0;32m    605\u001b[0m \u001b[38;5;28;01mreturn\u001b[39;00m res\n",
      "File \u001b[1;32mg:\\JaneStreetReal\\v_market\\lib\\site-packages\\pandas\\core\\internals\\managers.py:1788\u001b[0m, in \u001b[0;36mBlockManager._consolidate_inplace\u001b[1;34m(self)\u001b[0m\n\u001b[0;32m   1782\u001b[0m \u001b[38;5;28;01mdef\u001b[39;00m \u001b[38;5;21m_consolidate_inplace\u001b[39m(\u001b[38;5;28mself\u001b[39m) \u001b[38;5;241m-\u001b[39m\u001b[38;5;241m>\u001b[39m \u001b[38;5;28;01mNone\u001b[39;00m:\n\u001b[0;32m   1783\u001b[0m     \u001b[38;5;66;03m# In general, _consolidate_inplace should only be called via\u001b[39;00m\n\u001b[0;32m   1784\u001b[0m     \u001b[38;5;66;03m#  DataFrame._consolidate_inplace, otherwise we will fail to invalidate\u001b[39;00m\n\u001b[0;32m   1785\u001b[0m     \u001b[38;5;66;03m#  the DataFrame's _item_cache. The exception is for newly-created\u001b[39;00m\n\u001b[0;32m   1786\u001b[0m     \u001b[38;5;66;03m#  BlockManager objects not yet attached to a DataFrame.\u001b[39;00m\n\u001b[0;32m   1787\u001b[0m     \u001b[38;5;28;01mif\u001b[39;00m \u001b[38;5;129;01mnot\u001b[39;00m \u001b[38;5;28mself\u001b[39m\u001b[38;5;241m.\u001b[39mis_consolidated():\n\u001b[1;32m-> 1788\u001b[0m         \u001b[38;5;28mself\u001b[39m\u001b[38;5;241m.\u001b[39mblocks \u001b[38;5;241m=\u001b[39m \u001b[43m_consolidate\u001b[49m\u001b[43m(\u001b[49m\u001b[38;5;28;43mself\u001b[39;49m\u001b[38;5;241;43m.\u001b[39;49m\u001b[43mblocks\u001b[49m\u001b[43m)\u001b[49m\n\u001b[0;32m   1789\u001b[0m         \u001b[38;5;28mself\u001b[39m\u001b[38;5;241m.\u001b[39m_is_consolidated \u001b[38;5;241m=\u001b[39m \u001b[38;5;28;01mTrue\u001b[39;00m\n\u001b[0;32m   1790\u001b[0m         \u001b[38;5;28mself\u001b[39m\u001b[38;5;241m.\u001b[39m_known_consolidated \u001b[38;5;241m=\u001b[39m \u001b[38;5;28;01mTrue\u001b[39;00m\n",
      "File \u001b[1;32mg:\\JaneStreetReal\\v_market\\lib\\site-packages\\pandas\\core\\internals\\managers.py:2269\u001b[0m, in \u001b[0;36m_consolidate\u001b[1;34m(blocks)\u001b[0m\n\u001b[0;32m   2267\u001b[0m new_blocks: \u001b[38;5;28mlist\u001b[39m[Block] \u001b[38;5;241m=\u001b[39m []\n\u001b[0;32m   2268\u001b[0m \u001b[38;5;28;01mfor\u001b[39;00m (_can_consolidate, dtype), group_blocks \u001b[38;5;129;01min\u001b[39;00m grouper:\n\u001b[1;32m-> 2269\u001b[0m     merged_blocks, _ \u001b[38;5;241m=\u001b[39m \u001b[43m_merge_blocks\u001b[49m\u001b[43m(\u001b[49m\n\u001b[0;32m   2270\u001b[0m \u001b[43m        \u001b[49m\u001b[38;5;28;43mlist\u001b[39;49m\u001b[43m(\u001b[49m\u001b[43mgroup_blocks\u001b[49m\u001b[43m)\u001b[49m\u001b[43m,\u001b[49m\u001b[43m \u001b[49m\u001b[43mdtype\u001b[49m\u001b[38;5;241;43m=\u001b[39;49m\u001b[43mdtype\u001b[49m\u001b[43m,\u001b[49m\u001b[43m \u001b[49m\u001b[43mcan_consolidate\u001b[49m\u001b[38;5;241;43m=\u001b[39;49m\u001b[43m_can_consolidate\u001b[49m\n\u001b[0;32m   2271\u001b[0m \u001b[43m    \u001b[49m\u001b[43m)\u001b[49m\n\u001b[0;32m   2272\u001b[0m     new_blocks \u001b[38;5;241m=\u001b[39m extend_blocks(merged_blocks, new_blocks)\n\u001b[0;32m   2273\u001b[0m \u001b[38;5;28;01mreturn\u001b[39;00m \u001b[38;5;28mtuple\u001b[39m(new_blocks)\n",
      "File \u001b[1;32mg:\\JaneStreetReal\\v_market\\lib\\site-packages\\pandas\\core\\internals\\managers.py:2294\u001b[0m, in \u001b[0;36m_merge_blocks\u001b[1;34m(blocks, dtype, can_consolidate)\u001b[0m\n\u001b[0;32m   2287\u001b[0m new_values: ArrayLike\n\u001b[0;32m   2289\u001b[0m \u001b[38;5;28;01mif\u001b[39;00m \u001b[38;5;28misinstance\u001b[39m(blocks[\u001b[38;5;241m0\u001b[39m]\u001b[38;5;241m.\u001b[39mdtype, np\u001b[38;5;241m.\u001b[39mdtype):\n\u001b[0;32m   2290\u001b[0m     \u001b[38;5;66;03m# error: List comprehension has incompatible type List[Union[ndarray,\u001b[39;00m\n\u001b[0;32m   2291\u001b[0m     \u001b[38;5;66;03m# ExtensionArray]]; expected List[Union[complex, generic,\u001b[39;00m\n\u001b[0;32m   2292\u001b[0m     \u001b[38;5;66;03m# Sequence[Union[int, float, complex, str, bytes, generic]],\u001b[39;00m\n\u001b[0;32m   2293\u001b[0m     \u001b[38;5;66;03m# Sequence[Sequence[Any]], SupportsArray]]\u001b[39;00m\n\u001b[1;32m-> 2294\u001b[0m     new_values \u001b[38;5;241m=\u001b[39m \u001b[43mnp\u001b[49m\u001b[38;5;241;43m.\u001b[39;49m\u001b[43mvstack\u001b[49m\u001b[43m(\u001b[49m\u001b[43m[\u001b[49m\u001b[43mb\u001b[49m\u001b[38;5;241;43m.\u001b[39;49m\u001b[43mvalues\u001b[49m\u001b[43m \u001b[49m\u001b[38;5;28;43;01mfor\u001b[39;49;00m\u001b[43m \u001b[49m\u001b[43mb\u001b[49m\u001b[43m \u001b[49m\u001b[38;5;129;43;01min\u001b[39;49;00m\u001b[43m \u001b[49m\u001b[43mblocks\u001b[49m\u001b[43m]\u001b[49m\u001b[43m)\u001b[49m  \u001b[38;5;66;03m# type: ignore[misc]\u001b[39;00m\n\u001b[0;32m   2295\u001b[0m \u001b[38;5;28;01melse\u001b[39;00m:\n\u001b[0;32m   2296\u001b[0m     bvals \u001b[38;5;241m=\u001b[39m [blk\u001b[38;5;241m.\u001b[39mvalues \u001b[38;5;28;01mfor\u001b[39;00m blk \u001b[38;5;129;01min\u001b[39;00m blocks]\n",
      "File \u001b[1;32mg:\\JaneStreetReal\\v_market\\lib\\site-packages\\numpy\\_core\\shape_base.py:291\u001b[0m, in \u001b[0;36mvstack\u001b[1;34m(tup, dtype, casting)\u001b[0m\n\u001b[0;32m    289\u001b[0m \u001b[38;5;28;01mif\u001b[39;00m \u001b[38;5;129;01mnot\u001b[39;00m \u001b[38;5;28misinstance\u001b[39m(arrs, \u001b[38;5;28mtuple\u001b[39m):\n\u001b[0;32m    290\u001b[0m     arrs \u001b[38;5;241m=\u001b[39m (arrs,)\n\u001b[1;32m--> 291\u001b[0m \u001b[38;5;28;01mreturn\u001b[39;00m \u001b[43m_nx\u001b[49m\u001b[38;5;241;43m.\u001b[39;49m\u001b[43mconcatenate\u001b[49m\u001b[43m(\u001b[49m\u001b[43marrs\u001b[49m\u001b[43m,\u001b[49m\u001b[43m \u001b[49m\u001b[38;5;241;43m0\u001b[39;49m\u001b[43m,\u001b[49m\u001b[43m \u001b[49m\u001b[43mdtype\u001b[49m\u001b[38;5;241;43m=\u001b[39;49m\u001b[43mdtype\u001b[49m\u001b[43m,\u001b[49m\u001b[43m \u001b[49m\u001b[43mcasting\u001b[49m\u001b[38;5;241;43m=\u001b[39;49m\u001b[43mcasting\u001b[49m\u001b[43m)\u001b[49m\n",
      "\u001b[1;31mMemoryError\u001b[0m: Unable to allocate 15.1 GiB for an array with shape (86, 47127338) and data type float32"
     ]
    }
   ],
   "source": [
    "train_data_pd = train_data.compute()\n",
    "train_data_pl = pl.from_pandas(train_data_pd)"
   ]
  },
  {
   "cell_type": "code",
   "execution_count": null,
   "metadata": {},
   "outputs": [
    {
     "ename": "AttributeError",
     "evalue": "'DataFrame' object has no attribute 'select'",
     "output_type": "error",
     "traceback": [
      "\u001b[1;31m---------------------------------------------------------------------------\u001b[0m",
      "\u001b[1;31mAttributeError\u001b[0m                            Traceback (most recent call last)",
      "Cell \u001b[1;32mIn[18], line 8\u001b[0m\n\u001b[0;32m      2\u001b[0m \u001b[38;5;28;01mimport\u001b[39;00m \u001b[38;5;21;01mmatplotlib\u001b[39;00m\u001b[38;5;21;01m.\u001b[39;00m\u001b[38;5;21;01mpyplot\u001b[39;00m \u001b[38;5;28;01mas\u001b[39;00m \u001b[38;5;21;01mplt\u001b[39;00m\n\u001b[0;32m      4\u001b[0m \u001b[38;5;66;03m# Assume train_data is a Polars DataFrame\u001b[39;00m\n\u001b[0;32m      5\u001b[0m \n\u001b[0;32m      6\u001b[0m \u001b[38;5;66;03m# Compute count_weights\u001b[39;00m\n\u001b[0;32m      7\u001b[0m count_weights \u001b[38;5;241m=\u001b[39m (\n\u001b[1;32m----> 8\u001b[0m     \u001b[43mtrain_data\u001b[49m\u001b[38;5;241;43m.\u001b[39;49m\u001b[43mselect\u001b[49m([\u001b[38;5;124m'\u001b[39m\u001b[38;5;124mdate_id\u001b[39m\u001b[38;5;124m'\u001b[39m, \u001b[38;5;124m'\u001b[39m\u001b[38;5;124mweight\u001b[39m\u001b[38;5;124m'\u001b[39m])\n\u001b[0;32m      9\u001b[0m     \u001b[38;5;241m.\u001b[39mgroupby(\u001b[38;5;124m'\u001b[39m\u001b[38;5;124mdate_id\u001b[39m\u001b[38;5;124m'\u001b[39m)\n\u001b[0;32m     10\u001b[0m     \u001b[38;5;241m.\u001b[39magg(pl\u001b[38;5;241m.\u001b[39mcount(\u001b[38;5;124m'\u001b[39m\u001b[38;5;124mweight\u001b[39m\u001b[38;5;124m'\u001b[39m)\u001b[38;5;241m.\u001b[39malias(\u001b[38;5;124m'\u001b[39m\u001b[38;5;124mweights\u001b[39m\u001b[38;5;124m'\u001b[39m))\n\u001b[0;32m     11\u001b[0m )\n\u001b[0;32m     13\u001b[0m \u001b[38;5;66;03m# Compute missing features per row\u001b[39;00m\n\u001b[0;32m     14\u001b[0m cols \u001b[38;5;241m=\u001b[39m train_data\u001b[38;5;241m.\u001b[39mcolumns[\u001b[38;5;241m7\u001b[39m:\u001b[38;5;241m137\u001b[39m]  \u001b[38;5;66;03m# Adjust column indices as needed\u001b[39;00m\n",
      "File \u001b[1;32mg:\\JaneStreetReal\\v_market\\lib\\site-packages\\dask\\dataframe\\core.py:5050\u001b[0m, in \u001b[0;36mDataFrame.__getattr__\u001b[1;34m(self, key)\u001b[0m\n\u001b[0;32m   5048\u001b[0m     \u001b[38;5;28mobject\u001b[39m\u001b[38;5;241m.\u001b[39m\u001b[38;5;21m__getattribute__\u001b[39m(\u001b[38;5;28mself\u001b[39m, key)\n\u001b[0;32m   5049\u001b[0m \u001b[38;5;28;01melse\u001b[39;00m:\n\u001b[1;32m-> 5050\u001b[0m     \u001b[38;5;28;01mraise\u001b[39;00m \u001b[38;5;167;01mAttributeError\u001b[39;00m(\u001b[38;5;124m\"\u001b[39m\u001b[38;5;124m'\u001b[39m\u001b[38;5;124mDataFrame\u001b[39m\u001b[38;5;124m'\u001b[39m\u001b[38;5;124m object has no attribute \u001b[39m\u001b[38;5;132;01m%r\u001b[39;00m\u001b[38;5;124m\"\u001b[39m \u001b[38;5;241m%\u001b[39m key)\n",
      "\u001b[1;31mAttributeError\u001b[0m: 'DataFrame' object has no attribute 'select'"
     ]
    }
   ],
   "source": [
    "count_weights = (\n",
    "    train_data_pl.select(['date_id', +'weight'])\n",
    "    .groupby('date_id')\n",
    "    .agg(pl.count('weight').alias('weights'))\n",
    ")\n",
    "\n",
    "# Compute missing features per row\n",
    "cols = train_data_pl.columns[7:137]  # Adjust column indices as needed\n",
    "missing_per_row = train_data_pl.select(\n",
    "    ['date_id'] + cols\n",
    ").with_columns(\n",
    "    pl.sum(pl.col(cols).is_null().cast(pl.Int8), axis=1).alias('missing')\n",
    ").select(['date_id', 'missing'])\n",
    "\n",
    "# Group by 'date_id' and sum 'missing'\n",
    "missing_features = missing_per_row.groupby('date_id').agg(pl.sum('missing').alias('missing'))\n",
    "\n",
    "# Merge DataFrames using Polars' join\n",
    "result = count_weights.join(missing_features, on='date_id', how='inner')\n",
    "\n",
    "# Calculate 'ratio' and 'missing_per_trade'\n",
    "result = result.with_columns((pl.col('missing') / pl.col('weights')).alias('ratio'))\n",
    "missing_per_trade = result['ratio'].mean()\n",
    "\n",
    "# Now make a plot\n",
    "plt.figure(figsize=(15, 5))\n",
    "plt.plot(result['date_id'].to_pandas(), result['ratio'].to_pandas())\n",
    "plt.axhline(missing_per_trade, linestyle='--', alpha=0.85, color='r')\n",
    "plt.xlabel(\"Day\", fontsize=18)\n",
    "plt.title(\"Average Number of Missing Feature Values per Trade, for Each Day\", fontsize=18)\n",
    "plt.show()"
   ]
  },
  {
   "cell_type": "code",
   "execution_count": null,
   "metadata": {},
   "outputs": [],
   "source": []
  }
 ],
 "metadata": {
  "kernelspec": {
   "display_name": "v_market",
   "language": "python",
   "name": "python3"
  },
  "language_info": {
   "codemirror_mode": {
    "name": "ipython",
    "version": 3
   },
   "file_extension": ".py",
   "mimetype": "text/x-python",
   "name": "python",
   "nbconvert_exporter": "python",
   "pygments_lexer": "ipython3",
   "version": "3.10.2"
  }
 },
 "nbformat": 4,
 "nbformat_minor": 2
}
